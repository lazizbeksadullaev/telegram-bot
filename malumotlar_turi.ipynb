{
  "nbformat": 4,
  "nbformat_minor": 0,
  "metadata": {
    "colab": {
      "provenance": [],
      "collapsed_sections": [],
      "authorship_tag": "ABX9TyN5gkTxhMsGrZqIX6PPYxf4",
      "include_colab_link": true
    },
    "kernelspec": {
      "name": "python3",
      "display_name": "Python 3"
    },
    "language_info": {
      "name": "python"
    }
  },
  "cells": [
    {
      "cell_type": "markdown",
      "metadata": {
        "id": "view-in-github",
        "colab_type": "text"
      },
      "source": [
        "<a href=\"https://colab.research.google.com/github/lazizbeksadullaev/telegram-bot/blob/main/malumotlar_turi.ipynb\" target=\"_parent\"><img src=\"https://colab.research.google.com/assets/colab-badge.svg\" alt=\"Open In Colab\"/></a>"
      ]
    },
    {
      "cell_type": "code",
      "execution_count": 2,
      "metadata": {
        "id": "z_3k8RIMh-rP"
      },
      "outputs": [],
      "source": [
        "import numpy as np"
      ]
    },
    {
      "cell_type": "code",
      "source": [
        "array1 = np.array([1,2,3], dtype=np.float64)# bu float 64 malumot turiga ega massiv"
      ],
      "metadata": {
        "id": "hO4SmZhnkk-G"
      },
      "execution_count": 3,
      "outputs": []
    },
    {
      "cell_type": "code",
      "source": [
        "array1"
      ],
      "metadata": {
        "colab": {
          "base_uri": "https://localhost:8080/"
        },
        "id": "gFWEEHdjk5pk",
        "outputId": "afd8b9c3-3c33-4612-fb22-45baf199e211"
      },
      "execution_count": 4,
      "outputs": [
        {
          "output_type": "execute_result",
          "data": {
            "text/plain": [
              "array([1., 2., 3.])"
            ]
          },
          "metadata": {},
          "execution_count": 4
        }
      ]
    },
    {
      "cell_type": "code",
      "source": [
        "array2 = np.array([4,5,6], dtype=np.int32) # bu int32 malumot turiga ega massiv\n",
        "array2"
      ],
      "metadata": {
        "colab": {
          "base_uri": "https://localhost:8080/"
        },
        "id": "h3dmxqiGk8Kv",
        "outputId": "c3a9acb5-320a-4a9a-c399-63cc0dad46c1"
      },
      "execution_count": 5,
      "outputs": [
        {
          "output_type": "execute_result",
          "data": {
            "text/plain": [
              "array([4, 5, 6], dtype=int32)"
            ]
          },
          "metadata": {},
          "execution_count": 5
        }
      ]
    },
    {
      "cell_type": "code",
      "source": [
        "# etibor bersak bu yerda array1 va array2 natijalarida array2 da dtype turi ham qaytdi array1 da aesa yo'q.\n",
        "# lekin havotrga o'rin yo'q, bunda har bir massivning malumot turini olish dtype(data type) nomli metod bor:"
      ],
      "metadata": {
        "id": "KY1DAkZ6lLSS"
      },
      "execution_count": 6,
      "outputs": []
    },
    {
      "cell_type": "code",
      "source": [
        "array1.dtype"
      ],
      "metadata": {
        "colab": {
          "base_uri": "https://localhost:8080/"
        },
        "id": "2QU3PEf5lqzy",
        "outputId": "d2b95d67-186a-4935-fd29-7ac2d1c90cf3"
      },
      "execution_count": 8,
      "outputs": [
        {
          "output_type": "execute_result",
          "data": {
            "text/plain": [
              "dtype('float64')"
            ]
          },
          "metadata": {},
          "execution_count": 8
        }
      ]
    },
    {
      "cell_type": "code",
      "source": [
        "array2.dtype # massiv malumot turini aniqlash"
      ],
      "metadata": {
        "colab": {
          "base_uri": "https://localhost:8080/"
        },
        "id": "mttBUPF2lvYY",
        "outputId": "2b969c11-2945-4bd5-e261-f4976e793562"
      },
      "execution_count": 9,
      "outputs": [
        {
          "output_type": "execute_result",
          "data": {
            "text/plain": [
              "dtype('int32')"
            ]
          },
          "metadata": {},
          "execution_count": 9
        }
      ]
    },
    {
      "cell_type": "code",
      "source": [
        "# Bir turdagi malumot turidan 2-turdagi malumot turiga o'tish"
      ],
      "metadata": {
        "id": "DhaQX9ACl9WF"
      },
      "execution_count": 10,
      "outputs": []
    },
    {
      "cell_type": "code",
      "source": [
        "# "
      ],
      "metadata": {
        "id": "7aE4h9MqmEvq"
      },
      "execution_count": 11,
      "outputs": []
    },
    {
      "cell_type": "code",
      "source": [
        "array3 = np.array([1,2,3,4]) # Mana shunday array metodi ichiga iteravtive object yuborganimizda bu iterativening hamma eltlari\n",
        "# butun sonlar bo'sa va biz dtype ni ko;rstamasak numpy avtomatik array3 ni int64 deb hisoblaydi\n",
        "array3"
      ],
      "metadata": {
        "colab": {
          "base_uri": "https://localhost:8080/"
        },
        "id": "RLOo3IWVmPgx",
        "outputId": "9c77ae5d-36c8-4664-bdfb-aba4bb8dabb2"
      },
      "execution_count": 13,
      "outputs": [
        {
          "output_type": "execute_result",
          "data": {
            "text/plain": [
              "array([1, 2, 3, 4])"
            ]
          },
          "metadata": {},
          "execution_count": 13
        }
      ]
    },
    {
      "cell_type": "code",
      "source": [
        "array3.dtype # int64 ni qaytaradi"
      ],
      "metadata": {
        "colab": {
          "base_uri": "https://localhost:8080/"
        },
        "id": "sJjYMNjwmhSf",
        "outputId": "79f8e1b6-3750-493d-f391-e552e4047d08"
      },
      "execution_count": 14,
      "outputs": [
        {
          "output_type": "execute_result",
          "data": {
            "text/plain": [
              "dtype('int64')"
            ]
          },
          "metadata": {},
          "execution_count": 14
        }
      ]
    },
    {
      "cell_type": "code",
      "source": [
        "# Endi int64 dagi array3 ni float64 ga o'girishni o'rganamiz:\n",
        "# buning uchun numpyda astype(dtype) ko'rinishdagi metod bor"
      ],
      "metadata": {
        "id": "rS_qG9wsm6Qb"
      },
      "execution_count": 18,
      "outputs": []
    },
    {
      "cell_type": "code",
      "source": [
        "float_arr = array3.astype(np.float64)\n",
        "float_arr"
      ],
      "metadata": {
        "colab": {
          "base_uri": "https://localhost:8080/"
        },
        "id": "2HwTQdENnR4f",
        "outputId": "057661c6-91ad-45c5-f7a7-bb554eae4acf"
      },
      "execution_count": 19,
      "outputs": [
        {
          "output_type": "execute_result",
          "data": {
            "text/plain": [
              "array([1., 2., 3., 4.])"
            ]
          },
          "metadata": {},
          "execution_count": 19
        }
      ]
    },
    {
      "cell_type": "code",
      "source": [
        "float_arr.dtype # float_arr ni date type ni tekkshirib ko'rsak:"
      ],
      "metadata": {
        "colab": {
          "base_uri": "https://localhost:8080/"
        },
        "id": "YG0JkbTynwYd",
        "outputId": "5d7f93be-f7e0-415e-cbbf-0ce338e52236"
      },
      "execution_count": 20,
      "outputs": [
        {
          "output_type": "execute_result",
          "data": {
            "text/plain": [
              "dtype('float64')"
            ]
          },
          "metadata": {},
          "execution_count": 20
        }
      ]
    },
    {
      "cell_type": "code",
      "source": [
        "# Note that, float turidagi dtypedan int dtype ga o'tganda yo'qotishlar bo'lishi mumkin.\n",
        "# menimcha butun qismlarni olib intlab ketsa kerak"
      ],
      "metadata": {
        "id": "vOBDdAM8n8fS"
      },
      "execution_count": 21,
      "outputs": []
    },
    {
      "cell_type": "code",
      "source": [
        "data1 = np.array([6, 5.7, 1.8, 4]) # aytganmizdek dtypeni ko'rsatmasak ham numpy iterative ichidagi\n",
        "# 1 ta bo'lsa ham haqiqiy sonni ko'rib olsa unga float64 dtype berib ketadi\n",
        "data1"
      ],
      "metadata": {
        "colab": {
          "base_uri": "https://localhost:8080/"
        },
        "id": "dWIQuohWoQqG",
        "outputId": "3cf8268e-1ddb-4d13-f644-1bd2d409ddc0"
      },
      "execution_count": 27,
      "outputs": [
        {
          "output_type": "execute_result",
          "data": {
            "text/plain": [
              "array([6. , 5.7, 1.8, 4. ])"
            ]
          },
          "metadata": {},
          "execution_count": 27
        }
      ]
    },
    {
      "cell_type": "code",
      "source": [
        "data1.dtype"
      ],
      "metadata": {
        "colab": {
          "base_uri": "https://localhost:8080/"
        },
        "id": "lFYkrwYNowsO",
        "outputId": "f3866715-5f70-4c43-f374-513ed192c667"
      },
      "execution_count": 28,
      "outputs": [
        {
          "output_type": "execute_result",
          "data": {
            "text/plain": [
              "dtype('float64')"
            ]
          },
          "metadata": {},
          "execution_count": 28
        }
      ]
    },
    {
      "cell_type": "code",
      "source": [
        "# Keling endi bu data1 float64 dtype massivni int64 dtype massivga o'tirsak ko'ramiz nimalar yo'qotishimizni"
      ],
      "metadata": {
        "id": "FSppy1H-o0Dn"
      },
      "execution_count": 29,
      "outputs": []
    },
    {
      "cell_type": "code",
      "source": [
        "int_data1 = data1.astype(np.int64) # astype dan foydalanib masivni dtype ni o'zgartirish\n",
        "int_data1 # demak hamam eltlarni faqat butun qismini olib ketarkan. qolgan qismini tawab yuboradi"
      ],
      "metadata": {
        "colab": {
          "base_uri": "https://localhost:8080/"
        },
        "id": "wGY8ILSdphsw",
        "outputId": "45b0fd44-f148-4719-f164-14c4ffd17f9c"
      },
      "execution_count": 31,
      "outputs": [
        {
          "output_type": "execute_result",
          "data": {
            "text/plain": [
              "array([6, 5, 1, 4])"
            ]
          },
          "metadata": {},
          "execution_count": 31
        }
      ]
    },
    {
      "cell_type": "code",
      "source": [
        "int_data1.dtype # keling int_data1  ji dtypeni ko;ramiz"
      ],
      "metadata": {
        "colab": {
          "base_uri": "https://localhost:8080/"
        },
        "id": "1piAvfzApt7w",
        "outputId": "f060bc30-b439-4cc9-81c2-3699e5467f0a"
      },
      "execution_count": 32,
      "outputs": [
        {
          "output_type": "execute_result",
          "data": {
            "text/plain": [
              "dtype('int64')"
            ]
          },
          "metadata": {},
          "execution_count": 32
        }
      ]
    },
    {
      "cell_type": "code",
      "source": [],
      "metadata": {
        "id": "Yu3IEnH7qCP5"
      },
      "execution_count": null,
      "outputs": []
    }
  ]
}