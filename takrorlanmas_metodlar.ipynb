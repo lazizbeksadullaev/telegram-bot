{
  "nbformat": 4,
  "nbformat_minor": 0,
  "metadata": {
    "colab": {
      "provenance": [],
      "collapsed_sections": [],
      "authorship_tag": "ABX9TyM45NkdbNAZpQYOvDU5vjzj",
      "include_colab_link": true
    },
    "kernelspec": {
      "name": "python3",
      "display_name": "Python 3"
    },
    "language_info": {
      "name": "python"
    }
  },
  "cells": [
    {
      "cell_type": "markdown",
      "metadata": {
        "id": "view-in-github",
        "colab_type": "text"
      },
      "source": [
        "<a href=\"https://colab.research.google.com/github/lazizbeksadullaev/telegram-bot/blob/main/takrorlanmas_metodlar.ipynb\" target=\"_parent\"><img src=\"https://colab.research.google.com/assets/colab-badge.svg\" alt=\"Open In Colab\"/></a>"
      ]
    },
    {
      "cell_type": "code",
      "execution_count": null,
      "metadata": {
        "id": "UEiOEkWQ2xqJ"
      },
      "outputs": [],
      "source": [
        "# Takrorlanams metodlar:\n",
        "# unique, in1d, setdiff1d"
      ]
    },
    {
      "cell_type": "code",
      "source": [
        "import numpy as np"
      ],
      "metadata": {
        "id": "y7AM6Wo93Jgt"
      },
      "execution_count": null,
      "outputs": []
    },
    {
      "cell_type": "code",
      "source": [
        "# data\n",
        "names = np.array([\"sarvar\", 'abdurahmon', 'hasan', 'temur', 'sarvar', 'temur'])\n",
        "ints= np.array([3,3,3,2,2,1,1,4,4])"
      ],
      "metadata": {
        "id": "UnABJ4w53LXo"
      },
      "execution_count": null,
      "outputs": []
    },
    {
      "cell_type": "code",
      "source": [
        "# unique-massivdagi takrorlanmas eltlani qaytaradi, takrorlansa 1 tasini olib qaytaradi\n",
        "np.unique(names)# namesdagi takrorlanmas eltlani qaytaradi, takrorlansa ham 1 tasini oladi\n",
        "# va qaytgan result massiv sorted versionda keladi"
      ],
      "metadata": {
        "colab": {
          "base_uri": "https://localhost:8080/"
        },
        "id": "GPVRBAmu3bWQ",
        "outputId": "ed62f860-b520-4dfa-df6f-d8743f89c448"
      },
      "execution_count": null,
      "outputs": [
        {
          "output_type": "execute_result",
          "data": {
            "text/plain": [
              "array(['abdurahmon', 'hasan', 'sarvar', 'temur'], dtype='<U10')"
            ]
          },
          "metadata": {},
          "execution_count": 7
        }
      ]
    },
    {
      "cell_type": "code",
      "source": [
        "# aslida unique = set ni o'zi bu numpyda\n",
        "set(names)# names ni set qildik"
      ],
      "metadata": {
        "colab": {
          "base_uri": "https://localhost:8080/"
        },
        "id": "FjmKcQM13--_",
        "outputId": "42ce952d-5769-48d9-9ade-bdb5d3982d57"
      },
      "execution_count": null,
      "outputs": [
        {
          "output_type": "execute_result",
          "data": {
            "text/plain": [
              "{'abdurahmon', 'hasan', 'sarvar', 'temur'}"
            ]
          },
          "metadata": {},
          "execution_count": 8
        }
      ]
    },
    {
      "cell_type": "code",
      "source": [
        "array1 = np.arange(6)\n",
        "array2 = np.arange(4, 8)\n",
        "array3 = np.arange(10, 15)"
      ],
      "metadata": {
        "id": "EOH5qTiu5IY8"
      },
      "execution_count": null,
      "outputs": []
    },
    {
      "cell_type": "code",
      "source": [
        "array1"
      ],
      "metadata": {
        "colab": {
          "base_uri": "https://localhost:8080/"
        },
        "id": "wHzFCKCa7uoA",
        "outputId": "6867081c-f342-41d1-f644-34a8a825e5a5"
      },
      "execution_count": null,
      "outputs": [
        {
          "output_type": "execute_result",
          "data": {
            "text/plain": [
              "array([0, 1, 2, 3, 4, 5])"
            ]
          },
          "metadata": {},
          "execution_count": 19
        }
      ]
    },
    {
      "cell_type": "code",
      "source": [
        "array2"
      ],
      "metadata": {
        "colab": {
          "base_uri": "https://localhost:8080/"
        },
        "id": "tkRDxXq37w7A",
        "outputId": "e8266021-e020-48c7-d1f8-64e2cde01039"
      },
      "execution_count": null,
      "outputs": [
        {
          "output_type": "execute_result",
          "data": {
            "text/plain": [
              "array([4, 5, 6, 7])"
            ]
          },
          "metadata": {},
          "execution_count": 20
        }
      ]
    },
    {
      "cell_type": "code",
      "source": [
        "np.in1d(array1, array2)# array1 ning qaysi eltlari array2 da bolikini jadvali\n",
        "# qaytgan bool massiv 1st (teslanyatrgan)argument uzunlikina teng bo'ladi"
      ],
      "metadata": {
        "colab": {
          "base_uri": "https://localhost:8080/"
        },
        "id": "mbMQX1Uh58Pe",
        "outputId": "9eb4472f-0edc-412d-c55e-208a2f3743aa"
      },
      "execution_count": null,
      "outputs": [
        {
          "output_type": "execute_result",
          "data": {
            "text/plain": [
              "array([False, False, False, False,  True,  True])"
            ]
          },
          "metadata": {},
          "execution_count": 18
        }
      ]
    },
    {
      "cell_type": "code",
      "source": [
        "np.isin(array1, array2)#  array1 ning qaysi eltlari array2 da bolikini jadvali\n",
        "# qaytgan bool massiv 1st (teslanyatrgan)argument uzunlikina teng bo'ladi"
      ],
      "metadata": {
        "colab": {
          "base_uri": "https://localhost:8080/"
        },
        "id": "0wA_2qYV6Wdy",
        "outputId": "14b69fcf-ae36-4dc3-e693-1aa8c1e3b13a"
      },
      "execution_count": null,
      "outputs": [
        {
          "output_type": "execute_result",
          "data": {
            "text/plain": [
              "array([False, False, False, False,  True,  True])"
            ]
          },
          "metadata": {},
          "execution_count": 21
        }
      ]
    },
    {
      "cell_type": "code",
      "source": [
        "array1"
      ],
      "metadata": {
        "colab": {
          "base_uri": "https://localhost:8080/"
        },
        "id": "MuFF5xPB7jIk",
        "outputId": "e15a3952-20bd-4d9f-b3b5-ac1d20fe7e1e"
      },
      "execution_count": null,
      "outputs": [
        {
          "output_type": "execute_result",
          "data": {
            "text/plain": [
              "array([0, 1, 2, 3, 4, 5])"
            ]
          },
          "metadata": {},
          "execution_count": 22
        }
      ]
    },
    {
      "cell_type": "code",
      "source": [
        "array2"
      ],
      "metadata": {
        "colab": {
          "base_uri": "https://localhost:8080/"
        },
        "id": "dAmZSpVc7hfu",
        "outputId": "3c8161a1-0815-4831-c971-36ec4dc71d62"
      },
      "execution_count": null,
      "outputs": [
        {
          "output_type": "execute_result",
          "data": {
            "text/plain": [
              "array([4, 5, 6, 7])"
            ]
          },
          "metadata": {},
          "execution_count": 23
        }
      ]
    },
    {
      "cell_type": "code",
      "source": [
        "np.isin(array2, array1)# arary 2 ni ihtiyoriy eltini olib shu array1 da bomi testlab ko'radi \n",
        "# agar shu elt bsa olingan eltni o'rnida True qiymatli massiv quriladi"
      ],
      "metadata": {
        "colab": {
          "base_uri": "https://localhost:8080/"
        },
        "id": "DALqGypF6oex",
        "outputId": "1c318565-7377-4e83-a062-7e0f718f538a"
      },
      "execution_count": null,
      "outputs": [
        {
          "output_type": "execute_result",
          "data": {
            "text/plain": [
              "array([ True,  True, False, False])"
            ]
          },
          "metadata": {},
          "execution_count": 25
        }
      ]
    },
    {
      "cell_type": "code",
      "source": [
        "array1"
      ],
      "metadata": {
        "colab": {
          "base_uri": "https://localhost:8080/"
        },
        "id": "DsyajWol9U2w",
        "outputId": "e19714ca-b86b-4868-fc57-ee16ad653eaf"
      },
      "execution_count": null,
      "outputs": [
        {
          "output_type": "execute_result",
          "data": {
            "text/plain": [
              "array([0, 1, 2, 3, 4, 5])"
            ]
          },
          "metadata": {},
          "execution_count": 27
        }
      ]
    },
    {
      "cell_type": "code",
      "source": [
        "array2"
      ],
      "metadata": {
        "colab": {
          "base_uri": "https://localhost:8080/"
        },
        "id": "0aFlC_KX9YII",
        "outputId": "3f02e031-0ebb-42a3-8b55-2777f1a246ae"
      },
      "execution_count": null,
      "outputs": [
        {
          "output_type": "execute_result",
          "data": {
            "text/plain": [
              "array([4, 5, 6, 7])"
            ]
          },
          "metadata": {},
          "execution_count": 28
        }
      ]
    },
    {
      "cell_type": "code",
      "source": [
        "# setdiff1D(arr1, arr2) # (arr1\\arr2) - to'plamla ustidagi ayirma o'xshidi arr1-arr2\n",
        "np.setdiff1d(array1, array2)"
      ],
      "metadata": {
        "colab": {
          "base_uri": "https://localhost:8080/"
        },
        "id": "DO1gu_8B7Yev",
        "outputId": "bc975764-de68-4aa2-9e69-f5e797ac3713"
      },
      "execution_count": null,
      "outputs": [
        {
          "output_type": "execute_result",
          "data": {
            "text/plain": [
              "array([0, 1, 2, 3])"
            ]
          },
          "metadata": {},
          "execution_count": 30
        }
      ]
    },
    {
      "cell_type": "code",
      "source": [
        "array3"
      ],
      "metadata": {
        "id": "ukBLtJ08-iC4",
        "outputId": "121a41dd-5bc3-4877-a339-5a0246fe9f92",
        "colab": {
          "base_uri": "https://localhost:8080/"
        }
      },
      "execution_count": null,
      "outputs": [
        {
          "output_type": "execute_result",
          "data": {
            "text/plain": [
              "array([10, 11, 12, 13, 14])"
            ]
          },
          "metadata": {},
          "execution_count": 32
        }
      ]
    },
    {
      "cell_type": "code",
      "source": [
        "np.setdiff1d(array2, array3)"
      ],
      "metadata": {
        "colab": {
          "base_uri": "https://localhost:8080/"
        },
        "id": "Zw6wvT9x9ZkU",
        "outputId": "54739917-65c5-4129-b5e0-cd7144676cb0"
      },
      "execution_count": null,
      "outputs": [
        {
          "output_type": "execute_result",
          "data": {
            "text/plain": [
              "array([4, 5, 6, 7])"
            ]
          },
          "metadata": {},
          "execution_count": 31
        }
      ]
    },
    {
      "cell_type": "code",
      "source": [],
      "metadata": {
        "id": "XZQqQxV8-eX6"
      },
      "execution_count": null,
      "outputs": []
    }
  ]
}