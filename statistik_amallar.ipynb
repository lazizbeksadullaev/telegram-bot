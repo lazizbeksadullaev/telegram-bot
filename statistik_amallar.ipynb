{
  "nbformat": 4,
  "nbformat_minor": 0,
  "metadata": {
    "colab": {
      "provenance": [],
      "collapsed_sections": [],
      "authorship_tag": "ABX9TyPMH8CuviVPh4CbZ5UzuR4b",
      "include_colab_link": true
    },
    "kernelspec": {
      "name": "python3",
      "display_name": "Python 3"
    },
    "language_info": {
      "name": "python"
    }
  },
  "cells": [
    {
      "cell_type": "markdown",
      "metadata": {
        "id": "view-in-github",
        "colab_type": "text"
      },
      "source": [
        "<a href=\"https://colab.research.google.com/github/lazizbeksadullaev/telegram-bot/blob/main/statistik_amallar.ipynb\" target=\"_parent\"><img src=\"https://colab.research.google.com/assets/colab-badge.svg\" alt=\"Open In Colab\"/></a>"
      ]
    },
    {
      "cell_type": "code",
      "execution_count": null,
      "metadata": {
        "id": "nWUBNeqDldIA"
      },
      "outputs": [],
      "source": [
        "# matematik va statistik amallar:"
      ]
    },
    {
      "cell_type": "code",
      "source": [
        "import numpy as np"
      ],
      "metadata": {
        "id": "N7UONGQCmSG-"
      },
      "execution_count": 2,
      "outputs": []
    },
    {
      "cell_type": "code",
      "source": [
        "# sum - arraydagi barcha eltlar yig'indisi\n",
        "# mean - o'rtacha\n",
        "# std - standart og'ish\n",
        "# var - variatsiya\n",
        "# cumsum - cumulative(yigilib boradigan) yig'indi\n",
        "# cumprod - cumulative(yigilib boradigan) ko'paytma"
      ],
      "metadata": {
        "id": "PhQiBREvllVC"
      },
      "execution_count": 3,
      "outputs": []
    },
    {
      "cell_type": "code",
      "source": [
        "# data yaratib olaylik\n",
        "array1 = np.random.rand(5,4)# o\\'lchami 5x4 lik bo'lgan tasodifiy sonladan iborat masiv yaratb beradi\n",
        "array2 = np.random.rand(5,4)\n",
        "array1"
      ],
      "metadata": {
        "colab": {
          "base_uri": "https://localhost:8080/"
        },
        "id": "zL3hh3BcmBvw",
        "outputId": "5017d5ce-64fc-46f8-f339-49295768d9a0"
      },
      "execution_count": 4,
      "outputs": [
        {
          "output_type": "execute_result",
          "data": {
            "text/plain": [
              "array([[0.78805693, 0.50215396, 0.83173945, 0.50420469],\n",
              "       [0.96350399, 0.09408748, 0.3378862 , 0.79951237],\n",
              "       [0.15470816, 0.49885651, 0.63664368, 0.50581189],\n",
              "       [0.82763594, 0.73377485, 0.09834631, 0.04762477],\n",
              "       [0.39483558, 0.48662768, 0.90227621, 0.44714969]])"
            ]
          },
          "metadata": {},
          "execution_count": 4
        }
      ]
    },
    {
      "cell_type": "code",
      "source": [
        "array2"
      ],
      "metadata": {
        "colab": {
          "base_uri": "https://localhost:8080/"
        },
        "id": "4nh9SES6mhqQ",
        "outputId": "22650e0d-bad4-4327-b474-82eed74c9a11"
      },
      "execution_count": 5,
      "outputs": [
        {
          "output_type": "execute_result",
          "data": {
            "text/plain": [
              "array([[0.48768852, 0.69094749, 0.48650247, 0.37600936],\n",
              "       [0.9739895 , 0.43896875, 0.70170971, 0.44979914],\n",
              "       [0.90626628, 0.36145766, 0.68433408, 0.33687536],\n",
              "       [0.65065823, 0.2376424 , 0.84011973, 0.88528038],\n",
              "       [0.02409606, 0.56396854, 0.95596503, 0.72819666]])"
            ]
          },
          "metadata": {},
          "execution_count": 5
        }
      ]
    },
    {
      "cell_type": "code",
      "source": [
        "array1.sum()# yoki buni boshqacha hamm ishlatish mumkin"
      ],
      "metadata": {
        "colab": {
          "base_uri": "https://localhost:8080/"
        },
        "id": "kNW9nuqQnKkd",
        "outputId": "e842a16b-8909-456d-e047-ec0616c9cd07"
      },
      "execution_count": 6,
      "outputs": [
        {
          "output_type": "execute_result",
          "data": {
            "text/plain": [
              "10.555436348658384"
            ]
          },
          "metadata": {},
          "execution_count": 6
        }
      ]
    },
    {
      "cell_type": "code",
      "source": [
        "np.sum(array1)"
      ],
      "metadata": {
        "colab": {
          "base_uri": "https://localhost:8080/"
        },
        "id": "xkI0mBlIndc8",
        "outputId": "95864e65-7870-4d18-bc69-d2174c1a6ef0"
      },
      "execution_count": 7,
      "outputs": [
        {
          "output_type": "execute_result",
          "data": {
            "text/plain": [
              "10.555436348658384"
            ]
          },
          "metadata": {},
          "execution_count": 7
        }
      ]
    },
    {
      "cell_type": "code",
      "source": [
        "array1.sum(axis=1)# Masivlarda kelishib olingan o'qlar mavjud. \n",
        "# Vertikal o'q yuqoridan pastga yo'nalgan 0-o'q\n",
        "# chapdan o'nga yo'nalgan gorizantal o'q- 1-o'q ekan. a\n",
        "# Demak agar biz qachon axis=0 desak vertikal o'qlarni(yuqidan-pastga) nazarda tutgan bo'lamiz va aksincha\n",
        "# axis=1 desak esa gorizantal(chapdan-o'nga) o'qlarni nazarda tutgan bo'lar ekanmiz:"
      ],
      "metadata": {
        "colab": {
          "base_uri": "https://localhost:8080/"
        },
        "id": "ySLrceRbn3rb",
        "outputId": "a9432a15-acbd-4d13-8af8-a57976add3aa"
      },
      "execution_count": 8,
      "outputs": [
        {
          "output_type": "execute_result",
          "data": {
            "text/plain": [
              "array([2.62615503, 2.19499004, 1.79602025, 1.70738187, 2.23088916])"
            ]
          },
          "metadata": {},
          "execution_count": 8
        }
      ]
    },
    {
      "cell_type": "code",
      "source": [
        "#sum(gorizantal_lines)=array([2.55240286, 2.83280704, 2.22042338, 2.06885317, 1.59074521])\n",
        "#                             0-qatr yi   1-q yig'si  2-qat yigi  3-qator yi  4-qr yig'si"
      ],
      "metadata": {
        "id": "Fmg9ntb8xfOc"
      },
      "execution_count": 9,
      "outputs": []
    },
    {
      "cell_type": "code",
      "source": [
        "# Ustunlar bo'yicha yig'indi hisoblamoqchi bo'sak axis=0,\n",
        "# chunki 0-o'q vertikal o'q sanalardi"
      ],
      "metadata": {
        "id": "WGyepDB5yADP"
      },
      "execution_count": 10,
      "outputs": []
    },
    {
      "cell_type": "code",
      "source": [
        "array1.sum(axis=0)# vertikal ustunlar yig'indisini hisoblaydi"
      ],
      "metadata": {
        "colab": {
          "base_uri": "https://localhost:8080/"
        },
        "id": "EIXUXV6jOOwG",
        "outputId": "cb3382ab-dab4-4342-d88e-2c0a199e1d93"
      },
      "execution_count": 11,
      "outputs": [
        {
          "output_type": "execute_result",
          "data": {
            "text/plain": [
              "array([3.1287406 , 2.31550048, 2.80689186, 2.3043034 ])"
            ]
          },
          "metadata": {},
          "execution_count": 11
        }
      ]
    },
    {
      "cell_type": "code",
      "source": [
        "# mean metodi"
      ],
      "metadata": {
        "id": "0GiCzTFBSLsW"
      },
      "execution_count": 12,
      "outputs": []
    },
    {
      "cell_type": "code",
      "source": [
        "data1 = np.arange(5)# sodda massiv tuzib u ustida mean ni ko'ramiz"
      ],
      "metadata": {
        "id": "h_fttZW3Oh6V"
      },
      "execution_count": 13,
      "outputs": []
    },
    {
      "cell_type": "code",
      "source": [
        "mean = np.sum(data1)/len(data1)\n",
        "mean"
      ],
      "metadata": {
        "colab": {
          "base_uri": "https://localhost:8080/"
        },
        "id": "_i1qiVkGSK3S",
        "outputId": "81c055ec-01a5-4f2a-94c7-4bae3d69c6be"
      },
      "execution_count": 14,
      "outputs": [
        {
          "output_type": "execute_result",
          "data": {
            "text/plain": [
              "2.0"
            ]
          },
          "metadata": {},
          "execution_count": 14
        }
      ]
    },
    {
      "cell_type": "code",
      "source": [
        "# numpy mean\n",
        "np.mean(data1)"
      ],
      "metadata": {
        "colab": {
          "base_uri": "https://localhost:8080/"
        },
        "id": "BRjerhdISYhv",
        "outputId": "39a8aeed-181f-43fd-e30a-a39bf8125cb4"
      },
      "execution_count": 15,
      "outputs": [
        {
          "output_type": "execute_result",
          "data": {
            "text/plain": [
              "2.0"
            ]
          },
          "metadata": {},
          "execution_count": 15
        }
      ]
    },
    {
      "cell_type": "code",
      "source": [
        "data1.mean()# data1 ning meanini olish uchuun ikisi ham o'rinli"
      ],
      "metadata": {
        "colab": {
          "base_uri": "https://localhost:8080/"
        },
        "id": "JU-EuPT2SiV-",
        "outputId": "2f896f3d-8961-4251-fcfb-8c8ceeffd34a"
      },
      "execution_count": 16,
      "outputs": [
        {
          "output_type": "execute_result",
          "data": {
            "text/plain": [
              "2.0"
            ]
          },
          "metadata": {},
          "execution_count": 16
        }
      ]
    },
    {
      "cell_type": "code",
      "source": [
        "array1"
      ],
      "metadata": {
        "colab": {
          "base_uri": "https://localhost:8080/"
        },
        "id": "v2oyBqdfSzh9",
        "outputId": "a515745d-e620-4b3d-b03c-139a0cd866fe"
      },
      "execution_count": 17,
      "outputs": [
        {
          "output_type": "execute_result",
          "data": {
            "text/plain": [
              "array([[0.78805693, 0.50215396, 0.83173945, 0.50420469],\n",
              "       [0.96350399, 0.09408748, 0.3378862 , 0.79951237],\n",
              "       [0.15470816, 0.49885651, 0.63664368, 0.50581189],\n",
              "       [0.82763594, 0.73377485, 0.09834631, 0.04762477],\n",
              "       [0.39483558, 0.48662768, 0.90227621, 0.44714969]])"
            ]
          },
          "metadata": {},
          "execution_count": 17
        }
      ]
    },
    {
      "cell_type": "code",
      "source": [
        "# Bu array1 ni meanini hisoblaylik\n",
        "np.mean(array1)"
      ],
      "metadata": {
        "colab": {
          "base_uri": "https://localhost:8080/"
        },
        "id": "quDvr61uS05N",
        "outputId": "0733295b-afdc-484e-e68b-ec9c5d606855"
      },
      "execution_count": 18,
      "outputs": [
        {
          "output_type": "execute_result",
          "data": {
            "text/plain": [
              "0.5277718174329192"
            ]
          },
          "metadata": {},
          "execution_count": 18
        }
      ]
    },
    {
      "cell_type": "code",
      "source": [
        "# Huddi ustun va qatorlardagidek har bir ustun va qatorlar mean ini hisoblaylik\n",
        "np.mean(array1, axis=0)# vertikaliga yuqoridan pastga har bir ustun mean ini hisoblash"
      ],
      "metadata": {
        "colab": {
          "base_uri": "https://localhost:8080/"
        },
        "id": "eky5afifTAJk",
        "outputId": "f1e6cbb9-9266-4f95-c45e-ad872e243ae5"
      },
      "execution_count": 19,
      "outputs": [
        {
          "output_type": "execute_result",
          "data": {
            "text/plain": [
              "array([0.62574812, 0.4631001 , 0.56137837, 0.46086068])"
            ]
          },
          "metadata": {},
          "execution_count": 19
        }
      ]
    },
    {
      "cell_type": "code",
      "source": [
        "np.mean(array1, axis=1)# bu esa gorizontaliga chapdan o'nga har bir qator mean ini hisoblash\n",
        "# np.mean(array1, axis=1)==array1.mean(axis=1) kabi ham ishlatish mumkin, \n",
        "# o'zingizga yoqqaniga o'rganib olishingiz mumkin"
      ],
      "metadata": {
        "id": "5oN0RH8MTiY6",
        "colab": {
          "base_uri": "https://localhost:8080/"
        },
        "outputId": "02298c1c-e2e4-402c-c936-211079e08385"
      },
      "execution_count": 20,
      "outputs": [
        {
          "output_type": "execute_result",
          "data": {
            "text/plain": [
              "array([0.65653876, 0.54874751, 0.44900506, 0.42684547, 0.55772229])"
            ]
          },
          "metadata": {},
          "execution_count": 20
        }
      ]
    },
    {
      "cell_type": "code",
      "source": [
        "array1.mean(axis=1)# korishungiz mumkinki yuqoridagi 20-qatordagi kod bilan bir hil"
      ],
      "metadata": {
        "colab": {
          "base_uri": "https://localhost:8080/"
        },
        "id": "fot9dFlP6zRm",
        "outputId": "504e890a-8c1b-4fce-82d6-282696d2c0e7"
      },
      "execution_count": 22,
      "outputs": [
        {
          "output_type": "execute_result",
          "data": {
            "text/plain": [
              "array([0.65653876, 0.54874751, 0.44900506, 0.42684547, 0.55772229])"
            ]
          },
          "metadata": {},
          "execution_count": 22
        }
      ]
    },
    {
      "cell_type": "code",
      "source": [
        "# cumsum - cumulative sum-jamlanib(yig'ilib) boradigan yig'indi"
      ],
      "metadata": {
        "id": "Xbj0gkUU67o6"
      },
      "execution_count": 23,
      "outputs": []
    },
    {
      "cell_type": "code",
      "source": [
        "data1"
      ],
      "metadata": {
        "colab": {
          "base_uri": "https://localhost:8080/"
        },
        "id": "zYDUk6z78L8A",
        "outputId": "87639b6a-9c97-4e71-a496-05a8b75bf7bb"
      },
      "execution_count": 26,
      "outputs": [
        {
          "output_type": "execute_result",
          "data": {
            "text/plain": [
              "array([0, 1, 2, 3, 4])"
            ]
          },
          "metadata": {},
          "execution_count": 26
        }
      ]
    },
    {
      "cell_type": "code",
      "source": [
        "data1.cumsum()# data1 ning oz'ini har bir eltini o'zidan oldingi eltlarini \n",
        "# yig'indisini massiv qilib qaytaradi"
      ],
      "metadata": {
        "colab": {
          "base_uri": "https://localhost:8080/"
        },
        "id": "rUW8sTi08MTG",
        "outputId": "2403c262-1d5e-4082-acf4-dcb5bf50137d"
      },
      "execution_count": 27,
      "outputs": [
        {
          "output_type": "execute_result",
          "data": {
            "text/plain": [
              "array([ 0,  1,  3,  6, 10])"
            ]
          },
          "metadata": {},
          "execution_count": 27
        }
      ]
    },
    {
      "cell_type": "code",
      "source": [
        "np.cumsum(data1)# 27-linening alternative "
      ],
      "metadata": {
        "colab": {
          "base_uri": "https://localhost:8080/"
        },
        "id": "Eq0y6vMv8lRm",
        "outputId": "a1425135-b90d-406b-ecf3-a3332715266a"
      },
      "execution_count": 28,
      "outputs": [
        {
          "output_type": "execute_result",
          "data": {
            "text/plain": [
              "array([ 0,  1,  3,  6, 10])"
            ]
          },
          "metadata": {},
          "execution_count": 28
        }
      ]
    },
    {
      "cell_type": "code",
      "source": [
        "array1"
      ],
      "metadata": {
        "colab": {
          "base_uri": "https://localhost:8080/"
        },
        "id": "F5PIud2b9CH7",
        "outputId": "4a0ca095-cddd-487f-a6da-c6a1bb22a5ef"
      },
      "execution_count": 30,
      "outputs": [
        {
          "output_type": "execute_result",
          "data": {
            "text/plain": [
              "array([[0.78805693, 0.50215396, 0.83173945, 0.50420469],\n",
              "       [0.96350399, 0.09408748, 0.3378862 , 0.79951237],\n",
              "       [0.15470816, 0.49885651, 0.63664368, 0.50581189],\n",
              "       [0.82763594, 0.73377485, 0.09834631, 0.04762477],\n",
              "       [0.39483558, 0.48662768, 0.90227621, 0.44714969]])"
            ]
          },
          "metadata": {},
          "execution_count": 30
        }
      ]
    },
    {
      "cell_type": "code",
      "source": [
        "array1.cumsum()# array1 ning oz'ini har bir eltini o'zidan oldingi eltlarini \n",
        "# yig'indisini massiv qilib qaytaradi"
      ],
      "metadata": {
        "colab": {
          "base_uri": "https://localhost:8080/"
        },
        "id": "kNIN5O5C81S8",
        "outputId": "c226a6d3-7c87-4598-8094-40d3957fcbf6"
      },
      "execution_count": 29,
      "outputs": [
        {
          "output_type": "execute_result",
          "data": {
            "text/plain": [
              "array([ 0.78805693,  1.29021089,  2.12195034,  2.62615503,  3.58965902,\n",
              "        3.6837465 ,  4.0216327 ,  4.82114507,  4.97585324,  5.47470975,\n",
              "        6.11135344,  6.61716533,  7.44480127,  8.17857612,  8.27692243,\n",
              "        8.32454719,  8.71938278,  9.20601045, 10.10828666, 10.55543635])"
            ]
          },
          "metadata": {},
          "execution_count": 29
        }
      ]
    },
    {
      "cell_type": "code",
      "source": [
        "array1.cumsum().ndim # 2.6261+0.9635=3.5896\n",
        "# demak bu cumsum() 1D massivga joylab beradi, \n",
        "# biza array1 ga mos shapedagi massiv olish ucuhun uni quyidagicha \n",
        "# reshape(array1.shape) qilsak arra1 ni shape iga olib lekib beradi cumsum qaytargan 1D massivni"
      ],
      "metadata": {
        "colab": {
          "base_uri": "https://localhost:8080/"
        },
        "id": "Yjo1Duj6899E",
        "outputId": "f67894df-d2f0-4be8-92d3-22436872c8c3"
      },
      "execution_count": 34,
      "outputs": [
        {
          "output_type": "execute_result",
          "data": {
            "text/plain": [
              "1"
            ]
          },
          "metadata": {},
          "execution_count": 34
        }
      ]
    },
    {
      "cell_type": "code",
      "source": [
        "np.cumsum(array1).reshape(array1.shape)# 34-qatordagi ishni qilib berdi\n",
        "# np.cumsum(array1).reshape(array1.shape)==array1.cumsum().reshape(array1.shape) qilish ham mumkin\n",
        "# men hozir 2 yo'lini ham o'rganib olay deb 2 sini ham qo'llayapman"
      ],
      "metadata": {
        "colab": {
          "base_uri": "https://localhost:8080/"
        },
        "id": "bSZYPbWE9jG2",
        "outputId": "6f9c743a-a62b-4d91-f304-43d9130be5ce"
      },
      "execution_count": 36,
      "outputs": [
        {
          "output_type": "execute_result",
          "data": {
            "text/plain": [
              "array([[ 0.78805693,  1.29021089,  2.12195034,  2.62615503],\n",
              "       [ 3.58965902,  3.6837465 ,  4.0216327 ,  4.82114507],\n",
              "       [ 4.97585324,  5.47470975,  6.11135344,  6.61716533],\n",
              "       [ 7.44480127,  8.17857612,  8.27692243,  8.32454719],\n",
              "       [ 8.71938278,  9.20601045, 10.10828666, 10.55543635]])"
            ]
          },
          "metadata": {},
          "execution_count": 36
        }
      ]
    },
    {
      "cell_type": "code",
      "source": [
        "array1.cumsum().reshape(array1.shape)"
      ],
      "metadata": {
        "colab": {
          "base_uri": "https://localhost:8080/"
        },
        "id": "rypUmAbf-3ZD",
        "outputId": "7ce30c01-0127-4b06-e8d3-2c3e8c39befc"
      },
      "execution_count": 37,
      "outputs": [
        {
          "output_type": "execute_result",
          "data": {
            "text/plain": [
              "array([[ 0.78805693,  1.29021089,  2.12195034,  2.62615503],\n",
              "       [ 3.58965902,  3.6837465 ,  4.0216327 ,  4.82114507],\n",
              "       [ 4.97585324,  5.47470975,  6.11135344,  6.61716533],\n",
              "       [ 7.44480127,  8.17857612,  8.27692243,  8.32454719],\n",
              "       [ 8.71938278,  9.20601045, 10.10828666, 10.55543635]])"
            ]
          },
          "metadata": {},
          "execution_count": 37
        }
      ]
    },
    {
      "cell_type": "code",
      "source": [
        "array1"
      ],
      "metadata": {
        "colab": {
          "base_uri": "https://localhost:8080/"
        },
        "id": "SGN08apCAkwi",
        "outputId": "46eff1fc-dd7b-43ed-dd50-4ce400463227"
      },
      "execution_count": 39,
      "outputs": [
        {
          "output_type": "execute_result",
          "data": {
            "text/plain": [
              "array([[0.78805693, 0.50215396, 0.83173945, 0.50420469],\n",
              "       [0.96350399, 0.09408748, 0.3378862 , 0.79951237],\n",
              "       [0.15470816, 0.49885651, 0.63664368, 0.50581189],\n",
              "       [0.82763594, 0.73377485, 0.09834631, 0.04762477],\n",
              "       [0.39483558, 0.48662768, 0.90227621, 0.44714969]])"
            ]
          },
          "metadata": {},
          "execution_count": 39
        }
      ]
    },
    {
      "cell_type": "code",
      "source": [
        "# Bu array1 ni ham menimcha axislar bo'yicha cumsum qilish mumkin\n",
        "array1.cumsum(axis=0)# har bir vertikal ustun bo'yicha yuqoridan pastga cumsum qilib boradi"
      ],
      "metadata": {
        "colab": {
          "base_uri": "https://localhost:8080/"
        },
        "id": "D971xYbs_dff",
        "outputId": "e7b72719-b20c-4eab-bd66-effc74f93d2c"
      },
      "execution_count": 40,
      "outputs": [
        {
          "output_type": "execute_result",
          "data": {
            "text/plain": [
              "array([[0.78805693, 0.50215396, 0.83173945, 0.50420469],\n",
              "       [1.75156091, 0.59624145, 1.16962566, 1.30371706],\n",
              "       [1.90626908, 1.09509796, 1.80626934, 1.80952895],\n",
              "       [2.73390502, 1.82887281, 1.90461565, 1.85715372],\n",
              "       [3.1287406 , 2.31550048, 2.80689186, 2.3043034 ]])"
            ]
          },
          "metadata": {},
          "execution_count": 40
        }
      ]
    },
    {
      "cell_type": "code",
      "source": [
        "# buni qatorlar bo'yicha ham cumsum qilish mumkin\n",
        "array1.cumsum(axis=1)# horizontally makes cumulative sum"
      ],
      "metadata": {
        "colab": {
          "base_uri": "https://localhost:8080/"
        },
        "id": "GpxlEJWKAhIF",
        "outputId": "82e3d4cb-ae8b-4218-fdc7-054298bc305d"
      },
      "execution_count": 41,
      "outputs": [
        {
          "output_type": "execute_result",
          "data": {
            "text/plain": [
              "array([[0.78805693, 1.29021089, 2.12195034, 2.62615503],\n",
              "       [0.96350399, 1.05759147, 1.39547767, 2.19499004],\n",
              "       [0.15470816, 0.65356468, 1.29020836, 1.79602025],\n",
              "       [0.82763594, 1.56141079, 1.6597571 , 1.70738187],\n",
              "       [0.39483558, 0.88146326, 1.78373947, 2.23088916]])"
            ]
          },
          "metadata": {},
          "execution_count": 41
        }
      ]
    },
    {
      "cell_type": "code",
      "source": [
        "# keling bir taqqoslash qilaylikchi endi. Manashu qator bilan 36,37-qatorlarni koramiz:\n",
        "np.cumsum(array1, axis=1) == np.cumsum(array1).reshape(array1.shape)\n",
        "# yoki array1.cumsum(axis=1) == array1.cumsum().reshape(array1.shape)->line 37 look!"
      ],
      "metadata": {
        "colab": {
          "base_uri": "https://localhost:8080/"
        },
        "id": "vYm0NMWMBIB8",
        "outputId": "64918d1e-d24b-4bfe-b1a0-16d90014da63"
      },
      "execution_count": 42,
      "outputs": [
        {
          "output_type": "execute_result",
          "data": {
            "text/plain": [
              "array([[ True,  True,  True,  True],\n",
              "       [False, False, False, False],\n",
              "       [False, False, False, False],\n",
              "       [False, False, False, False],\n",
              "       [False, False, False, False]])"
            ]
          },
          "metadata": {},
          "execution_count": 42
        }
      ]
    },
    {
      "cell_type": "code",
      "source": [
        "np.cumsum(array1).reshape(array1.shape)"
      ],
      "metadata": {
        "colab": {
          "base_uri": "https://localhost:8080/"
        },
        "id": "foTnuyD-B9Ht",
        "outputId": "fd144558-9b5d-49ae-89e9-244088009b89"
      },
      "execution_count": 43,
      "outputs": [
        {
          "output_type": "execute_result",
          "data": {
            "text/plain": [
              "array([[ 0.78805693,  1.29021089,  2.12195034,  2.62615503],\n",
              "       [ 3.58965902,  3.6837465 ,  4.0216327 ,  4.82114507],\n",
              "       [ 4.97585324,  5.47470975,  6.11135344,  6.61716533],\n",
              "       [ 7.44480127,  8.17857612,  8.27692243,  8.32454719],\n",
              "       [ 8.71938278,  9.20601045, 10.10828666, 10.55543635]])"
            ]
          },
          "metadata": {},
          "execution_count": 43
        }
      ]
    },
    {
      "cell_type": "code",
      "source": [
        "# chunki np.cumsum(array1, axis=1) qilganimiz har bir qator bo'yicha alohida cumsum qiladi while\n",
        "# np.cumsum(array1).reshape(array1.shape) esa \n",
        "# umumiy boshidan (0,0) eltdan toki(4,4) eltgacha cumsum() qildi"
      ],
      "metadata": {
        "id": "QlZqEoeGCFDN"
      },
      "execution_count": null,
      "outputs": []
    }
  ]
}