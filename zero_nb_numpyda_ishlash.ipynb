{
  "nbformat": 4,
  "nbformat_minor": 0,
  "metadata": {
    "colab": {
      "provenance": [],
      "collapsed_sections": [],
      "authorship_tag": "ABX9TyN6LyyfB4OApodNHJiqEjf6",
      "include_colab_link": true
    },
    "kernelspec": {
      "name": "python3",
      "display_name": "Python 3"
    },
    "language_info": {
      "name": "python"
    }
  },
  "cells": [
    {
      "cell_type": "markdown",
      "metadata": {
        "id": "view-in-github",
        "colab_type": "text"
      },
      "source": [
        "<a href=\"https://colab.research.google.com/github/lazizbeksadullaev/telegram-bot/blob/main/zero_nb_numpyda_ishlash.ipynb\" target=\"_parent\"><img src=\"https://colab.research.google.com/assets/colab-badge.svg\" alt=\"Open In Colab\"/></a>"
      ]
    },
    {
      "cell_type": "code",
      "execution_count": 1,
      "metadata": {
        "id": "yWF6BLSa5pEY"
      },
      "outputs": [],
      "source": [
        "import numpy as np"
      ]
    },
    {
      "cell_type": "code",
      "source": [
        "list1 = list(range(100000)) # python list 0-99999 gacha sonlar -> Normal \n",
        "array1 = np.array(range(100000)) # numpy array(massiv) 0-99999 -> Vektorlashgan"
      ],
      "metadata": {
        "id": "c0wkD-SF6GUR"
      },
      "execution_count": 3,
      "outputs": []
    },
    {
      "cell_type": "code",
      "source": [
        "%time for _ in range(10): [x*2 for x in list1] # normal hisoblash"
      ],
      "metadata": {
        "id": "WZ34JJll7yMt",
        "colab": {
          "base_uri": "https://localhost:8080/"
        },
        "outputId": "3181a5f5-ba1e-4666-ef02-3386b297518f"
      },
      "execution_count": 5,
      "outputs": [
        {
          "output_type": "stream",
          "name": "stdout",
          "text": [
            "CPU times: user 78.2 ms, sys: 16.2 ms, total: 94.4 ms\n",
            "Wall time: 95.9 ms\n"
          ]
        }
      ]
    },
    {
      "cell_type": "code",
      "source": [
        "time for _ in range(10): array1*2 # Vektorlashgan hisoblash"
      ],
      "metadata": {
        "id": "9Q3rOa7l8Adn",
        "colab": {
          "base_uri": "https://localhost:8080/"
        },
        "outputId": "5b0b1e9e-92cb-4ed0-9a20-e8e06e26e971"
      },
      "execution_count": 7,
      "outputs": [
        {
          "output_type": "stream",
          "name": "stdout",
          "text": [
            "CPU times: user 3.36 ms, sys: 27 µs, total: 3.39 ms\n",
            "Wall time: 3.05 ms\n"
          ]
        }
      ]
    },
    {
      "cell_type": "code",
      "source": [
        "95.9/3.05"
      ],
      "metadata": {
        "colab": {
          "base_uri": "https://localhost:8080/"
        },
        "id": "w9zERxx9jE00",
        "outputId": "a8a4b0b7-0216-46c1-dcf4-33c39180e4e3"
      },
      "execution_count": 8,
      "outputs": [
        {
          "output_type": "execute_result",
          "data": {
            "text/plain": [
              "31.442622950819676"
            ]
          },
          "metadata": {},
          "execution_count": 8
        }
      ]
    },
    {
      "cell_type": "code",
      "source": [
        "# Numpyda massivlar yaratish:"
      ],
      "metadata": {
        "id": "LuHJW4JXjLZ9"
      },
      "execution_count": 9,
      "outputs": []
    },
    {
      "cell_type": "code",
      "source": [
        "# I. Array funsiyasi yordamida:"
      ],
      "metadata": {
        "id": "xWeoonuVkiEm"
      },
      "execution_count": 10,
      "outputs": []
    },
    {
      "cell_type": "code",
      "source": [
        "# umumiy qoidasi numpy.array(iterative_object)"
      ],
      "metadata": {
        "id": "zPMSBPnDlstl"
      },
      "execution_count": null,
      "outputs": []
    },
    {
      "cell_type": "code",
      "source": [
        "data1 = [1,2,34, 56] # list\n",
        "array1 = np.array(data1) # numpayda array"
      ],
      "metadata": {
        "id": "tpxnGwI4km5S"
      },
      "execution_count": 11,
      "outputs": []
    },
    {
      "cell_type": "code",
      "source": [
        "data1"
      ],
      "metadata": {
        "colab": {
          "base_uri": "https://localhost:8080/"
        },
        "id": "_7_h1kFqk2pa",
        "outputId": "956dffd7-3fa9-4aed-afe7-97124c379e49"
      },
      "execution_count": 12,
      "outputs": [
        {
          "output_type": "execute_result",
          "data": {
            "text/plain": [
              "[1, 2, 34, 56]"
            ]
          },
          "metadata": {},
          "execution_count": 12
        }
      ]
    },
    {
      "cell_type": "code",
      "source": [
        "array1"
      ],
      "metadata": {
        "colab": {
          "base_uri": "https://localhost:8080/"
        },
        "id": "LsrBPxuGk5u9",
        "outputId": "99701d57-f1fe-47ec-bbe2-132758014585"
      },
      "execution_count": 13,
      "outputs": [
        {
          "output_type": "execute_result",
          "data": {
            "text/plain": [
              "array([ 1,  2, 34, 56])"
            ]
          },
          "metadata": {},
          "execution_count": 13
        }
      ]
    },
    {
      "cell_type": "code",
      "source": [
        "data2 = (5, 6 ,7, 8)# tuple \n",
        "array2 = np.array(data2) # tuple bilan array yaratish"
      ],
      "metadata": {
        "id": "7G-gzGeqk7yY"
      },
      "execution_count": 14,
      "outputs": []
    },
    {
      "cell_type": "code",
      "source": [
        "# Massiv o'lchamini aniqlash"
      ],
      "metadata": {
        "id": "_bhn0vkSlEyV"
      },
      "execution_count": 15,
      "outputs": []
    },
    {
      "cell_type": "code",
      "source": [
        "array1.ndim # array1 ning o'lchamini chiqarib beradi"
      ],
      "metadata": {
        "colab": {
          "base_uri": "https://localhost:8080/"
        },
        "id": "IqPti6J3mCtS",
        "outputId": "42b0cff4-2170-4974-d7b7-b860fc00a628"
      },
      "execution_count": 16,
      "outputs": [
        {
          "output_type": "execute_result",
          "data": {
            "text/plain": [
              "1"
            ]
          },
          "metadata": {},
          "execution_count": 16
        }
      ]
    },
    {
      "cell_type": "code",
      "source": [
        "array2.ndim # arary2 ning o'lchami"
      ],
      "metadata": {
        "colab": {
          "base_uri": "https://localhost:8080/"
        },
        "id": "XlC7W0YOmJL6",
        "outputId": "019ffbc0-7dfb-455c-c626-724b684d7254"
      },
      "execution_count": 17,
      "outputs": [
        {
          "output_type": "execute_result",
          "data": {
            "text/plain": [
              "1"
            ]
          },
          "metadata": {},
          "execution_count": 17
        }
      ]
    },
    {
      "cell_type": "code",
      "source": [
        "# Ikki o'lchamliu va undan ortiq o'lchamli massivlarni yaratish:"
      ],
      "metadata": {
        "id": "cIX_I5zTmOZQ"
      },
      "execution_count": 18,
      "outputs": []
    },
    {
      "cell_type": "code",
      "source": [
        "data3 = [[1,2,3,4], [5,6,7,8]]# list ichida listladan nested  listladan foydalanamiz\n",
        "array3 = np.array(data3)"
      ],
      "metadata": {
        "id": "cKJKGP9fmUpo"
      },
      "execution_count": 20,
      "outputs": []
    },
    {
      "cell_type": "code",
      "source": [
        "array3"
      ],
      "metadata": {
        "colab": {
          "base_uri": "https://localhost:8080/"
        },
        "id": "fIlX5XPum4EQ",
        "outputId": "1b96d75f-9cf2-407f-c2ab-20d7abd32cb8"
      },
      "execution_count": 21,
      "outputs": [
        {
          "output_type": "execute_result",
          "data": {
            "text/plain": [
              "array([[1, 2, 3, 4],\n",
              "       [5, 6, 7, 8]])"
            ]
          },
          "metadata": {},
          "execution_count": 21
        }
      ]
    },
    {
      "cell_type": "code",
      "source": [
        "data4 = [[1,2,3], [4,5,6], [7,8,9], [0,1,2]]\n",
        "array4 = np.array(data4)"
      ],
      "metadata": {
        "id": "AMQRYpKgm7Jn"
      },
      "execution_count": 22,
      "outputs": []
    },
    {
      "cell_type": "code",
      "source": [
        "data4"
      ],
      "metadata": {
        "colab": {
          "base_uri": "https://localhost:8080/"
        },
        "id": "JLlvrKhvnPho",
        "outputId": "04793879-5f5e-42f0-8af4-23c1cfb31fe9"
      },
      "execution_count": 23,
      "outputs": [
        {
          "output_type": "execute_result",
          "data": {
            "text/plain": [
              "[[1, 2, 3], [4, 5, 6], [7, 8, 9], [0, 1, 2]]"
            ]
          },
          "metadata": {},
          "execution_count": 23
        }
      ]
    },
    {
      "cell_type": "code",
      "source": [
        "data4.ndim"
      ],
      "metadata": {
        "colab": {
          "base_uri": "https://localhost:8080/",
          "height": 166
        },
        "id": "IpsDeTNwnXP1",
        "outputId": "c654cc96-0986-4c90-f6fb-b93c461eb245"
      },
      "execution_count": 25,
      "outputs": [
        {
          "output_type": "error",
          "ename": "AttributeError",
          "evalue": "ignored",
          "traceback": [
            "\u001b[0;31m---------------------------------------------------------------------------\u001b[0m",
            "\u001b[0;31mAttributeError\u001b[0m                            Traceback (most recent call last)",
            "\u001b[0;32m<ipython-input-25-c8cc6bd021f4>\u001b[0m in \u001b[0;36m<module>\u001b[0;34m\u001b[0m\n\u001b[0;32m----> 1\u001b[0;31m \u001b[0mdata4\u001b[0m\u001b[0;34m.\u001b[0m\u001b[0mndim\u001b[0m\u001b[0;34m\u001b[0m\u001b[0;34m\u001b[0m\u001b[0m\n\u001b[0m",
            "\u001b[0;31mAttributeError\u001b[0m: 'list' object has no attribute 'ndim'"
          ]
        }
      ]
    },
    {
      "cell_type": "code",
      "source": [
        "array4"
      ],
      "metadata": {
        "colab": {
          "base_uri": "https://localhost:8080/"
        },
        "id": "FVaobTlrnQbo",
        "outputId": "fe848058-a159-4d92-9d91-3f4458430b6c"
      },
      "execution_count": 24,
      "outputs": [
        {
          "output_type": "execute_result",
          "data": {
            "text/plain": [
              "array([[1, 2, 3],\n",
              "       [4, 5, 6],\n",
              "       [7, 8, 9],\n",
              "       [0, 1, 2]])"
            ]
          },
          "metadata": {},
          "execution_count": 24
        }
      ]
    },
    {
      "cell_type": "code",
      "source": [
        "array4.ndim"
      ],
      "metadata": {
        "colab": {
          "base_uri": "https://localhost:8080/"
        },
        "id": "NQeBDVmKnSOM",
        "outputId": "8455ea10-5abe-46b3-cfef-a84c99303743"
      },
      "execution_count": 27,
      "outputs": [
        {
          "output_type": "execute_result",
          "data": {
            "text/plain": [
              "2"
            ]
          },
          "metadata": {},
          "execution_count": 27
        }
      ]
    },
    {
      "cell_type": "code",
      "source": [
        "array3.ndim"
      ],
      "metadata": {
        "colab": {
          "base_uri": "https://localhost:8080/"
        },
        "id": "iytaKHw5nqbB",
        "outputId": "031c8b86-1ea1-4816-83aa-1eb5bcdb653c"
      },
      "execution_count": 29,
      "outputs": [
        {
          "output_type": "execute_result",
          "data": {
            "text/plain": [
              "2"
            ]
          },
          "metadata": {},
          "execution_count": 29
        }
      ]
    },
    {
      "cell_type": "code",
      "source": [
        "array4"
      ],
      "metadata": {
        "colab": {
          "base_uri": "https://localhost:8080/"
        },
        "id": "0tbagzOTntqu",
        "outputId": "a73eb5be-805f-42f3-8db6-cdf08f60031a"
      },
      "execution_count": 30,
      "outputs": [
        {
          "output_type": "execute_result",
          "data": {
            "text/plain": [
              "array([[1, 2, 3],\n",
              "       [4, 5, 6],\n",
              "       [7, 8, 9],\n",
              "       [0, 1, 2]])"
            ]
          },
          "metadata": {},
          "execution_count": 30
        }
      ]
    },
    {
      "cell_type": "code",
      "source": [
        "array4.ndim"
      ],
      "metadata": {
        "colab": {
          "base_uri": "https://localhost:8080/"
        },
        "id": "Aeo8uSFPnv87",
        "outputId": "3b542c10-8954-4738-bad2-8cb0ff4de118"
      },
      "execution_count": 31,
      "outputs": [
        {
          "output_type": "execute_result",
          "data": {
            "text/plain": [
              "2"
            ]
          },
          "metadata": {},
          "execution_count": 31
        }
      ]
    },
    {
      "cell_type": "code",
      "source": [
        "array4.shape # qator va ustunlar sonini tuple(q, ust) ko'rinishda ko'rsatadi"
      ],
      "metadata": {
        "colab": {
          "base_uri": "https://localhost:8080/"
        },
        "id": "W_Y7-d5zn2F7",
        "outputId": "a92fd78a-735a-4fc0-8b62-b2016d9eac7b"
      },
      "execution_count": 32,
      "outputs": [
        {
          "output_type": "execute_result",
          "data": {
            "text/plain": [
              "(4, 3)"
            ]
          },
          "metadata": {},
          "execution_count": 32
        }
      ]
    },
    {
      "cell_type": "code",
      "source": [
        "array4.size # array4  massivdagi barcha eltlar sonini ko'rsatadi"
      ],
      "metadata": {
        "colab": {
          "base_uri": "https://localhost:8080/"
        },
        "id": "BQUID-goongF",
        "outputId": "d3ada733-06fe-41b5-8a20-f2007c1a4905"
      },
      "execution_count": 33,
      "outputs": [
        {
          "output_type": "execute_result",
          "data": {
            "text/plain": [
              "12"
            ]
          },
          "metadata": {},
          "execution_count": 33
        }
      ]
    },
    {
      "cell_type": "code",
      "source": [
        "# II. Maasivlarni boshqacha usulda yaratish: zeros va ones metodlari"
      ],
      "metadata": {
        "id": "OuFpwQw7oy1Y"
      },
      "execution_count": 34,
      "outputs": []
    },
    {
      "cell_type": "code",
      "source": [
        "array5 = np.zeros(shape=(2, 4)) # barcha eltlari 0 gateng 2 qator va 4 ta ustundan iborat barcha ellari nolga teng massiv yaratish"
      ],
      "metadata": {
        "id": "ua0ocjVbpEzo"
      },
      "execution_count": 35,
      "outputs": []
    },
    {
      "cell_type": "code",
      "source": [
        "array5"
      ],
      "metadata": {
        "colab": {
          "base_uri": "https://localhost:8080/"
        },
        "id": "s_-PAC72pcmY",
        "outputId": "b349106a-2bff-470e-f0a7-cb58ba593ae9"
      },
      "execution_count": 36,
      "outputs": [
        {
          "output_type": "execute_result",
          "data": {
            "text/plain": [
              "array([[0., 0., 0., 0.],\n",
              "       [0., 0., 0., 0.]])"
            ]
          },
          "metadata": {},
          "execution_count": 36
        }
      ]
    },
    {
      "cell_type": "code",
      "source": [
        "array6 = np.ones(shape=(2, 4)) # barcha eltlari 1 ga teng 2 qator va 4 ustunli massiv hosil qilish"
      ],
      "metadata": {
        "id": "YAvO292HpevZ"
      },
      "execution_count": 38,
      "outputs": []
    },
    {
      "cell_type": "code",
      "source": [
        "array6"
      ],
      "metadata": {
        "colab": {
          "base_uri": "https://localhost:8080/"
        },
        "id": "AhRlm1Uqpzan",
        "outputId": "477a3f22-2996-42ef-de43-9680e331e8ac"
      },
      "execution_count": 40,
      "outputs": [
        {
          "output_type": "execute_result",
          "data": {
            "text/plain": [
              "array([[1., 1., 1., 1.],\n",
              "       [1., 1., 1., 1.]])"
            ]
          },
          "metadata": {},
          "execution_count": 40
        }
      ]
    },
    {
      "cell_type": "code",
      "source": [
        "# III. Maasivlarni arange funksiyasi yordamida hosil qilish:"
      ],
      "metadata": {
        "id": "Rzud4izKp2wD"
      },
      "execution_count": 41,
      "outputs": []
    },
    {
      "cell_type": "code",
      "source": [
        "# Bu arange o'zimizni range dek genarator faaqqat massiv hosil qilishda ishlatiladi:"
      ],
      "metadata": {
        "id": "e1ftQ168qAzW"
      },
      "execution_count": 42,
      "outputs": []
    },
    {
      "cell_type": "code",
      "source": [
        "array7 = np.arange(4, 20, 2) # [4;20) sonlarni 2 qadam bilan  massivga joylab beradi\n",
        "array7"
      ],
      "metadata": {
        "colab": {
          "base_uri": "https://localhost:8080/"
        },
        "id": "2-6G7wLLqRWN",
        "outputId": "9645b14c-3103-44d2-cb33-ec500d4a2376"
      },
      "execution_count": 43,
      "outputs": [
        {
          "output_type": "execute_result",
          "data": {
            "text/plain": [
              "array([ 4,  6,  8, 10, 12, 14, 16, 18])"
            ]
          },
          "metadata": {},
          "execution_count": 43
        }
      ]
    },
    {
      "cell_type": "code",
      "source": [
        "array8 = np.arange(20)# [0; 20) qiymatlarni 1 qadam bn massivga joylab beradi\n",
        "array8"
      ],
      "metadata": {
        "colab": {
          "base_uri": "https://localhost:8080/"
        },
        "id": "yTeKytfZqsmE",
        "outputId": "d96b8558-13ee-487c-c9cd-9861087aa1f3"
      },
      "execution_count": 45,
      "outputs": [
        {
          "output_type": "execute_result",
          "data": {
            "text/plain": [
              "array([ 0,  1,  2,  3,  4,  5,  6,  7,  8,  9, 10, 11, 12, 13, 14, 15, 16,\n",
              "       17, 18, 19])"
            ]
          },
          "metadata": {},
          "execution_count": 45
        }
      ]
    },
    {
      "cell_type": "code",
      "source": [
        "# Misol1: eltlari ihitiyoriy n ta(n>0, butunn son) bo'lgan 1 o'lchamli massiv(array) yaratuvchi funksiya tuzing:\n",
        "# array yoki random funksiyalaridan foydalanishingiz mumkin\n",
        "import random\n",
        "random.sample(range(2*10), 10)"
      ],
      "metadata": {
        "colab": {
          "base_uri": "https://localhost:8080/"
        },
        "id": "hRddiH3dq4o1",
        "outputId": "37818a1b-8e64-4481-b0ba-1f8ffa255990"
      },
      "execution_count": 50,
      "outputs": [
        {
          "output_type": "execute_result",
          "data": {
            "text/plain": [
              "[11, 7, 2, 12, 13, 9, 10, 5, 4, 0]"
            ]
          },
          "metadata": {},
          "execution_count": 50
        }
      ]
    },
    {
      "cell_type": "code",
      "source": [
        "import random\n",
        "def one_dim(n: int):\n",
        "  \"\"\" n ta eltdan tashkil topgan 1 o'lchamli massiv qaytarish \"\"\"\n",
        "  return np.array(random.sample(range(2*n), n))"
      ],
      "metadata": {
        "id": "zW1KMGgzr7l7"
      },
      "execution_count": 49,
      "outputs": []
    },
    {
      "cell_type": "code",
      "source": [
        "# Masala2: Shakli shape(r,c) bo'lgan 2 o'lchamli massiv(array) qaytaruvchi funksiya yarating\n",
        "# Numpy kutubxonasida massivlar yaratuvchi funksiyalarning istalganidan foydalanishingiz mumkin"
      ],
      "metadata": {
        "id": "QviBi-0usyaw"
      },
      "execution_count": 51,
      "outputs": []
    },
    {
      "cell_type": "code",
      "source": [
        "def two_dim(r, c):\n",
        "  \"\"\" r ta qator, c ta ustundan tshkil topgan 2 o'lchamli massiv yaratish \"\"\"\n",
        "  return np.ones(shape=(r,c))"
      ],
      "metadata": {
        "id": "E1-Zv7YNvAON"
      },
      "execution_count": null,
      "outputs": []
    }
  ]
}