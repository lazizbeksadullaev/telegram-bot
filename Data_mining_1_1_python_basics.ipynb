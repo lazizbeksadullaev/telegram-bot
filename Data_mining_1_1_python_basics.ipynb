{
  "cells": [
    {
      "cell_type": "markdown",
      "metadata": {
        "id": "view-in-github",
        "colab_type": "text"
      },
      "source": [
        "<a href=\"https://colab.research.google.com/github/lazizbeksadullaev/telegram-bot/blob/main/Data_mining_1_1_python_basics.ipynb\" target=\"_parent\"><img src=\"https://colab.research.google.com/assets/colab-badge.svg\" alt=\"Open In Colab\"/></a>"
      ]
    },
    {
      "cell_type": "code",
      "execution_count": null,
      "metadata": {
        "id": "bTwcpn-0sfvQ"
      },
      "outputs": [],
      "source": [
        "# Jovian Commit Essentials\n",
        "# Please retain and execute this cell without modifying the contents for `jovian.commit` to work\n",
        "!pip install jovian --upgrade -q\n",
        "import jovian\n",
        "jovian.set_project('data-mining-1-1')\n",
        "jovian.set_colab_id('1nfhnM5NM0GW5mSys6BOEEQmMxO0KbaHx')"
      ]
    },
    {
      "cell_type": "code",
      "execution_count": null,
      "metadata": {
        "id": "okKixeUlGg_a"
      },
      "outputs": [],
      "source": [
        "# 11.10.2022\n",
        "# izoh uchun panjara belgisidan foydalaniladi\n",
        "# panjara belgisidan keyingi yozuvlar python tominidan inobatga olinmaydi\n",
        "# Mavzu: Data mining  metodologiyasi asosida ma’lumotlarini dastlabki tahlili"
      ]
    },
    {
      "cell_type": "markdown",
      "metadata": {
        "id": "v1mqUWG2I7Kr"
      },
      "source": [
        "#Kommentariyalar\n"
      ]
    },
    {
      "cell_type": "code",
      "execution_count": null,
      "metadata": {
        "id": "gTHwxbuIJPEE"
      },
      "outputs": [],
      "source": [
        "# bu yozilagan so'zlar birinchi kommentariya\n",
        "b =  1 # bu es\n",
        "text=\"# bu yozilayotgan so'zlar kommentariya emas, chunki ular qo'shtirnoqqa olingan\"\n",
        "# habarlar(satrli malumotlar) birtirnoq yoki qo'shtrnoq ichida beriladia ikkinchi kommentariya\n",
        "        # bunisi uchinchisi"
      ]
    },
    {
      "cell_type": "code",
      "source": [
        "# Pyhton-interpretatorli-tarjimonli til\n",
        "# har bir yozgan kodimizni qatorma-qator komputer tushunadigan\n",
        "# tilga o'girib beradi\n",
        "# Cpython, PyPy ... lar pyhtonning inpterpretatorlari"
      ],
      "metadata": {
        "id": "_CGv-sZwwCzT"
      },
      "execution_count": null,
      "outputs": []
    },
    {
      "cell_type": "code",
      "source": [
        "import sys\n",
        "\n",
        "print(sys.executable)# interpterter turgan manzilni olib beradi"
      ],
      "metadata": {
        "colab": {
          "base_uri": "https://localhost:8080/"
        },
        "id": "zdEfeZisHL_G",
        "outputId": "e08eb998-52c1-4397-847c-56e5d109b44c"
      },
      "execution_count": null,
      "outputs": [
        {
          "output_type": "stream",
          "name": "stdout",
          "text": [
            "/usr/bin/python3\n"
          ]
        }
      ]
    },
    {
      "cell_type": "markdown",
      "metadata": {
        "id": "GUsFELbwKqBY"
      },
      "source": [
        "## Ma'lumotlarni chop qilish"
      ]
    },
    {
      "cell_type": "markdown",
      "source": [
        "**print('salom ', argument1, argument2, argument3,...)**\n",
        "\n",
        "* -'salom ', argument1, argument2, argument3,... argumentlarni ekranga\n",
        "chiqarish uchun ishlatiladigan ko'p argumentli chiqarish funksiyasi \n",
        "\n",
        "* f(x, y, z, jjnxjnxa, xjAHX)-ko'p argumentli funksiya"
      ],
      "metadata": {
        "id": "u14o51fcWMck"
      }
    },
    {
      "cell_type": "code",
      "source": [
        "print(\"Salom sst 20-21- guruh\") # \"Salom sst 20-21- guruh\" habarini ekranga chiqarib beradi"
      ],
      "metadata": {
        "colab": {
          "base_uri": "https://localhost:8080/"
        },
        "id": "q5xliH__wTzC",
        "outputId": "19a5ed07-2d10-4642-e3f7-cbbcf61b7e6e"
      },
      "execution_count": null,
      "outputs": [
        {
          "output_type": "stream",
          "name": "stdout",
          "text": [
            "Salom sst 20-21- guruh\n"
          ]
        }
      ]
    },
    {
      "cell_type": "code",
      "execution_count": null,
      "metadata": {
        "colab": {
          "base_uri": "https://localhost:8080/"
        },
        "id": "ApCphlUbKkkA",
        "outputId": "03950a51-73ba-4505-c652-35df2b33660a"
      },
      "outputs": [
        {
          "output_type": "stream",
          "name": "stdout",
          "text": [
            "Hammaga 'Assalomu alaykum'\n",
            "A B C\n",
            "A       ###  $$$$    B       ###  $$$$    C\n",
            "A#B#C\n"
          ]
        }
      ],
      "source": [
        "print(\"Hammaga 'Assalomu alaykum'\")# birtirnoq va ko'ptirniqning ishlatilishi\n",
        "print(\"A\", \"B\", \"C\")\n",
        "print(\"A\", \"B\", \"C\", sep=\"       ###  $$$$    \")\n",
        "print(\"A\", \"B\", \"C\", sep=\"#\")# sep-separation-bo'lish, bo'laklarga ajratish(parametr), A,B,C lar \n",
        "# orasiga sep=\"...\" belgini qo'yib bo'lib beradi. Agar sep bermasak, default holatda sep=\" \""
      ]
    },
    {
      "cell_type": "code",
      "source": [
        "\"i:\"+\"shdvhgA\""
      ],
      "metadata": {
        "colab": {
          "base_uri": "https://localhost:8080/",
          "height": 36
        },
        "id": "npHHa_D8YNXN",
        "outputId": "24d9c9e7-0c01-4888-b061-03223bfdcfa4"
      },
      "execution_count": null,
      "outputs": [
        {
          "output_type": "execute_result",
          "data": {
            "text/plain": [
              "'i:shdvhgA'"
            ],
            "application/vnd.google.colaboratory.intrinsic+json": {
              "type": "string"
            }
          },
          "metadata": {},
          "execution_count": 5
        }
      ]
    },
    {
      "cell_type": "code",
      "source": [
        "\"i:\"+str(3)"
      ],
      "metadata": {
        "colab": {
          "base_uri": "https://localhost:8080/",
          "height": 36
        },
        "id": "Z9DYDorUXsNz",
        "outputId": "58521b74-e238-4f52-9f0e-6329b74d10db"
      },
      "execution_count": null,
      "outputs": [
        {
          "output_type": "execute_result",
          "data": {
            "text/plain": [
              "'i:3'"
            ],
            "application/vnd.google.colaboratory.intrinsic+json": {
              "type": "string"
            }
          },
          "metadata": {},
          "execution_count": 4
        }
      ]
    },
    {
      "cell_type": "code",
      "execution_count": null,
      "metadata": {
        "colab": {
          "base_uri": "https://localhost:8080/"
        },
        "id": "oUCG1bLhKcUp",
        "outputId": "d742debe-cb86-4d5f-aa22-f26af06ee6fd"
      },
      "outputs": [
        {
          "output_type": "stream",
          "name": "stdout",
          "text": [
            "i:0\n",
            "i:1\n",
            "i:2\n",
            "i:3\n",
            "i:4\n"
          ]
        }
      ],
      "source": [
        "for i in range(5): # for sikli-biror ishni takror qiladi: har bir i uchun [0,1,2,3,4] dagi ishni qil\n",
        "  print(\"i:\" + str(i), end='\\n')    # i = range(5)=[0,1,2,3,4] hosil qilib(generatsiya qiladi)\n",
        "# str(i) - i obyektini string(matn) ga aylantrib beradi\n",
        "# \"matn1\"+\"matn2\" = \"matn1matn2\"  >>> \"+\" amali satrlarda concontenatsiy(ortiga ulash amali)"
      ]
    },
    {
      "cell_type": "code",
      "execution_count": null,
      "metadata": {
        "colab": {
          "base_uri": "https://localhost:8080/"
        },
        "id": "Ck3c4XNZL_YG",
        "outputId": "d394bd9f-ec69-442c-999c-0b10446056a4"
      },
      "outputs": [
        {
          "output_type": "stream",
          "name": "stdout",
          "text": [
            "i:0 ---- i:1 ---- i:2 ---- i:3 ---- i:4 ---- "
          ]
        }
      ],
      "source": [
        "for i in range(5):# i = [0,1,2,3,4]\n",
        "  print(\"i:\" + str(i), end=\" ---- \") # end-yakun(yakuni) end=\"---\" degani har chop qilganda\n",
        "# chop qilingan obyekt ohiriga \"---\"  ni qo'yib beradi\n",
        "# agar end='cndsm' bermasak defaultda end=\" \\n \" - new line - yangi qatorga o'tkazb beradi"
      ]
    },
    {
      "cell_type": "markdown",
      "source": [
        "# Pythonda o'zgaruvchilar"
      ],
      "metadata": {
        "id": "25KjqnqeDvtd"
      }
    },
    {
      "cell_type": "markdown",
      "source": [
        "**O'zgaruvchi** - \n",
        "\n",
        "1. O’zida qandaydir qiymat saqlab turuvchi\n",
        "\n",
        "2. hohlagancha marta o'zining qiymatini o'gartirishi mumkin bo'lgan\n",
        "3. obyekt(xotitraning nomlangan qismi) hisoblanadi.\n",
        "\n",
        "* Har bir o’zgaruvchini 1. nomi, 2. turi va 3. qiymati mavjud bo'ladi"
      ],
      "metadata": {
        "id": "f6vpUmlMdvXd"
      }
    },
    {
      "cell_type": "markdown",
      "source": [
        "**O'zgaruvchilarga qiymat berish**"
      ],
      "metadata": {
        "id": "qYOMu5iDD3Wx"
      }
    },
    {
      "cell_type": "markdown",
      "source": [
        "*O'zgaruvchilarga 2 xil usulda qiymat berish mumkin:*\n",
        "1. Tog'ridan tog'ri kodlar maydonida dasturchi tomonidan\n",
        "2. Natijalar maydoni(console)da foydalanuvchi tomonidan"
      ],
      "metadata": {
        "id": "0ooPFYZYeNRO"
      }
    },
    {
      "cell_type": "code",
      "source": [
        "# 1-usul:\n",
        "yosh = 25 # dasturchi tominidan o'zgaruvchiga qiymat berilyapti\n",
        "#        yosh      =        25\n",
        "# o'zgaruvchi_nomi = o'zgaruvchi_qiymati\n",
        "print(yosh) # qachon biz yosh degan o'zgruvchiga murojat qilsak, uni ichidagi qiymatini ham olgan bo'lamiz\n",
        "yosh = 26 # desak biz yosh=25 qiymatni yosh=26 ga o'zgartirdik\n",
        "print('Siz', yosh, 'ga endi to\\'larkansiz?') # yosh ni eng ohirgi o'zgartrilgan qiymati bilan aniqlanadi"
      ],
      "metadata": {
        "colab": {
          "base_uri": "https://localhost:8080/"
        },
        "id": "XmvLX4B4EBDy",
        "outputId": "7b550b30-2fc9-4693-894d-b7d4df1c9d29"
      },
      "execution_count": null,
      "outputs": [
        {
          "output_type": "stream",
          "name": "stdout",
          "text": [
            "25\n",
            "Siz 26 ga endi to'larkansiz?\n"
          ]
        }
      ]
    },
    {
      "cell_type": "code",
      "execution_count": null,
      "metadata": {
        "colab": {
          "base_uri": "https://localhost:8080/"
        },
        "id": "xYrKgAiFMgZ-",
        "outputId": "b0e2b88b-f6e4-4a10-b092-72822acc0380"
      },
      "outputs": [
        {
          "output_type": "stream",
          "name": "stdout",
          "text": [
            "20\n",
            "Siz kiritgan qiymat:  20\n",
            "43\n"
          ]
        }
      ],
      "source": [
        "# 2-usul:\n",
        "a=int(input()) # bu yerda input orqali foydalanuvchi kiritgan qiymat a o'zgaruvchiga yuklanadi\n",
        "print(\"Siz kiritgan qiymat: \", a)\n",
        "# print(int(a)+23)\n",
        "print(a+23)"
      ]
    },
    {
      "cell_type": "markdown",
      "source": [
        "**input()** orqali malumot kiritilganda bu malumot bizga str()-satr ko'rinishida keladi shu sabab biz bu str tipidagi malumotni o'zimizga kerak malumot tipiga(toifasiga) o'tkazib olishimiz kerak. Bu huddi boshqa dasturlash tillaridagi o'zgaruvchi tipini elon qilishga o'xshaydi lekin python *dinamik tipizatsiyali* til bo'gani sababli tip(toifa) ni elon qilishni hojati yo'q\n",
        "o'zi avtomotik aniqlab oladi, demak biz:\n",
        "\n",
        "* a=input() desak kiritilgan a ning tipi-str() bo'lar ekan buni bizga kerak tipga o'tkazish uchun typcesting dan foydalanamiz: \n",
        "\n",
        "* a = int(input()) # kiritilgan malumotni int() tipiga o'tkazish; foydalanuvchi tomonidan butun sonni kiritib olish."
      ],
      "metadata": {
        "id": "9Mc7dxH0fW72"
      }
    },
    {
      "cell_type": "markdown",
      "source": [
        "**Dinamik tipizatsiya**"
      ],
      "metadata": {
        "id": "j6-hlYVtEFnj"
      }
    },
    {
      "cell_type": "markdown",
      "source": [
        "* Python dasturlash tili dinamik tipizatsiyali til hisoblanadi.\n",
        "\n",
        "* O’zgaruvchi dastur kodi ishlash davomida o’z turini istalgancha o’zgartirishi mumkin.\n",
        "\n",
        "* O’zgaruvchini turi faqat qiymat yuklanyotganda aniqlanadi.\n",
        "\n",
        "* O’zgaruvchini qiymat bermasdan e’lon qilib bo’lmaydi."
      ],
      "metadata": {
        "id": "6LMzCbFagGCT"
      }
    },
    {
      "cell_type": "markdown",
      "source": [
        "**O’zgaruvchini nomlash**"
      ],
      "metadata": {
        "id": "W9o4jYLlDtVD"
      }
    },
    {
      "cell_type": "markdown",
      "source": [
        "* O’zgaruvchini nomi faqat alifbo harflaridan, raqamlardan va _ belgisidan tashkil topishi mumkin.\n",
        "\n",
        "* O’zgaruvchini nomi faqat alifbo harfidan yoki _ belgisdan boshlanishi mumkin.\n",
        "\n",
        "* O’zgaruvchini nomi Python dasturlash tilidaki kalit so’zlar bilan bir hil bo’lmasligi lozim."
      ],
      "metadata": {
        "id": "3wpuTqfBgTek"
      }
    },
    {
      "cell_type": "code",
      "source": [
        "import keyword # keyword modulini chaqirib olish\n",
        "print(keyword.kwlist) # Python tilidagi barcha kalit so'zlarni ekranga chiqarish buyruqi"
      ],
      "metadata": {
        "colab": {
          "base_uri": "https://localhost:8080/"
        },
        "id": "UlH-CVyayyzk",
        "outputId": "0ba5fc56-3408-45ce-93b9-41132b86eb5e"
      },
      "execution_count": null,
      "outputs": [
        {
          "output_type": "stream",
          "name": "stdout",
          "text": [
            "['False', 'None', 'True', 'and', 'as', 'assert', 'async', 'await', 'break', 'class', 'continue', 'def', 'del', 'elif', 'else', 'except', 'finally', 'for', 'from', 'global', 'if', 'import', 'in', 'is', 'lambda', 'nonlocal', 'not', 'or', 'pass', 'raise', 'return', 'try', 'while', 'with', 'yield']\n"
          ]
        }
      ]
    },
    {
      "cell_type": "markdown",
      "source": [
        "['False', 'None', 'True', 'and', 'as', 'assert', 'async', 'await', 'break', 'class', 'continue', 'def', 'del', 'elif', 'else', 'except', 'finally', 'for', 'from', 'global', 'if', 'import', 'in', 'is', 'lambda', 'nonlocal', 'not', 'or', 'pass', 'raise', 'return', 'try', 'while', 'with', 'yield']"
      ],
      "metadata": {
        "id": "KR3XDOOuEgTh"
      }
    },
    {
      "cell_type": "code",
      "source": [
        "False = 3 # SyntaxError: can't assign to keyword"
      ],
      "metadata": {
        "id": "0NSgP_DpcNGz"
      },
      "execution_count": null,
      "outputs": []
    },
    {
      "cell_type": "markdown",
      "source": [
        "\n",
        "**O’zgaruvchini turini aniqlash**\n"
      ],
      "metadata": {
        "id": "5z5fNfmi21_k"
      }
    },
    {
      "cell_type": "markdown",
      "source": [
        "* O’zgaruvchi turini aniqlash uchun type() funksiyasi ishlatiladi: type(o'zgaruvchi)\n",
        "\n",
        "* type() funksiyasi o’zgaruvchini ayni paytdagi tipini aniqlaydi."
      ],
      "metadata": {
        "id": "5xgra9F6hOMu"
      }
    },
    {
      "cell_type": "code",
      "source": [
        "a = input(\" a = \") # a = str(input(\" a = \"))==input(\" a = \")"
      ],
      "metadata": {
        "colab": {
          "base_uri": "https://localhost:8080/"
        },
        "id": "_XoiXqHycXXE",
        "outputId": "9a6a28e1-70c7-4528-f2e5-ade03adaa872"
      },
      "execution_count": null,
      "outputs": [
        {
          "name": "stdout",
          "output_type": "stream",
          "text": [
            " a = 23\n"
          ]
        }
      ]
    },
    {
      "cell_type": "code",
      "source": [
        "type(a) # str()-string tipi chiqib keladi type-tur"
      ],
      "metadata": {
        "colab": {
          "base_uri": "https://localhost:8080/"
        },
        "id": "vDYcXOcnwI_3",
        "outputId": "603a12fa-9131-4181-ce82-0096d48e712c"
      },
      "execution_count": null,
      "outputs": [
        {
          "output_type": "execute_result",
          "data": {
            "text/plain": [
              "str"
            ]
          },
          "metadata": {},
          "execution_count": 17
        }
      ]
    },
    {
      "cell_type": "code",
      "source": [
        "# Mavzu: \n",
        "# Qiymatlarni almashtirish, g‘ayritabiiy qiymatlar bilan ishlashga doir misollar"
      ],
      "metadata": {
        "id": "qW_g4gmYtJib"
      },
      "execution_count": null,
      "outputs": []
    },
    {
      "cell_type": "markdown",
      "metadata": {
        "id": "9awwDPFaO4Gk"
      },
      "source": [
        "# Sonlar"
      ]
    },
    {
      "cell_type": "code",
      "execution_count": null,
      "metadata": {
        "colab": {
          "base_uri": "https://localhost:8080/"
        },
        "id": "LCr1yZSOOekS",
        "outputId": "48b43c47-e879-4896-d4e2-2c9cd4694704"
      },
      "outputs": [
        {
          "output_type": "execute_result",
          "data": {
            "text/plain": [
              "4"
            ]
          },
          "metadata": {},
          "execution_count": 18
        }
      ],
      "source": [
        "2*2"
      ]
    },
    {
      "cell_type": "code",
      "execution_count": null,
      "metadata": {
        "colab": {
          "base_uri": "https://localhost:8080/"
        },
        "id": "MwPoLCMxPGNg",
        "outputId": "3cec542a-169e-448a-d15c-4b7c1b50d103"
      },
      "outputs": [
        {
          "output_type": "execute_result",
          "data": {
            "text/plain": [
              "26"
            ]
          },
          "metadata": {},
          "execution_count": 20
        }
      ],
      "source": [
        "50-3*8 # algebradagi amallar bajarilish ketma-ketligi bu yerda ham ishlaydi"
      ]
    },
    {
      "cell_type": "code",
      "execution_count": null,
      "metadata": {
        "colab": {
          "base_uri": "https://localhost:8080/"
        },
        "id": "vfhxbPAOPPs9",
        "outputId": "1f53beaf-ab6f-4f43-bc42-138135211c88"
      },
      "outputs": [
        {
          "output_type": "execute_result",
          "data": {
            "text/plain": [
              "5.0"
            ]
          },
          "metadata": {},
          "execution_count": 22
        }
      ],
      "source": [
        "(50-5*6)/4 # algebradagi amallar bajarilish ketma-ketligi bu yerda ham ishlaydi"
      ]
    },
    {
      "cell_type": "code",
      "execution_count": null,
      "metadata": {
        "colab": {
          "base_uri": "https://localhost:8080/"
        },
        "id": "UKHocZMgPXC9",
        "outputId": "11bd3661-f06a-45e2-910d-ed50229c76f2"
      },
      "outputs": [
        {
          "output_type": "execute_result",
          "data": {
            "text/plain": [
              "1.6"
            ]
          },
          "metadata": {},
          "execution_count": 23
        }
      ],
      "source": [
        "8/5"
      ]
    },
    {
      "cell_type": "markdown",
      "metadata": {
        "id": "aeBFcuJtQnKI"
      },
      "source": [
        "5, 1, 18, -26, 64, -1024 kabi butun sonlarni ***int*** (integer) tipidagi sonlar deb ataymiz.\n",
        "\n",
        "---\n",
        "\n",
        "\n",
        "5.0, 1.0, -2.25, 3.999999, -56.57 kabi o'nli kasr ko'rinishidagi sonlarni *float* tipidagi sonlar deb ataymiz"
      ]
    },
    {
      "cell_type": "markdown",
      "source": [
        "Faqat dasturlashda o'nli kasrlar biz biladigan algebradagi vergul bn emas, nuqta bilan ajratiladi: \n",
        "* 3,14-xato yozildi; \n",
        "* 3.14-to'g'ri yozildi."
      ],
      "metadata": {
        "id": "ryVpLbtEi12N"
      }
    },
    {
      "cell_type": "markdown",
      "source": [
        "**Pythonda o’zgaruvchi ustida arifmetik amallar**"
      ],
      "metadata": {
        "id": "gOpGpj56HwfR"
      }
    },
    {
      "cell_type": "markdown",
      "source": [
        "*O’zgaruvchi ustida quyidagi amallarni bajarish mumkin:*\n",
        "\n",
        "* qo’shuv (+)\n",
        "\n",
        "* ayiruv (−)\n",
        "\n",
        "* ko’paytiruv (∗)\n",
        "\n",
        "* bo’luv (/) # oddiy bo'luv-natijani float(o'nli kasr) ko'rinishida qaytaradi\n",
        "\n",
        "* pastga yahlitlash (//) # bo'linmani butun qismini oladi\n",
        "\n",
        "* daraja (∗∗) # a**4=a x a x a x a # a ning 4-darajasi\n",
        "\n",
        "* qoldiq (%) # bo'linmani qoldiq qismini qaytaradi: 16%3 = 1"
      ],
      "metadata": {
        "id": "b7PR4ACkjGgN"
      }
    },
    {
      "cell_type": "code",
      "execution_count": null,
      "metadata": {
        "colab": {
          "base_uri": "https://localhost:8080/"
        },
        "id": "YZ_XxvuVQGH1",
        "outputId": "320396fb-dc60-4545-f8cd-598bfd314129"
      },
      "outputs": [
        {
          "output_type": "execute_result",
          "data": {
            "text/plain": [
              "6.333333333333333"
            ]
          },
          "metadata": {},
          "execution_count": 24
        }
      ],
      "source": [
        "19/3 # oddiy bo'luv-natijani float(o'nli kasr) ko'rinishida qaytaradi"
      ]
    },
    {
      "cell_type": "code",
      "source": [
        "15/3 # oddiy bo'luv-natijani float(o'nli kasr) ko'rinishida qaytaradi 15/3=5 emas 5.0 kabi qaytaradi"
      ],
      "metadata": {
        "colab": {
          "base_uri": "https://localhost:8080/"
        },
        "id": "j0uZL9_fyIe1",
        "outputId": "8ce0a74b-ccc6-4d84-8b0f-280d855a627a"
      },
      "execution_count": null,
      "outputs": [
        {
          "output_type": "execute_result",
          "data": {
            "text/plain": [
              "5.0"
            ]
          },
          "metadata": {},
          "execution_count": 25
        }
      ]
    },
    {
      "cell_type": "code",
      "source": [
        "15//3 # 15/3=5(0q) 15//3 = 5 ni olib beradi"
      ],
      "metadata": {
        "colab": {
          "base_uri": "https://localhost:8080/"
        },
        "id": "tUtR3kwol01P",
        "outputId": "e1d593e8-da82-441a-8436-05e3ffd0dea8"
      },
      "execution_count": null,
      "outputs": [
        {
          "output_type": "execute_result",
          "data": {
            "text/plain": [
              "5"
            ]
          },
          "metadata": {},
          "execution_count": 26
        }
      ]
    },
    {
      "cell_type": "code",
      "execution_count": null,
      "metadata": {
        "colab": {
          "base_uri": "https://localhost:8080/"
        },
        "id": "8-02zO_OSi57",
        "outputId": "c84c7d39-128f-4ace-cbeb-c1b7307dbc31"
      },
      "outputs": [
        {
          "output_type": "execute_result",
          "data": {
            "text/plain": [
              "6"
            ]
          },
          "metadata": {},
          "execution_count": 27
        }
      ],
      "source": [
        "19//3 # bo'linmani butun qismini oladi: 19/3 = 6(1q); 19//3=6 ni olib beradi"
      ]
    },
    {
      "cell_type": "code",
      "execution_count": null,
      "metadata": {
        "colab": {
          "base_uri": "https://localhost:8080/"
        },
        "id": "9HJF1qwOSnx2",
        "outputId": "7a31a184-3705-48ac-f374-1605ecb31783"
      },
      "outputs": [
        {
          "output_type": "execute_result",
          "data": {
            "text/plain": [
              "1"
            ]
          },
          "metadata": {},
          "execution_count": 8
        }
      ],
      "source": [
        "19%3 # bo'linmani qoldiq qismini oladi: 19/3 = 6(1q); 19%3=(1q) ni olib beradi"
      ]
    },
    {
      "cell_type": "code",
      "source": [
        "12%5"
      ],
      "metadata": {
        "colab": {
          "base_uri": "https://localhost:8080/"
        },
        "id": "mvfcfSTBef2r",
        "outputId": "7264f068-04c9-40e5-de82-436433222b82"
      },
      "execution_count": null,
      "outputs": [
        {
          "output_type": "execute_result",
          "data": {
            "text/plain": [
              "2"
            ]
          },
          "metadata": {},
          "execution_count": 28
        }
      ]
    },
    {
      "cell_type": "code",
      "source": [
        "12//5"
      ],
      "metadata": {
        "colab": {
          "base_uri": "https://localhost:8080/"
        },
        "id": "aNezUe7QevQz",
        "outputId": "1814cd2b-e1c3-4c51-e541-0acf266c4bd1"
      },
      "execution_count": null,
      "outputs": [
        {
          "output_type": "execute_result",
          "data": {
            "text/plain": [
              "2"
            ]
          },
          "metadata": {},
          "execution_count": 29
        }
      ]
    },
    {
      "cell_type": "code",
      "source": [
        "53264255 % 623"
      ],
      "metadata": {
        "colab": {
          "base_uri": "https://localhost:8080/"
        },
        "id": "uebNyHyImM63",
        "outputId": "cf86b9c6-4647-4ee3-9223-2a38115b5b71"
      },
      "execution_count": null,
      "outputs": [
        {
          "output_type": "execute_result",
          "data": {
            "text/plain": [
              "247"
            ]
          },
          "metadata": {},
          "execution_count": 7
        }
      ]
    },
    {
      "cell_type": "code",
      "execution_count": null,
      "metadata": {
        "colab": {
          "base_uri": "https://localhost:8080/"
        },
        "id": "deSde0OeSzG3",
        "outputId": "f196a216-f161-48e4-e966-4a9991b5e007"
      },
      "outputs": [
        {
          "output_type": "execute_result",
          "data": {
            "text/plain": [
              "125"
            ]
          },
          "metadata": {},
          "execution_count": 9
        }
      ],
      "source": [
        "5**3 # darajaga ko'tarish 5**3 = 5*5*5=125; a**(n/m); a**n/m"
      ]
    },
    {
      "cell_type": "markdown",
      "source": [
        "**Amal bajarish prioriteti**"
      ],
      "metadata": {
        "id": "5-fyXBVFFeLs"
      }
    },
    {
      "cell_type": "markdown",
      "source": [
        "**Arifmetik amallar quyidagi tartibda bajariladi:**\n",
        "\n",
        "1. Eng katta prioritet daraja(∗∗) belgisida va qavslarda.\n",
        "2. Undan keyin bo’lish(/) va ko’paytirish(∗) amallari.\n",
        "3. Qo’shish(+) va ayirish(−) amallari ohirida bajariladi.\n",
        "\n",
        "* Daraja amali ketma-ket kelgan bo’lsa, o’ngdan chapga qarab hisoblanadi.\n",
        "* Qolgan arifmetik amallar uchun chapdan o’ngga bajariladi.\n"
      ],
      "metadata": {
        "id": "xNSm9D1Wj-TV"
      }
    },
    {
      "cell_type": "code",
      "source": [
        "(12+24)**3/3**2**2+8*9/3 # 3**2**4=9**4(xato);  3**16(to'g'ri) \n",
        "# 1. (12+24)=36\n",
        "# 2. (12+24)**3=46 656\n",
        "# 3. 3**2**2 => 2**2 = 4; 3**2**2 = 3**4 = 81 daraja ketma-ket kelsa o'ngdanm chapga qarab keladi\n",
        "# 4. (12+24)**3 / 3**4 = 46 656/81 = 576.0\n",
        "# 5. 8*9=72\n",
        "# 6. 8*9/3=24.0\n",
        "# 7. #4. + #6 = 576.0 + 24.0 = 600.0 => (12+24)**3/3**2**2 + 8*9/3 = 600.0"
      ],
      "metadata": {
        "colab": {
          "base_uri": "https://localhost:8080/"
        },
        "id": "8XvEyZn1GDXB",
        "outputId": "090446cf-3cb6-44be-b798-09171b84ef03"
      },
      "execution_count": null,
      "outputs": [
        {
          "output_type": "execute_result",
          "data": {
            "text/plain": [
              "600.0"
            ]
          },
          "metadata": {},
          "execution_count": 10
        }
      ]
    },
    {
      "cell_type": "code",
      "source": [
        "23 + 12 # butun sonlarni qo'shish"
      ],
      "metadata": {
        "colab": {
          "base_uri": "https://localhost:8080/"
        },
        "id": "M3VWSF9pnX0W",
        "outputId": "9a435135-e834-426e-8718-d40eb3117905"
      },
      "execution_count": null,
      "outputs": [
        {
          "output_type": "execute_result",
          "data": {
            "text/plain": [
              "35"
            ]
          },
          "metadata": {},
          "execution_count": 30
        }
      ]
    },
    {
      "cell_type": "code",
      "source": [
        "23 + 12.6 # 23 + 12.0 = 23.0 + 12.0 int va float larni qo'shish; 3=3.0=3.00=3.0000...."
      ],
      "metadata": {
        "colab": {
          "base_uri": "https://localhost:8080/"
        },
        "id": "oaSxAwVxnMeq",
        "outputId": "6f7f02d1-192f-4a70-b8f5-1cdd9275c8c6"
      },
      "execution_count": null,
      "outputs": [
        {
          "output_type": "execute_result",
          "data": {
            "text/plain": [
              "35.0"
            ]
          },
          "metadata": {},
          "execution_count": 31
        }
      ]
    },
    {
      "cell_type": "code",
      "execution_count": null,
      "metadata": {
        "colab": {
          "base_uri": "https://localhost:8080/"
        },
        "id": "3o0FMsCPS5cO",
        "outputId": "396a6d33-dccd-43a2-80f5-8489b9ab8c03"
      },
      "outputs": [
        {
          "output_type": "stream",
          "name": "stdout",
          "text": [
            "600\n"
          ]
        }
      ],
      "source": [
        "# 3сывс222__9 = 4 \n",
        "# uzunlik👍=20 # O'zgaruvchilarni nomlashga mizollar\n",
        "\n",
        "uzunlik=20 # O'zgaruvchilarni nomlashga mizollar\n",
        "kenglik=30 # To'g'ridan to'gri o'zgaruvchilarga qiymat berytapmiz\n",
        "Maydon = uzunlik*kenglik\n",
        "print(Maydon)# xuddi shu ishni foydalunuvchi kiritgan malumotlardan foydalanib qilaylik:\n",
        "# uzunlik,maydon lar- o'nli kasrlar(float) ham bo'lishi mumkin 33.2m, 15.5 , ...:"
      ]
    },
    {
      "cell_type": "code",
      "source": [
        "uzunlik = float(input(\"uzunlikni kiriting: \"))# float tipidagi o'zgaruvchini foydalanuvchi tomindan kiritb olish\n",
        "kenglik = float(input(\"kenglikni kiriting: \"))# float tipidagi o'zgaruvchini foydalanuvchi tomindan kiritb olish\n",
        "maydon = uzunlik*kenglik\n",
        "print(\"Berilgan o'lchovlarga mos maydon yuzi: \", maydon)"
      ],
      "metadata": {
        "colab": {
          "base_uri": "https://localhost:8080/"
        },
        "id": "qKooeKiizXm-",
        "outputId": "2742f3ad-76ab-4c1e-c86c-9b011a5ccf95"
      },
      "execution_count": null,
      "outputs": [
        {
          "output_type": "stream",
          "name": "stdout",
          "text": [
            "uzunlikni kiriting: 25.5\n",
            "kenglikni kiriting: 12\n",
            "Berilgan o'lchovlarga mos maydon yuzi:  306.0\n"
          ]
        }
      ]
    },
    {
      "cell_type": "code",
      "execution_count": null,
      "metadata": {
        "colab": {
          "base_uri": "https://localhost:8080/"
        },
        "id": "sy0okFCoTnDA",
        "outputId": "c3b0677c-b856-4375-c3c2-c3093069e86f"
      },
      "outputs": [
        {
          "output_type": "execute_result",
          "data": {
            "text/plain": [
              "324.0"
            ]
          },
          "metadata": {},
          "execution_count": 14
        }
      ],
      "source": [
        "40*2**3+36/3**2 # 40*2**3+36/3**2 = 324\n",
        "# 1. 40*2=80? >> 2**3 = 8\n",
        "# 2. 80**3 = 80*80*80 = 512 000? >> 40*8 = 320\n",
        "# 3. 36/3=12.0? >> 3**2 = 9 # 3**2 = 3*3=9\n",
        "# 4. 12**2=144? >> 36/9=4.0\n",
        "# 5. 512 000+144 = 512 144? 320+4.0=324.0"
      ]
    },
    {
      "cell_type": "markdown",
      "source": [
        "# **O’zgaruvchini e’lon qilish**\n",
        "O’zgaruvchini e’lon qilish uchun int(), str(), float(), bool() funksiyalaridan foydalanish mumkin."
      ],
      "metadata": {
        "id": "OjOVXYKf3RRD"
      }
    },
    {
      "cell_type": "code",
      "source": [
        "a = int()# a-butun sonni elon qilish\n",
        "b = str()  # b - bo'sh satrni elon qilish\n",
        "c = float() # c-haqiqiy sonni elon qilish\n",
        "d = bool() # d-mantiqiy tipni elon qilish"
      ],
      "metadata": {
        "id": "XDQbAH0n3XHY"
      },
      "execution_count": null,
      "outputs": []
    },
    {
      "cell_type": "markdown",
      "source": [
        "**Butun sonlar-int()**"
      ],
      "metadata": {
        "id": "GhMlRWul1B_q"
      }
    },
    {
      "cell_type": "code",
      "source": [
        "# Butun son >>> int\n",
        "# Istalgan butun sonni o’z ichiga oladi.\n",
        "# Sonni kattalik o’lchami kompyuter operativ hotirasiga bog’liq.\n",
        "# Musbat son\n",
        "pos_num = 125\n",
        "print(pos_num)\n",
        "\n",
        "# Manfiy son\n",
        "neg_num = -19\n",
        "print(neg_num)\n",
        "\n",
        "# Katta son\n",
        "big_num = 1234567890987654321\n",
        "print(big_num)\n",
        "# natija:\n",
        "# 125\n",
        "# -19\n",
        "# 1234567890987654321"
      ],
      "metadata": {
        "colab": {
          "base_uri": "https://localhost:8080/"
        },
        "id": "uptx61hX0con",
        "outputId": "ce3aa9b8-74ff-4173-d4ec-061d2bf02ebd"
      },
      "execution_count": null,
      "outputs": [
        {
          "output_type": "stream",
          "name": "stdout",
          "text": [
            "125\n",
            "-19\n",
            "1234567890987654321\n"
          ]
        }
      ]
    },
    {
      "cell_type": "code",
      "source": [
        "# 111010101001011010101010010101010101001111 - 64 ta 1 va 0 lar yoradmida qanday sonni shifrlash mumkin \n",
        "# bo'lsa shuncha sonni int toifasida saqlash mumkin(Podskazka)"
      ],
      "metadata": {
        "id": "1_mxtdDsrHuY"
      },
      "execution_count": null,
      "outputs": []
    },
    {
      "cell_type": "markdown",
      "source": [
        "**O'nli kasrlar-float()**"
      ],
      "metadata": {
        "id": "vSgp3Y9U06PF"
      }
    },
    {
      "cell_type": "code",
      "source": [
        "# Haqiqiy son >>> float\n",
        "# Butun son ustida bajarish mumkin bo'lgan deyarli barcha amallarni o'z ichiga oladi.\n",
        "# Aniqlik chegaralangan.\n",
        "# Phythonda o'nli kasrlar nuqta bilan ajratiladi\n",
        "pi = 3.14\n",
        "print(pi)\n",
        "\n",
        "a = 2\n",
        "b = 7\n",
        "print(a / b)  # Butun sonni butun songa bo'lganda natija haqiqiy songa aylanadi.\n",
        "\n",
        "a = 2.0001\n",
        "b = 0.1\n",
        "print(a + b)  # aniqlik chegaralangan.\n",
        "# ekranga chiqadigan natijalar:\n",
        "# 3.14\n",
        "# 0.2857142857142857\n",
        "# 2.1001000000000003"
      ],
      "metadata": {
        "colab": {
          "base_uri": "https://localhost:8080/"
        },
        "id": "SGfQwoxz0s-m",
        "outputId": "df11b17e-25bb-485a-dc98-8f0575b69078"
      },
      "execution_count": null,
      "outputs": [
        {
          "output_type": "stream",
          "name": "stdout",
          "text": [
            "3.14\n",
            "0.2857142857142857\n",
            "2.1001000000000003\n"
          ]
        }
      ]
    },
    {
      "cell_type": "markdown",
      "source": [
        "**Mantiqiy tip(boolean)-bool()**"
      ],
      "metadata": {
        "id": "j5o6ySzY1fQg"
      }
    },
    {
      "cell_type": "code",
      "source": [
        "# Mantiqiy tip bool\n",
        "# Qiymat faqat True(Rost) yoki False(Yolg’on) bo’lishi mumkin.\n",
        "isdigit = True\n",
        "checked = False\n",
        "a = 12 > 3 # a = True\n",
        "print(\"a = \", a)\n",
        "print(isdigit, checked)\n",
        "# Ekranga chiqadigan natijalar:\n",
        "# True False"
      ],
      "metadata": {
        "colab": {
          "base_uri": "https://localhost:8080/"
        },
        "id": "Lx15FO7I1Y4g",
        "outputId": "2c249d6b-b812-4893-d187-1191b1fcca01"
      },
      "execution_count": null,
      "outputs": [
        {
          "output_type": "stream",
          "name": "stdout",
          "text": [
            "a =  False\n",
            "True False\n"
          ]
        }
      ]
    },
    {
      "cell_type": "markdown",
      "metadata": {
        "id": "tu3eivUbUUQP"
      },
      "source": [
        "**Matnlar(satrlar)-str()**"
      ]
    },
    {
      "cell_type": "markdown",
      "metadata": {
        "id": "WWdUi6yhU66f"
      },
      "source": [
        "Pythonda matnlar bir tirnoq ('....') yoki qo'sh tirnoq (\"....\") larga olib yoziladi. Qaysi birini qo'llashning farqi yo'q!\n",
        "Satrlar:\n",
        "1.   Ketma-ket belgilardan tashkil topadi.\n",
        "2.   Belgilar istalgan Unicode kodidagi simvol bo’lishi mumkin.\n",
        "3.   Satrlarni qo’shish va songa ko’paytirish mumkin.\n",
        "\n",
        "\n"
      ]
    },
    {
      "cell_type": "code",
      "source": [
        "satr1 = \"Salom, \"\n",
        "satr2 = \"Python\"\n",
        "print(satr1 + satr2) # ortiga ulash amali: concontenatsiya\n",
        "\n",
        "satr = 'gap' # Ko'paytrish esa huddi algebradagidek: a+a+a=3*a\n",
        "print(satr * 5) # satr*5 = satr+satr+satr+satr+satr"
      ],
      "metadata": {
        "colab": {
          "base_uri": "https://localhost:8080/"
        },
        "id": "bL3HlN-o1-77",
        "outputId": "7145e2b7-3c8c-481e-90af-56a8b43c184f"
      },
      "execution_count": null,
      "outputs": [
        {
          "output_type": "stream",
          "name": "stdout",
          "text": [
            "Salom, Python\n",
            "gapgapgapgapgap\n"
          ]
        }
      ]
    },
    {
      "cell_type": "code",
      "execution_count": null,
      "metadata": {
        "colab": {
          "base_uri": "https://localhost:8080/"
        },
        "id": "tzOaXiYmT2Rc",
        "outputId": "4a85a36a-a1e4-4125-c7ee-e4355768bac1"
      },
      "outputs": [
        {
          "output_type": "stream",
          "name": "stdout",
          "text": [
            "Hello world\n",
            "U yo'q dedi\n",
            "Hamma teshikka burnimni tiqsam 'Ok'mi?\n",
            "Hamma teshikka burnimni tiqsam 'Ok'mi?\n"
          ]
        }
      ],
      "source": [
        "print('Hello world')\n",
        "print('U yo\\'q dedi')# \\...  backslesh o'zidan keyingi belgini hisobga oldirmay turadi\n",
        "print(\"Hamma teshikka burnimni tiqsam 'Ok'mi?\")\n",
        "print('Hamma teshikka burnimni tiqsam \\'Ok\\'mi?')"
      ]
    },
    {
      "cell_type": "markdown",
      "metadata": {
        "id": "PjYwVDdBZDey"
      },
      "source": [
        "## Matnlarni qatorlarga bo'lib yozish "
      ]
    },
    {
      "cell_type": "markdown",
      "source": [
        "Katta hajmdagi satrlarni ekranga chiqarganda yoki, izoh qilganda 3 ta bir tirnoq yoki qo'shtirnoqlardan foydalaniladi: \n",
        "\n",
        "*   '''...''' yoki \n",
        "*   \"\"\"...\"\"\"\n",
        "\n",
        "\\n - backslesh yangi qator(newline)ga tushirish uchun ishlatiladi\n",
        "\n"
      ],
      "metadata": {
        "id": "9ncdr_gEK5oU"
      }
    },
    {
      "cell_type": "code",
      "execution_count": null,
      "metadata": {
        "colab": {
          "base_uri": "https://localhost:8080/"
        },
        "id": "QF-SHpDJWq-e",
        "outputId": "40890ef1-afee-499b-c32d-b7ed4f0820ff"
      },
      "outputs": [
        {
          "output_type": "stream",
          "name": "stdout",
          "text": [
            "\n",
            " Bo'limni tanlang: [Bo'limlar]\n",
            "                -h                     Operatordan yordam olish\n",
            "                -H                     Ortga qaytish\n",
            "                xjsaxnckmlsacklsacmasklcsamcklsacmsakcmasca\n",
            "                xaskjxnaskxnasxkjsanxaskjxnsakxjsaxnsajxnsaxjsaxnsa\n",
            "saxjksnxkjasxn\n",
            "          xklsamxkslaxasmx\n",
            "\n"
          ]
        }
      ],
      "source": [
        "print(\"\"\"\\n Bo'limni tanlang: [Bo'limlar]\n",
        "                -h                     Operatordan yordam olish\n",
        "                -H                     Ortga qaytish\n",
        "                xjsaxnckmlsacklsacmasklcsamcklsacmsakcmasca\n",
        "                xaskjxnaskxnasxkjsanxaskjxnsakxjsaxnsajxnsaxjsaxnsa\n",
        "saxjksnxkjasxn\n",
        "          xklsamxkslaxasmx\n",
        "\"\"\") # bu 3 tirnoq ichida habar qanday kiritilsa shunday ekranga chiqadi"
      ]
    },
    {
      "cell_type": "markdown",
      "metadata": {
        "id": "InhgKFWBYSpc"
      },
      "source": [
        "Matnlarni * belgisi orqali takrorlash mumkin va + belgisi orqali ulash mumkin"
      ]
    },
    {
      "cell_type": "code",
      "execution_count": null,
      "metadata": {
        "colab": {
          "base_uri": "https://localhost:8080/",
          "height": 35
        },
        "id": "0VDWaz-AYFDD",
        "outputId": "1c835acf-1352-4d88-8424-d234769a5303"
      },
      "outputs": [
        {
          "output_type": "execute_result",
          "data": {
            "text/plain": [
              "'hahahahaHaaa'"
            ],
            "application/vnd.google.colaboratory.intrinsic+json": {
              "type": "string"
            }
          },
          "metadata": {},
          "execution_count": 22
        }
      ],
      "source": [
        "4*\"ha\"+\"Haaa\""
      ]
    },
    {
      "cell_type": "code",
      "execution_count": 1,
      "metadata": {
        "colab": {
          "base_uri": "https://localhost:8080/"
        },
        "id": "NjguprcBYyXU",
        "outputId": "0b35f888-948c-4df3-9907-910094f65b3e"
      },
      "outputs": [
        {
          "output_type": "stream",
          "name": "stdout",
          "text": [
            "Salom, Abdulaziz!\n",
            "A, B, C\n",
            "ds kino c\n"
          ]
        }
      ],
      "source": [
        "print('Salom, {}!' .format('Abdulaziz')) # .format(arg1) qilsak satr ichidagi {} lar orasiga arg1 ni joylaydi\n",
        "print('{}, {}, {}' .format('A', 'B', 'C'))\n",
        "print('ds{}c'.format(\" kino \"))"
      ]
    },
    {
      "cell_type": "code",
      "source": [
        "# Yuqoridagi metodni alternativi\n",
        "ism = 8\n",
        "print(f\"Salom {ism}, \\nSog'ligingiz qalay?\")"
      ],
      "metadata": {
        "colab": {
          "base_uri": "https://localhost:8080/"
        },
        "id": "r-QSN7xGqu1Y",
        "outputId": "83a0c034-5e7e-4669-973a-90c5a0aceb5a"
      },
      "execution_count": 2,
      "outputs": [
        {
          "output_type": "stream",
          "name": "stdout",
          "text": [
            "Salom 8, \n",
            "Sog'ligingiz qalay?\n"
          ]
        }
      ]
    },
    {
      "cell_type": "markdown",
      "metadata": {
        "id": "Nu1iJFj9edBW"
      },
      "source": [
        "# Ma'lumotlar modeli"
      ]
    },
    {
      "cell_type": "markdown",
      "metadata": {
        "id": "id6Cg7BCa5ef"
      },
      "source": [
        "Pythonda barcha yaratilganlar hammasi deyarli obyektlar hisoblanadi (kalit so'zlardan tashqari). Har bir obyekt quyidagi xususiyatlarga ega:\n",
        "\n",
        "\n",
        "*  Ma'no (identity)\n",
        "*  Tip (type)\n",
        "*  Qiymat (value) \n",
        "\n",
        "Obyekt mohiyati u yaratilagandan so'ng o'zgarmaydi. Uni kompyuter xotirasidagi manzili sifatida tasavvur qilish mumkin.\n",
        "\n",
        "Misol uchun s=17 degan kodni yozsak, 17 qiymatli int tipidagi obyekt yaratiladi. Bu yerda uning mohiyati kompyuter xotirasidagi joylashuvi, \"s\" harfi esa shu joylashuvga yo'naltiruvchi belgi\n",
        "\n",
        "\n",
        "\n"
      ]
    },
    {
      "cell_type": "code",
      "execution_count": null,
      "metadata": {
        "id": "6Y9iMfERaWFP"
      },
      "outputs": [],
      "source": [
        "s=17\n",
        "a=21"
      ]
    },
    {
      "cell_type": "code",
      "execution_count": null,
      "metadata": {
        "colab": {
          "base_uri": "https://localhost:8080/"
        },
        "id": "WgztxYJXe55o",
        "outputId": "d2e63e4b-d858-4de9-ba84-b0e6e32a4d22"
      },
      "outputs": [
        {
          "output_type": "execute_result",
          "data": {
            "text/plain": [
              "11123104"
            ]
          },
          "metadata": {},
          "execution_count": 37
        }
      ],
      "source": [
        "id(s) # s ni xotirada joylashgan manzilini olib olish"
      ]
    },
    {
      "cell_type": "code",
      "execution_count": null,
      "metadata": {
        "colab": {
          "base_uri": "https://localhost:8080/"
        },
        "id": "YZMxVrmEe70o",
        "outputId": "701f1802-8ac3-4e60-be8c-3d63b6748fbd"
      },
      "outputs": [
        {
          "output_type": "execute_result",
          "data": {
            "text/plain": [
              "11123232"
            ]
          },
          "metadata": {},
          "execution_count": 38
        }
      ],
      "source": [
        "id(a) # a ni xotirada joylashgan manzilini olib olish"
      ]
    },
    {
      "cell_type": "code",
      "execution_count": null,
      "metadata": {
        "id": "WnpHqNccfDj7"
      },
      "outputs": [],
      "source": [
        "a=17 # a ning qiymatini 17 qiymatiga bog'layapmiz(reference-havola qilyapmiz):"
      ]
    },
    {
      "cell_type": "code",
      "execution_count": null,
      "metadata": {
        "colab": {
          "base_uri": "https://localhost:8080/"
        },
        "id": "lYgLGRCPfX0s",
        "outputId": "90aabade-6a8a-467d-8cff-2f5cee4b0ad2"
      },
      "outputs": [
        {
          "output_type": "execute_result",
          "data": {
            "text/plain": [
              "11123104"
            ]
          },
          "metadata": {},
          "execution_count": 48
        }
      ],
      "source": [
        "id(a) # shu sabab id(a)==id(s) ikkalasi 1 ta qiymatga bog'langan"
      ]
    },
    {
      "cell_type": "code",
      "source": [
        "k = 21\n",
        "print(id(k))"
      ],
      "metadata": {
        "colab": {
          "base_uri": "https://localhost:8080/"
        },
        "id": "L3Ve3OKpqRaR",
        "outputId": "5ccf8fd5-45b5-4dbe-eccc-4473330aa5ef"
      },
      "execution_count": null,
      "outputs": [
        {
          "output_type": "stream",
          "name": "stdout",
          "text": [
            "11123232\n"
          ]
        }
      ]
    },
    {
      "cell_type": "code",
      "source": [
        "id(17)"
      ],
      "metadata": {
        "colab": {
          "base_uri": "https://localhost:8080/"
        },
        "id": "Xc3k71Wktnyb",
        "outputId": "b636a898-9a3b-4359-dad3-809a6a64e961"
      },
      "execution_count": null,
      "outputs": [
        {
          "output_type": "execute_result",
          "data": {
            "text/plain": [
              "11123104"
            ]
          },
          "metadata": {},
          "execution_count": 56
        }
      ]
    },
    {
      "cell_type": "markdown",
      "source": [
        "**Pythonda 2 xil solishtrish bor:**\n",
        "* is orqali\n",
        "* == orqali"
      ],
      "metadata": {
        "id": "HZqGQIJlNuNb"
      }
    },
    {
      "cell_type": "markdown",
      "source": [
        "Qachon \"==\" yoki \"is\" lardan foydalanish kerakligini aytadigan oddiy qoida mavjud:\n",
        "* \"==\" - faqat qiymat tengligi solishtrish uchun. Ikki obyektning bir xil qiymatga ega ekanligini bilmoqchi bo'lsangiz, undan foydalaning.(value eqality)\n",
        "* \"is\" - mos yozuvlar tengligi uchundir. Ikki havola bir xil obyektga tegishli ekanligini bilmoqchi bo'lsangiz, undan foydalaning.(reference equality-havola,bog'lama)"
      ],
      "metadata": {
        "id": "klNbMGQt5VW5"
      }
    },
    {
      "cell_type": "code",
      "execution_count": null,
      "metadata": {
        "colab": {
          "base_uri": "https://localhost:8080/"
        },
        "id": "sz3Tl4pwfayh",
        "outputId": "48900d9a-caa0-449d-ee80-837275d7ce89"
      },
      "outputs": [
        {
          "output_type": "execute_result",
          "data": {
            "text/plain": [
              "True"
            ]
          },
          "metadata": {},
          "execution_count": 49
        }
      ],
      "source": [
        "a is s # chunki bog'langanning(havolaning) qiymatlari ham, manzili ham teng bo'ldi"
      ]
    },
    {
      "cell_type": "code",
      "execution_count": null,
      "metadata": {
        "colab": {
          "base_uri": "https://localhost:8080/"
        },
        "id": "M5ob7Lhmfgxc",
        "outputId": "727b0e7e-5fc6-48ef-a8c0-04abcc7cfd74"
      },
      "outputs": [
        {
          "output_type": "execute_result",
          "data": {
            "text/plain": [
              "True"
            ]
          },
          "metadata": {},
          "execution_count": 50
        }
      ],
      "source": [
        "a == s # bu esa qiymatlar tengligiga tekshiradi holos"
      ]
    },
    {
      "cell_type": "code",
      "execution_count": null,
      "metadata": {
        "id": "GugcV6zjfpL6"
      },
      "outputs": [],
      "source": [
        "c=[1,2,3] # listlarda(ro'yxatlarda) sinab ko'raylik\n",
        "d=[1,2,3]"
      ]
    },
    {
      "cell_type": "code",
      "execution_count": null,
      "metadata": {
        "colab": {
          "base_uri": "https://localhost:8080/"
        },
        "id": "nFeKzfz0gX3l",
        "outputId": "737dbfae-c746-4049-f319-d0a01fe839af"
      },
      "outputs": [
        {
          "output_type": "execute_result",
          "data": {
            "text/plain": [
              "140183500790272"
            ]
          },
          "metadata": {},
          "execution_count": 25
        }
      ],
      "source": [
        "id(c) # c ro'yxatining xotiradagi manzili"
      ]
    },
    {
      "cell_type": "code",
      "execution_count": null,
      "metadata": {
        "colab": {
          "base_uri": "https://localhost:8080/"
        },
        "id": "xFV0vNA0gaz6",
        "outputId": "6be506a0-15f3-451f-e254-7cf6fe4efc9a"
      },
      "outputs": [
        {
          "output_type": "execute_result",
          "data": {
            "text/plain": [
              "140183500805696"
            ]
          },
          "metadata": {},
          "execution_count": 26
        }
      ],
      "source": [
        "id(d) # d ro'yxatining xotiradagi manzili"
      ]
    },
    {
      "cell_type": "markdown",
      "source": [
        "Yuqoridagidan ko'rishimiz mumkinki c va d bir hil ro'yxatlar har hil id manzillarga(havolalarga) ega ekan."
      ],
      "metadata": {
        "id": "dc9VtXaJOmL6"
      }
    },
    {
      "cell_type": "code",
      "execution_count": null,
      "metadata": {
        "colab": {
          "base_uri": "https://localhost:8080/"
        },
        "id": "K8ih2hBfgc9q",
        "outputId": "b1b8ccb9-53a4-4fb0-ec79-cd2951c70ff0"
      },
      "outputs": [
        {
          "output_type": "execute_result",
          "data": {
            "text/plain": [
              "False"
            ]
          },
          "metadata": {},
          "execution_count": 118
        }
      ],
      "source": [
        "c is d # False olamiz, chunki biz \n",
        "# xotiradagi joylashgan manzillarni(havolalar orqali) ham tekshiramiz"
      ]
    },
    {
      "cell_type": "code",
      "execution_count": null,
      "metadata": {
        "colab": {
          "base_uri": "https://localhost:8080/"
        },
        "id": "P20h57SvghTQ",
        "outputId": "5f61c6eb-25cb-4330-9c69-56965f9d94b7"
      },
      "outputs": [
        {
          "output_type": "execute_result",
          "data": {
            "text/plain": [
              "True"
            ]
          },
          "metadata": {},
          "execution_count": 27
        }
      ],
      "source": [
        "c == d # Bu faqat shu obyetlar saqlayotgan qiymatlarni tekshiradi"
      ]
    },
    {
      "cell_type": "markdown",
      "metadata": {
        "id": "QaYQuacZihaN"
      },
      "source": [
        "![Без названия (1).jpg](data:image/jpeg;base64,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)"
      ]
    },
    {
      "cell_type": "markdown",
      "metadata": {
        "id": "D8dgbCmQkI60"
      },
      "source": [
        "Yuqoridagi holatga tushuntirish:\n",
        "\n",
        "Pythonda o'rgaruvchan(mutable) va o'zgarmas(immutable) tiplar mavjud.\n",
        "\n",
        "O'zgarmas tiplarga -> butun sonlar (int), O'nli kasrlar (float), komplex sonlar (complex), mantiqiy qiymatlar (bool), kortejlar (tuple), matnlar (string) kiradi\n",
        "\n",
        "O'zgaruvchan tiplarga -> ro'yxatlar (list), to'plam (set) va lug'atlar (dict) kiradi.\n",
        "\n",
        "O'zgaruvchi qiymat yaratilayotganda avval unikal identifikator, tip va qiymatga ega obyekt yaratiladi va undan keyin obyekt o'zgaruvchiga yo'naltiriladi\n",
        "\n",
        "O'zgarmas tip shuni anglatadiki, u asosida yaratilgan obyekt boshqa o'zgarmaydi.\n",
        "\n",
        "Agar o'zgarmasga boshqa qiymat berilsa, hosil qilingan obyekt o'rniga boshqa yangi obyekt hosil bo'ladi.\n",
        "\n",
        "O'zgaruvchi obyektlar ssilka(havola) asosida beriladi. Agar o'zgaruvchi qiymati o'zgarsa obyekt ham o'zgaradi"
      ]
    },
    {
      "cell_type": "code",
      "execution_count": null,
      "metadata": {
        "id": "XPzgW2UBgkZw"
      },
      "outputs": [],
      "source": [
        "def update_num(x: int): # tushunish uchun funksiya yasaylik\n",
        "  print(x)\n",
        "  print(id(x))\n",
        "  x+=5\n",
        "  print(x)\n",
        "  print(id(x))"
      ]
    },
    {
      "cell_type": "code",
      "execution_count": null,
      "metadata": {
        "colab": {
          "base_uri": "https://localhost:8080/"
        },
        "id": "oLkxS946xXgr",
        "outputId": "20b34f28-9fcf-4a33-ea83-456b7f0a0a78"
      },
      "outputs": [
        {
          "output_type": "stream",
          "name": "stdout",
          "text": [
            "5\n",
            "11122720\n",
            "10\n",
            "11122880\n"
          ]
        }
      ],
      "source": [
        "update_num(5)"
      ]
    },
    {
      "cell_type": "code",
      "execution_count": null,
      "metadata": {
        "id": "Z5IXX1pfxgCR"
      },
      "outputs": [],
      "source": [
        "def update_list(x: list):\n",
        "  print(x)\n",
        "  print(id(x))\n",
        "  x.append(0) # ro'yxat ortiga elemnt qo'shish metodi-append\n",
        "  print(x)\n",
        "  print(id(x))# id lar bir xil bo'ladi, ular o'zgaruvchan tiplar"
      ]
    },
    {
      "cell_type": "code",
      "execution_count": null,
      "metadata": {
        "colab": {
          "base_uri": "https://localhost:8080/"
        },
        "id": "hMOMuoR1zTHj",
        "outputId": "2f3f32df-769f-4531-fd5d-7d196de91e7a"
      },
      "outputs": [
        {
          "output_type": "stream",
          "name": "stdout",
          "text": [
            "[1, 2, 3]\n",
            "140183500594944\n",
            "[1, 2, 3, 0]\n",
            "140183500594944\n"
          ]
        }
      ],
      "source": [
        "a=[1,2,3]\n",
        "update_list(a)"
      ]
    },
    {
      "cell_type": "code",
      "source": [
        "a = 21\n",
        "b = 17"
      ],
      "metadata": {
        "id": "UdRtRUo3rnAX"
      },
      "execution_count": null,
      "outputs": []
    },
    {
      "cell_type": "code",
      "source": [
        "print(id(a))"
      ],
      "metadata": {
        "colab": {
          "base_uri": "https://localhost:8080/"
        },
        "id": "LNr19o1Wrzc5",
        "outputId": "9c4116c3-2738-4108-b81f-66cd69a0b2e3"
      },
      "execution_count": null,
      "outputs": [
        {
          "output_type": "stream",
          "name": "stdout",
          "text": [
            "11123232\n"
          ]
        }
      ]
    },
    {
      "cell_type": "code",
      "source": [
        "print(id(b))"
      ],
      "metadata": {
        "colab": {
          "base_uri": "https://localhost:8080/"
        },
        "id": "kNhTbOlLr1de",
        "outputId": "be35b4a0-7438-4790-825c-5f0f246d99c8"
      },
      "execution_count": null,
      "outputs": [
        {
          "output_type": "stream",
          "name": "stdout",
          "text": [
            "11123104\n"
          ]
        }
      ]
    },
    {
      "cell_type": "code",
      "source": [
        "a = b # a = 17 bo'ldi\n",
        "print(id(a))"
      ],
      "metadata": {
        "colab": {
          "base_uri": "https://localhost:8080/"
        },
        "id": "QJVWyOP7r6WV",
        "outputId": "170cedbd-d8b0-493d-dc89-13d70cd401d3"
      },
      "execution_count": null,
      "outputs": [
        {
          "output_type": "stream",
          "name": "stdout",
          "text": [
            "11123104\n"
          ]
        }
      ]
    },
    {
      "cell_type": "code",
      "source": [
        "c = 21 # ilgarigi a = 21 qiymatni c ga yukaldik, va ko'rishimiz mumkinki 21 xotiradan \n",
        "print(id(c)) # o'chib ketmaydi shu manzilda saqlanib turaveradi. Qachon bu 21 ni qaysidir\n",
        "# o'zgaruvchiga yuklasak shu 21 ning manziliga havola qilib qo'yilaveradi"
      ],
      "metadata": {
        "colab": {
          "base_uri": "https://localhost:8080/"
        },
        "id": "4uTU_x68sDTK",
        "outputId": "d6d674c7-c840-43af-e85b-7f2ce207dcec"
      },
      "execution_count": null,
      "outputs": [
        {
          "output_type": "stream",
          "name": "stdout",
          "text": [
            "11123232\n"
          ]
        }
      ]
    },
    {
      "cell_type": "markdown",
      "metadata": {
        "id": "asuTBWJ_0upm"
      },
      "source": [
        "# **Shart operatorlari. Mantiqiy amallar**"
      ]
    },
    {
      "cell_type": "markdown",
      "source": [
        "**Shart operatorlari**\n",
        "* Shartli operatorlar ma’lum bir shartga qarab aniq ko’rsatmalar ketma-ketligini bajarishga imkon beradi."
      ],
      "metadata": {
        "id": "Gn6j6V8VQld7"
      }
    },
    {
      "cell_type": "markdown",
      "source": [
        "Misol:\n",
        "\n",
        "Misol tariqasinda bir sonni ikkinchisiga bo’lish dasturi.\n",
        "* Agarda faqatgina print(a / b) kodi yozilsa, ikkinchi son 0 bo'lganida hatolik yuz beradi."
      ],
      "metadata": {
        "id": "VemLlZDIRBXC"
      }
    },
    {
      "cell_type": "code",
      "source": [
        "a = 5\n",
        "b = 0\n",
        "print(a / b)"
      ],
      "metadata": {
        "id": "WBrUYZsGRNIR",
        "colab": {
          "base_uri": "https://localhost:8080/",
          "height": 200
        },
        "outputId": "a8447b48-e383-49fb-d4cf-db3573c27606"
      },
      "execution_count": null,
      "outputs": [
        {
          "output_type": "error",
          "ename": "ZeroDivisionError",
          "evalue": "ignored",
          "traceback": [
            "\u001b[0;31m---------------------------------------------------------------------------\u001b[0m",
            "\u001b[0;31mZeroDivisionError\u001b[0m                         Traceback (most recent call last)",
            "\u001b[0;32m<ipython-input-62-dfcedec16dfc>\u001b[0m in \u001b[0;36m<module>\u001b[0;34m\u001b[0m\n\u001b[1;32m      1\u001b[0m \u001b[0ma\u001b[0m \u001b[0;34m=\u001b[0m \u001b[0;36m5\u001b[0m\u001b[0;34m\u001b[0m\u001b[0;34m\u001b[0m\u001b[0m\n\u001b[1;32m      2\u001b[0m \u001b[0mb\u001b[0m \u001b[0;34m=\u001b[0m \u001b[0;36m0\u001b[0m\u001b[0;34m\u001b[0m\u001b[0;34m\u001b[0m\u001b[0m\n\u001b[0;32m----> 3\u001b[0;31m \u001b[0mprint\u001b[0m\u001b[0;34m(\u001b[0m\u001b[0ma\u001b[0m \u001b[0;34m/\u001b[0m \u001b[0mb\u001b[0m\u001b[0;34m)\u001b[0m\u001b[0;34m\u001b[0m\u001b[0;34m\u001b[0m\u001b[0m\n\u001b[0m",
            "\u001b[0;31mZeroDivisionError\u001b[0m: division by zero"
          ]
        }
      ]
    },
    {
      "cell_type": "markdown",
      "source": [
        "Shartli operatorlar\n",
        "\n",
        "* Bu holatni oldini olish uchun shartli operatorlardan foydalaniladi.\n",
        "\n",
        "* Shartli operatorlar yordamida agarda b soni 0 ga teng bo’ladigan bo’lsa, ekranga 0 ga bo’lish taqiqlanadi yozuvini chiqarish mumkin.\n",
        "\n",
        "* Bu holatda dastur to’g’ri ishlashni davom ettiradi."
      ],
      "metadata": {
        "id": "hu28oVn4RSOZ"
      }
    },
    {
      "cell_type": "markdown",
      "source": [
        "**Agarda o’zbek tilida dastur kodini yozganimizda, dastur kodi taxminan quyidagicha bo’lar edi.**"
      ],
      "metadata": {
        "id": "kg1OITzjRgau"
      }
    },
    {
      "cell_type": "code",
      "source": [
        "a va b butun sonlarini kiritish\n",
        "\n",
        "agarda b soni nolga teng bolsa, keyin\n",
        "    ekranga \"No`lga bo`lish taqiqlanadi\" yozuvini chiqarish\n",
        "aks holda, keyin\n",
        "    ekranga a sonini b ga bolgandaki javobni chiqarish\n",
        "tamom"
      ],
      "metadata": {
        "id": "3OqcmN8HRqI2"
      },
      "execution_count": null,
      "outputs": []
    },
    {
      "cell_type": "markdown",
      "source": [
        "**Agarda usbhu kodni ingliz tiliga o’girsa va matematik ifodalardan foydalanilsa, kod quyidagicha bo’ladi.**"
      ],
      "metadata": {
        "id": "eanGJ3ftR7Eh"
      }
    },
    {
      "cell_type": "code",
      "source": [
        "readint(a, b)\n",
        "\n",
        "if b == 0 then\n",
        "    print(\"No'lga ga bo'lish taqiqlanadi\")\n",
        "else then\n",
        "    print(a / b)\n",
        "endif"
      ],
      "metadata": {
        "id": "RoELmdaoR-G9"
      },
      "execution_count": null,
      "outputs": []
    },
    {
      "cell_type": "markdown",
      "source": [
        "**Psevdokod**\n",
        "* Bunday kod yozish uslubiga psevdokod deyiladi.\n",
        "* Psevdokod odatda hech qaysi tilga o’xshamaydi va faqatgina tushuntirish maqsadida ishlatiladi."
      ],
      "metadata": {
        "id": "jkvSze5XSEQw"
      }
    },
    {
      "cell_type": "markdown",
      "source": [
        "**Shartli ifoda**\n",
        "* Psevdokoddan farqli then so’zini o’rninga : belgisi  ishlatildi.\n",
        "* endif so’zini esa python dasturlash tilida yozish shart emas."
      ],
      "metadata": {
        "id": "Qdtu219gSSt-"
      }
    },
    {
      "cell_type": "markdown",
      "source": [
        "**Avvalgi kodni Python dasturlash tiliga o'giramiz:**"
      ],
      "metadata": {
        "id": "S31AFBcswDPh"
      }
    },
    {
      "cell_type": "code",
      "source": [
        "a = int(input(\"a = \"))\n",
        "b = int(input(\"b = \"))\n",
        "\n",
        "if b == 0: # mantiqiy mulohaza Rost(True) if tanasi bajariladi, Yolg'on(False) bsa else tanasi bajariladi\n",
        "    print(\"No`lga ga bo'lish taqiqlanadi\")\n",
        "else:\n",
        "    print(a / b)\n",
        "\n",
        "print(\"if tugadi\")"
      ],
      "metadata": {
        "colab": {
          "base_uri": "https://localhost:8080/"
        },
        "id": "Wy5oZcFnwFLD",
        "outputId": "23a93829-f8c3-4aa7-c92d-6a54ef07ca87"
      },
      "execution_count": 5,
      "outputs": [
        {
          "output_type": "stream",
          "name": "stdout",
          "text": [
            "a = 67\n",
            "b = 0\n",
            "No`lga ga bo'lish taqiqlanadi\n",
            "if tugadi\n"
          ]
        }
      ]
    },
    {
      "cell_type": "markdown",
      "source": [
        "**if/else ifodasi**\n",
        "* if operatori majburiy hisoblanadi, if operatorisiz shartli ifoda yozishni iloji yo’q.\n",
        "\n",
        "* else operatori ishlatilmasligi mumkin.\n",
        "if/else operatorlarini umumiy ko’rinishi quyidagicha:\n"
      ],
      "metadata": {
        "id": "u1JpvyrSxAmv"
      }
    },
    {
      "cell_type": "code",
      "source": [
        "if ifoda/shart: # ifoda/shart =True/False rost bsa if ishlaydi, aks holda else ishlaydi\n",
        "    korsatma_1:\n",
        "    korsatma_2:\n",
        "    ...\n",
        "    korsatma_n\n",
        "else:\n",
        "    boshqa korsatmalar\n",
        "    cjbjasdcjh\n",
        "    dcnjdsc\n",
        "    jcndskjcndk # elsega tegishli buyruqlar\n",
        "\n",
        "jcndsjkcn # elsega tegishliu bo'lmagan buyruqlar\n",
        "dcdscbhj # elsega tegishliu bo'lmagan buyruqlar"
      ],
      "metadata": {
        "id": "HeUDNBRpxHOU",
        "colab": {
          "base_uri": "https://localhost:8080/",
          "height": 133
        },
        "outputId": "f7b186be-2c45-4a36-922d-aad3a2059081"
      },
      "execution_count": 7,
      "outputs": [
        {
          "output_type": "error",
          "ename": "SyntaxError",
          "evalue": "ignored",
          "traceback": [
            "\u001b[0;36m  File \u001b[0;32m\"<ipython-input-7-219b10c5fb31>\"\u001b[0;36m, line \u001b[0;32m2\u001b[0m\n\u001b[0;31m    korsatma_1:\u001b[0m\n\u001b[0m               ^\u001b[0m\n\u001b[0;31mSyntaxError\u001b[0m\u001b[0;31m:\u001b[0m invalid syntax\n"
          ]
        }
      ]
    },
    {
      "cell_type": "code",
      "source": [
        "b = 0\n",
        "if b != 0:  # agarda shart bajarilmasa hech nima bo'lmaydi\n",
        "    print(a / b)   #   {} 0 != 0 >>> False"
      ],
      "metadata": {
        "id": "9NTWd-yExYIi"
      },
      "execution_count": 6,
      "outputs": []
    },
    {
      "cell_type": "markdown",
      "source": [
        "**Indentatsiya**\n",
        "* Indentatsiya Python dasturlash tilida muhim ro’l o’ynaydi.\n",
        "\n",
        "* Shartli operatorlar ishlatigan joyda indentatsiyaga rioya qilinishi lozim.\n",
        "\n",
        "* if/else operatoridan keyingi qatordaki dastur kodi indent(ortiqcha probel/tabulyatsiya) bilan boshlanishi lozim.\n",
        "\n",
        "* Probellar/tabulyatsiyalar soni ixtiyoriy bo'lishi mumkin.\n",
        "\n",
        "* Asosiy shart bir ifoda ichidaki dastur kodi bir hil indentatsiyaga ega bo’lishi lozim."
      ],
      "metadata": {
        "id": "3ki7f_sAxfBy"
      }
    },
    {
      "cell_type": "code",
      "source": [
        "# To’g’ri indentatsiyalangan kod.\n",
        "\n",
        "if b == 0:\n",
        "    print(\"No`lga ga bo'lish taqiqlanadi\")\n",
        "    print(\"Qaytadan urinib ko'ring!\")\n",
        "else:\n",
        " print(a / b)\n",
        " print(a % b)"
      ],
      "metadata": {
        "colab": {
          "base_uri": "https://localhost:8080/"
        },
        "id": "-2aWjm2SxyUl",
        "outputId": "a2ab464f-0878-486b-f757-882ae2971693"
      },
      "execution_count": null,
      "outputs": [
        {
          "output_type": "stream",
          "name": "stdout",
          "text": [
            "No`lga ga bo'lish taqiqlanadi\n",
            "Qaytadan urinib ko'ring!\n"
          ]
        }
      ]
    },
    {
      "cell_type": "markdown",
      "source": [
        "*Ushbu kodda ikki ifodada ikki hil indentatsiya ishlatilgan bo’lsa-da, bir ifoda ichidaki indentatsiya bir hil.*\n",
        "\n",
        "**Lekin bunday kod yozish tavsiya qilinmaydi.**"
      ],
      "metadata": {
        "id": "PyirnDMtx4ZL"
      }
    },
    {
      "cell_type": "code",
      "source": [
        "# Noto’g’ri indentatsiyalangan kod.\n",
        "if b == 0:\n",
        "    print(\"No`lga ga bo'lish taqiqlanadi\")\n",
        " print(\"Qaytadan urinib ko'ring!\")\n",
        "else:\n",
        "  print(a / b)\n",
        "   print(a % b)"
      ],
      "metadata": {
        "colab": {
          "base_uri": "https://localhost:8080/",
          "height": 133
        },
        "id": "r9X46R5zAhYM",
        "outputId": "5a041ff3-46e2-4c1f-d8e7-446fdc2cd9d2"
      },
      "execution_count": null,
      "outputs": [
        {
          "output_type": "error",
          "ename": "IndentationError",
          "evalue": "ignored",
          "traceback": [
            "\u001b[0;36m  File \u001b[0;32m\"<tokenize>\"\u001b[0;36m, line \u001b[0;32m4\u001b[0m\n\u001b[0;31m    print(\"Qaytadan urinib ko'ring!\")\u001b[0m\n\u001b[0m    ^\u001b[0m\n\u001b[0;31mIndentationError\u001b[0m\u001b[0;31m:\u001b[0m unindent does not match any outer indentation level\n"
          ]
        }
      ]
    },
    {
      "cell_type": "markdown",
      "source": [
        "Dastur kodini ishlatganda, identatsiyada hatolik yozuvini ko’rishimiz mumkin."
      ],
      "metadata": {
        "id": "9JCTTsd5ApTj"
      }
    },
    {
      "cell_type": "markdown",
      "source": [
        "**elif operatori**\n",
        "* Agarda dastur kodida bir emas, bir nechta shartli ifoda ishlatish kerak bo’lsa elif operatoridan foydalaniladi.\n",
        "\n",
        "\n",
        "---\n",
        "\n",
        "Misol, o’quvchini reyting bahosini ifodalash uchun dastur."
      ],
      "metadata": {
        "id": "D4uFppyAAtAI"
      }
    },
    {
      "cell_type": "code",
      "source": [
        "baho = int(input(\"Bahoni kiriting: \"))\n",
        "\n",
        "if baho < 3: # bu shartlarning qaysi biri rost bsa shu qism bajarilib elif operatori ishini to'xtatadi\n",
        "    print(\"Yomon baho\") # keyin umuman elif o'zining qismlarga boshqa murojat qilmaydi. Dasturning \n",
        "elif baho < 4:  # boshqa odatiy kod yozilgan qismiga o'tib ketaveradi\n",
        "    print(\"O'rtacha baho\")\n",
        "elif baho < 5:\n",
        "    print(\"Yaxshi baho\")\n",
        "else:\n",
        "    print(\"Alo baho\")\n",
        "\n",
        "print(\"elif tugadi\")"
      ],
      "metadata": {
        "colab": {
          "base_uri": "https://localhost:8080/"
        },
        "id": "_ukf8kDVA_GX",
        "outputId": "ef0aeaac-6f1e-482f-d27c-0d2f04258983"
      },
      "execution_count": 12,
      "outputs": [
        {
          "output_type": "stream",
          "name": "stdout",
          "text": [
            "Bahoni kiriting: 2\n",
            "O'rtacha baho\n",
            "elif tugadi\n"
          ]
        }
      ]
    },
    {
      "cell_type": "markdown",
      "source": [
        "**Bu dasturni elif/else ishlatmasdan ham yozsa bo’ladi.**"
      ],
      "metadata": {
        "id": "3iHd1zFFCDtb"
      }
    },
    {
      "cell_type": "code",
      "source": [
        "baho = int(input())\n",
        "\n",
        "if baho == 2:\n",
        "    print(\"Yomon baho\")\n",
        "if baho == 3:\n",
        "    print(\"O'rtacha baho\")\n",
        "if baho == 4:\n",
        "    print(\"Yaxshi baho\")\n",
        "if baho == 5:\n",
        "    print(\"Alo baho\")"
      ],
      "metadata": {
        "colab": {
          "base_uri": "https://localhost:8080/"
        },
        "id": "Jkoluj7wCFsd",
        "outputId": "c984bedf-107f-4843-a478-87e05b0f7b61"
      },
      "execution_count": 14,
      "outputs": [
        {
          "output_type": "stream",
          "name": "stdout",
          "text": [
            "3\n",
            "O'rtacha baho\n"
          ]
        }
      ]
    },
    {
      "cell_type": "code",
      "source": [
        "baho = int(input())\n",
        "\n",
        "if baho == 2:\n",
        "    print(\"Yomon baho\")\n",
        "if baho <= 3:\n",
        "    print(\"O'rtacha baho\")\n",
        "if baho <= 4:\n",
        "    print(\"Yaxshi baho\")\n",
        "if baho <= 5:\n",
        "    print(\"Alo baho\")"
      ],
      "metadata": {
        "colab": {
          "base_uri": "https://localhost:8080/"
        },
        "id": "A9kgBdR08PSr",
        "outputId": "8ab0e6de-a351-45f7-e4b9-24a69ac14d93"
      },
      "execution_count": 15,
      "outputs": [
        {
          "output_type": "stream",
          "name": "stdout",
          "text": [
            "3\n",
            "O'rtacha baho\n",
            "Yaxshi baho\n",
            "Alo baho\n"
          ]
        }
      ]
    },
    {
      "cell_type": "markdown",
      "source": [
        "\n",
        "Lekin shunday hollar bo’ladi, elif operatorini ishlatish maqul bo'lishi mumkin.\n",
        "\n",
        "Misol, agarda o’quvchini reyting bahosi 2 dan 5 gacha emas, 1 dan 100 bo’lsa yoki reyting bahosi natural son emas, haqiqiy son orqali ifodalansa. Bunda har bir holatni o’z ichiga oladigan faqat if operatorlaridan tashkil topgan shartli ifoda ishlatish qiyin yoki umuman ishlatib bo’lmaydi."
      ],
      "metadata": {
        "id": "AwN1AU_xCJZT"
      }
    },
    {
      "cell_type": "markdown",
      "source": [
        "**Ichma-ich shartli operatorlar**\n",
        "\n",
        "* if operatorini ichida yana if operatori ishlatilishi mumkin.\n",
        "\n",
        "* Bunday holatga misol tariqasida, berilgan yilni kabisa yili ekanligiga tekshirishni keltirsa bo'ladi.\n"
      ],
      "metadata": {
        "id": "AnD_Sz-fCdaL"
      }
    },
    {
      "cell_type": "markdown",
      "source": [
        "**Kabisa yili**\n",
        "\n",
        "* Kabisa yili deb oddiy yildan bir kun ortiq boʻlgan kalendar yiliga aytiladi.\n",
        "\n",
        "* Bunda yil sanasi 4 ga qoldiqsiz bo'linsa va 100 ga bo'linmasa yoki 400 ga qoldiqsiz bo'linsa yil kabisa yilidir.\n",
        "\n",
        "* Masalan, 1700, 1800, 1900, 2100 yillari kabisa yili hisoblanmaydi. 2000-yil esa kabisa yili."
      ],
      "metadata": {
        "id": "GEUrt8C0CpPl"
      }
    },
    {
      "cell_type": "code",
      "source": [
        "yil = int(input(\"Yilni kiriting: \"))\n",
        "\n",
        "if yil % 4 != 0:\n",
        "    print('Kabisa yili emas')\n",
        "else:\n",
        "    if yil % 100 != 0:\n",
        "        print('Kabisa yili')\n",
        "    else:\n",
        "        if yil % 400 == 0:\n",
        "            print('Kabisa yili')\n",
        "        else:\n",
        "            print('Kabisa yili emas')"
      ],
      "metadata": {
        "colab": {
          "base_uri": "https://localhost:8080/"
        },
        "id": "rw0uRPPHC1VL",
        "outputId": "c72bf468-44d1-4529-f65c-1add971273f8"
      },
      "execution_count": 21,
      "outputs": [
        {
          "output_type": "stream",
          "name": "stdout",
          "text": [
            "Yilni kiriting: 1900\n",
            "Kabisa yili emas\n"
          ]
        }
      ]
    },
    {
      "cell_type": "markdown",
      "source": [
        "**Taqqoslash operatorlari**\n",
        "\n",
        "Ikki obyektni taqqoslash uchun taqqoslash operatorlari ishlatiladi. Javob **bool** turida qaytariladi.\n",
        "\n",
        "Bular:"
      ],
      "metadata": {
        "id": "UPHmf-OCDHSo"
      }
    },
    {
      "cell_type": "code",
      "source": [
        "# 1. == - Ikki obyektni qiymatlari tengliligini tekshiradi.\n",
        "# 2. != - Ikki obyektni tengsizligini tekshiradi.\n",
        "# 3. >  - Birinchi obyektni ikkinchisidan kattaliligini.\n",
        "# 4. <  - Birinchi obyektni ikkinchisidan kichikligini.\n",
        "# 5. >= - Birinchi obyektni ikkinchisidan kichik emasliligini.\n",
        "# 6. <= - Birinchi obyektni ikkinchisidan katta emasliligini."
      ],
      "metadata": {
        "id": "Z5RsGvNdDtpI"
      },
      "execution_count": null,
      "outputs": []
    },
    {
      "cell_type": "code",
      "source": [
        "a = 5\n",
        "b = 6\n",
        "print(f\"{a} == {b}\", a == b)\n",
        "print(f\"{a} != {b}\", a != b)\n",
        "print(f\"{a} > {b}\", a > b)\n",
        "print(f\"{a} < {b}\", a < b)\n",
        "print(f\"{a} >= {b}\", a >= b)\n",
        "print(f\"{a} <= {b}\", a <= b)"
      ],
      "metadata": {
        "colab": {
          "base_uri": "https://localhost:8080/"
        },
        "id": "DGaEoPsQEISb",
        "outputId": "11004deb-99a8-4fab-edb3-8b4f16624a0e"
      },
      "execution_count": 22,
      "outputs": [
        {
          "output_type": "stream",
          "name": "stdout",
          "text": [
            "5 == 6 False\n",
            "5 != 6 True\n",
            "5 > 6 False\n",
            "5 < 6 True\n",
            "5 >= 6 False\n",
            "5 <= 6 True\n"
          ]
        }
      ]
    },
    {
      "cell_type": "code",
      "source": [
        "result = 5 == 6\n",
        "print(result)"
      ],
      "metadata": {
        "colab": {
          "base_uri": "https://localhost:8080/"
        },
        "id": "oHNG7I-9EVHU",
        "outputId": "f953894b-579a-403a-9708-34ffeb4e5a4d"
      },
      "execution_count": 23,
      "outputs": [
        {
          "output_type": "stream",
          "name": "stdout",
          "text": [
            "False\n"
          ]
        }
      ]
    },
    {
      "cell_type": "markdown",
      "source": [
        "***Mantiqiy amallar***\n",
        "\n",
        "* Murakkab bir nechta ifodadan tashkil topgan shartli ifodalarni yaratish uchun mantiqiy amallardan foydaniladi.\n",
        "\n",
        "* Mantiqiy amallar quyidagi amallar hisoblanadi: and(va), or(yoki) va not(inkor)."
      ],
      "metadata": {
        "id": "oQUdKJ8bEYRw"
      }
    },
    {
      "cell_type": "markdown",
      "source": [
        "**and(va)** - mantiqiy ko’paytirish\n",
        "\n",
        "* True qaytaradi, agarda ikkala qiymat ham True bo’lsa\n",
        "and mantiqiy amal jadvali: # True=1, False=0 deb qaraylik:\n",
        "\n",
        "* True and True = True # 1*1=1\n",
        "\n",
        "* False and True = False # 0*1=0\n",
        "\n",
        "* True and False = False\n",
        "\n",
        "* False and False = False"
      ],
      "metadata": {
        "id": "OTNN947rErou"
      }
    },
    {
      "cell_type": "code",
      "source": [
        "yosh = 21\n",
        "boyi = 180\n",
        "\n",
        "print(yosh > 21 and boyi > 180)\n",
        "print(yosh == 21 and boyi <= 180)"
      ],
      "metadata": {
        "colab": {
          "base_uri": "https://localhost:8080/"
        },
        "id": "XN73sZbsFBr2",
        "outputId": "6107edcd-8bc5-4396-c539-4f5484dc1a1e"
      },
      "execution_count": 25,
      "outputs": [
        {
          "output_type": "stream",
          "name": "stdout",
          "text": [
            "False\n",
            "True\n"
          ]
        }
      ]
    },
    {
      "cell_type": "markdown",
      "source": [
        "**or(yoki)** - mantiqiy qo’shish\n",
        "\n",
        "* True qaytaradi, agarda ikkala qiymatdan hech bo’lmasa bittasi True bo’lsa.\n",
        "\n",
        "or mantiqiy amal jadvali;\n",
        "\n",
        "* True or True = True # 1+1=1\n",
        "\n",
        "* False or True = True # 0+1=1\n",
        "\n",
        "* True or False = True\n",
        "\n",
        "* False or False = False"
      ],
      "metadata": {
        "id": "3Q6C78u-FIyn"
      }
    },
    {
      "cell_type": "code",
      "source": [
        "yosh = 21\n",
        "boyi = 180\n",
        "\n",
        "print(yosh > 21 or boyi > 180)\n",
        "print(yosh == 21 or boyi < 180) # True or False = 1+0= 1= True"
      ],
      "metadata": {
        "colab": {
          "base_uri": "https://localhost:8080/"
        },
        "id": "Co-wtJtBFZSH",
        "outputId": "c5c910eb-572e-4ddd-aee6-ce92f892c507"
      },
      "execution_count": null,
      "outputs": [
        {
          "output_type": "stream",
          "name": "stdout",
          "text": [
            "False\n",
            "True\n"
          ]
        }
      ]
    },
    {
      "cell_type": "markdown",
      "source": [
        "**not(inkor)** - mantiqiy inkor\n",
        "\n",
        "* True qaytaradi, agarda ifoda False qiymatiga ega bo’lsa.\n",
        "\n",
        "not mantiqiy amal jadvali:\n",
        "\n",
        "* not True = False # rost emas\n",
        " \n",
        "* not False = True # 0 emas"
      ],
      "metadata": {
        "id": "AbqPc-jiFbxh"
      }
    },
    {
      "cell_type": "code",
      "source": [
        "yosh = 21\n",
        "\n",
        "print(not yosh > 18)\n",
        "print(not yosh == 20)"
      ],
      "metadata": {
        "colab": {
          "base_uri": "https://localhost:8080/"
        },
        "id": "nHIXbUHpFxJN",
        "outputId": "bd57d002-2215-4edd-ce01-65266c9fb563"
      },
      "execution_count": null,
      "outputs": [
        {
          "output_type": "stream",
          "name": "stdout",
          "text": [
            "False\n",
            "True\n"
          ]
        }
      ]
    },
    {
      "cell_type": "code",
      "source": [
        "yosh = 18\n",
        "\n",
        "print(not yosh > 18)# yosh 18 dan katta emas -> yosh <= 18 degani\n",
        "print(not yosh == 20)"
      ],
      "metadata": {
        "colab": {
          "base_uri": "https://localhost:8080/"
        },
        "id": "FZf-n2PExEnt",
        "outputId": "3926684a-5ad7-4025-d205-b52efebf8031"
      },
      "execution_count": null,
      "outputs": [
        {
          "output_type": "stream",
          "name": "stdout",
          "text": [
            "True\n",
            "True\n"
          ]
        }
      ]
    },
    {
      "cell_type": "markdown",
      "source": [
        "**Kabisa yili**\n",
        "\n",
        "Endilikda mantiqiy amallardan foydalanib kabisa yilini aniqlovchi dastur tuzamiz."
      ],
      "metadata": {
        "id": "kbFmCNwiF0xG"
      }
    },
    {
      "cell_type": "code",
      "source": [
        "yil = int(input(\"Yilni kiriting: \"))\n",
        "\n",
        "if yil % 4 == 0 and yil % 100 != 0 or yil % 400 == 0:\n",
        "    print(\"Kabisa yili\")\n",
        "else:\n",
        "    print(\"Kabisa yili emas\")"
      ],
      "metadata": {
        "colab": {
          "base_uri": "https://localhost:8080/"
        },
        "id": "etbsOlo8F3kf",
        "outputId": "a2b5454f-6401-43ed-dddf-6b4e966c2125"
      },
      "execution_count": 29,
      "outputs": [
        {
          "output_type": "stream",
          "name": "stdout",
          "text": [
            "Yilni kiriting: 1600\n",
            "Kabisa yili\n"
          ]
        }
      ]
    },
    {
      "cell_type": "markdown",
      "source": [
        "*Mantiqiy amallar yordamida dastur kodi hajmi keskin kamaydi, ammo dastur kodini tushunish qiyinlashdi.*"
      ],
      "metadata": {
        "id": "-HDslr-KGGD7"
      }
    },
    {
      "cell_type": "markdown",
      "source": [
        "**Mantiqiy amallar prioriteti**\n",
        "\n",
        "Mantiqiy amallar quyidagi tartibda bajariladi:\n",
        "\n",
        "1. not\n",
        "\n",
        "2. and\n",
        "\n",
        "3. or"
      ],
      "metadata": {
        "id": "AAAjZRCoGNhw"
      }
    },
    {
      "cell_type": "markdown",
      "source": [
        "**Ternar operator**\n",
        "\n",
        "* Agarda shartli ifoda faqat if va else qismidan iborat bo’lsa va ifoda uzunliligi bir qator bo’lsa, unda ternar operatorini ishlatish mumkin."
      ],
      "metadata": {
        "id": "rhBKIRNYGdAf"
      }
    },
    {
      "cell_type": "code",
      "source": [
        "a = int(input())\n",
        "b = int(input()) # a va b butun sonlarni kiritib olish\n",
        "print(a / b if b != 0 else \"No`lga bo'lish mumkin emas\")"
      ],
      "metadata": {
        "colab": {
          "base_uri": "https://localhost:8080/"
        },
        "id": "evudZbz0Gigv",
        "outputId": "baf93c7d-7993-4a7b-8c3a-a3c2e9e6d3ab"
      },
      "execution_count": null,
      "outputs": [
        {
          "output_type": "stream",
          "name": "stdout",
          "text": [
            "24\n",
            "23\n",
            "1.0434782608695652\n"
          ]
        }
      ]
    },
    {
      "cell_type": "code",
      "source": [
        "yil = int(input())\n",
        "print(\"Kabisa yili\" if yil%4 == 0 and yil%100 != 0 or yil%400 == 0 else \"Kabisa yili emas\")"
      ],
      "metadata": {
        "colab": {
          "base_uri": "https://localhost:8080/"
        },
        "id": "bzq4c7eGEaQZ",
        "outputId": "b772b378-a8c4-44b5-8e03-013e2c388750"
      },
      "execution_count": 32,
      "outputs": [
        {
          "output_type": "stream",
          "name": "stdout",
          "text": [
            "2004\n",
            "Kabisa yili\n"
          ]
        }
      ]
    },
    {
      "cell_type": "code",
      "source": [
        "a =int(input())\n",
        "b =int(input())\n",
        "if b != 0:\n",
        "  print(a/b)\n",
        "else:\n",
        "  print(\"No'lga bo'lish mumkin emas!\")\n"
      ],
      "metadata": {
        "id": "L6zLrIFtD3HZ"
      },
      "execution_count": null,
      "outputs": []
    },
    {
      "cell_type": "code",
      "execution_count": null,
      "metadata": {
        "colab": {
          "base_uri": "https://localhost:8080/"
        },
        "id": "JMCVUtPOzoJf",
        "outputId": "8eed1ea3-43d9-4f17-bbf0-ac01dbf8d904"
      },
      "outputs": [
        {
          "output_type": "stream",
          "name": "stdout",
          "text": [
            "a = 12\n",
            "2 dan katta son kiritildi\n"
          ]
        }
      ],
      "source": [
        "# Mustahkamlash uchun misol:\n",
        "a = int(input(\"a = \")) \n",
        "if a>2:\n",
        "  print(\"2 dan katta son kiritildi\")\n",
        "else:\n",
        "  print(\"2 dan kichik son kiritildi\")"
      ]
    },
    {
      "cell_type": "code",
      "source": [
        "a = int(input())\n",
        "print(\"2 dan katta son kiritldi\" if a>2 else \"2 dan kichik son kiritildi\" )"
      ],
      "metadata": {
        "colab": {
          "base_uri": "https://localhost:8080/"
        },
        "id": "ziAJjLy-E95P",
        "outputId": "bf9b658e-10d2-4ff2-babf-3128d2a67f2f"
      },
      "execution_count": 33,
      "outputs": [
        {
          "output_type": "stream",
          "name": "stdout",
          "text": [
            "23\n",
            "2 dan katta son kiritldi\n"
          ]
        }
      ]
    },
    {
      "cell_type": "code",
      "execution_count": null,
      "metadata": {
        "colab": {
          "base_uri": "https://localhost:8080/"
        },
        "id": "X3MySLSj1wfC",
        "outputId": "70819a0f-ef1d-420f-ab53-b092704d2db2"
      },
      "outputs": [
        {
          "output_type": "stream",
          "name": "stdout",
          "text": [
            "Sonni kiriting: 0\n",
            " 0 kiritildi\n"
          ]
        }
      ],
      "source": [
        "# Mustahkamlash uchun misol:\n",
        "a=int(input(\"Sonni kiriting: \"))\n",
        "if a<0:\n",
        "  print(\"manfiy son\")\n",
        "elif a==0:\n",
        "  print(\" 0 kiritildi\")\n",
        "else:\n",
        "  print(\"musbat son\")"
      ]
    },
    {
      "cell_type": "markdown",
      "metadata": {
        "id": "3eQVOXFy3AHe"
      },
      "source": [
        "# Sikl operatorlari"
      ]
    },
    {
      "cell_type": "markdown",
      "source": [
        "**Sikl**\n",
        "* Sikl – bu kod qismini qandaydir shart asosida uzluksiz ishlashi hisoblanadi.\n",
        "\n",
        "* Sikl yordamida qonuniyat orqali o’zgaradigan vazifani bajarsa bo’ladi\n",
        "\n",
        "* Python dasturlash tilida ikki hil sikl operatori mavjud: for va while."
      ],
      "metadata": {
        "id": "Qh2tAeeLJBkF"
      }
    },
    {
      "cell_type": "markdown",
      "metadata": {
        "id": "CeaV7OJTH52c"
      },
      "source": [
        "**While** operatori ***berilgan shart*** rost qiymat qabul qilgan holatda bajariladi"
      ]
    },
    {
      "cell_type": "markdown",
      "source": [
        "**while operatori umumiy ko'rinishi:**\n",
        "\n",
        "while ifoda/shart: # toki ifoda/shart rost bo'lsa while ishlayveradi\n",
        "\n",
        "*   buyruq_1\n",
        "*   buyruq_2\n",
        "*   buyruq_3\n",
        "*   ......\n",
        "*   buyruq_n\n",
        "\n"
      ],
      "metadata": {
        "id": "5j5GIjxzzKJ1"
      }
    },
    {
      "cell_type": "code",
      "execution_count": null,
      "metadata": {
        "colab": {
          "base_uri": "https://localhost:8080/"
        },
        "id": "wDoOJZIx2zjQ",
        "outputId": "306cd155-9ed7-4f14-a324-4b1a29698b18"
      },
      "outputs": [
        {
          "output_type": "stream",
          "name": "stdout",
          "text": [
            "0\n",
            "1\n",
            "2\n",
            "while tugadi!\n"
          ]
        }
      ],
      "source": [
        "a=0\n",
        "while a<3: # toki a<3 == True bo'lsa print(a), \\n  a=a+1 buyruqlar(while tanasi) bajarilaveradi\n",
        "  print(a)\n",
        "  a=a+1\n",
        "print(\"while tugadi!\")"
      ]
    },
    {
      "cell_type": "markdown",
      "source": [
        "**for operatori**\n",
        "\n",
        "* for operatori yordamida iterable bo’lgan obyektni kezib chiqish mumkin.\n",
        "\n",
        "* iterable obyekt deb python tilida ketma-ketlikga aytiladi.\n",
        "\n",
        "* for operatori sintaksisi quyidagicha:\n",
        "\n",
        "for int_var in iterable: \n",
        "    \n",
        "        tana"
      ],
      "metadata": {
        "id": "ZiS-L1znJT-h"
      }
    },
    {
      "cell_type": "markdown",
      "source": [
        "**range() funksiyasi**\n",
        "\n",
        "* range() funksiyasi iterable obyekt qaytaradigan funksiyalardan birisi hisoblanadi.\n",
        "\n",
        "* range() funksiyasi generator hisoblanib, sonlar ketma-ketligini hosil qilish uchun ishlatiladi."
      ],
      "metadata": {
        "id": "ZYAIElLNJnFw"
      }
    },
    {
      "cell_type": "markdown",
      "source": [
        "**Funksiyani ishlatishda 3 hil turi mavjud:**\n",
        "\n",
        "1. range(stop) - 0 dan (stop-1) gacha bo’lgan sonlarni hosil qilish uchun ishlatiladi.\n",
        "\n",
        "2. range(start, stop) - start dan (stop-1) gacha bo’lgan sonlarni hosil qilish uchun ishlatiladi.\n",
        "3. range(start, stop, step) - start dan (stop-1) gacha bo’lgan step qadamdan sonlarni hosil qilish uchun ishlatiladi\n"
      ],
      "metadata": {
        "id": "h4egSngNJxxe"
      }
    },
    {
      "cell_type": "markdown",
      "metadata": {
        "id": "FPnRlLRzPT2m"
      },
      "source": [
        "**for** sikl operatori ko'rsatilgan ketma ketlikni, berilgan son marta bajaradi:"
      ]
    },
    {
      "cell_type": "code",
      "source": [
        "for i in range(10):# range(10)=[0,1,2,3,4,5,6,7,8,9]\n",
        "    print(i)"
      ],
      "metadata": {
        "colab": {
          "base_uri": "https://localhost:8080/"
        },
        "id": "XPniYq4QKIBA",
        "outputId": "be8e95a3-b45c-4beb-bd4e-6702c7891e57"
      },
      "execution_count": null,
      "outputs": [
        {
          "output_type": "stream",
          "name": "stdout",
          "text": [
            "0\n",
            "1\n",
            "2\n",
            "3\n",
            "4\n",
            "5\n",
            "6\n",
            "7\n",
            "8\n",
            "9\n"
          ]
        }
      ]
    },
    {
      "cell_type": "code",
      "source": [
        "for i in range(5, 13):# range(5,13)=[5,6,7,8,9,10,11,12] sonlarni generatsiya qilib beradi\n",
        "    print(i)"
      ],
      "metadata": {
        "colab": {
          "base_uri": "https://localhost:8080/"
        },
        "id": "cs2o3wQQKQs7",
        "outputId": "ad36351d-d67b-4d24-d479-e4400619e0c6"
      },
      "execution_count": null,
      "outputs": [
        {
          "output_type": "stream",
          "name": "stdout",
          "text": [
            "5\n",
            "6\n",
            "7\n",
            "8\n",
            "9\n",
            "10\n",
            "11\n",
            "12\n"
          ]
        }
      ]
    },
    {
      "cell_type": "code",
      "execution_count": null,
      "metadata": {
        "colab": {
          "base_uri": "https://localhost:8080/"
        },
        "id": "TGXoPF-zPS7p",
        "outputId": "e834467f-9249-4f65-b508-ddf3f94fd20f"
      },
      "outputs": [
        {
          "name": "stdout",
          "output_type": "stream",
          "text": [
            "0 Hello\n",
            "1 Hello\n",
            "2 Hello\n",
            "3 Hello\n",
            "4 Hello\n"
          ]
        }
      ],
      "source": [
        "for i in range(5): # range(5)=[0,1,2,3,4]\n",
        "  print(i, \"Hello\")"
      ]
    },
    {
      "cell_type": "code",
      "source": [
        "#  [1 dan 10] gacha toq sonlarni ekranga chiqaraylik\n",
        "for i in range(1, 11, 2): # 1-10 gacha toq sonlarni ekranga chiqarish\n",
        "    print(i)"
      ],
      "metadata": {
        "colab": {
          "base_uri": "https://localhost:8080/"
        },
        "id": "3Cecwh-IKTnH",
        "outputId": "457d767e-007b-4d26-edfb-617742b52428"
      },
      "execution_count": null,
      "outputs": [
        {
          "output_type": "stream",
          "name": "stdout",
          "text": [
            "1\n",
            "3\n",
            "5\n",
            "7\n",
            "9\n"
          ]
        }
      ]
    },
    {
      "cell_type": "markdown",
      "source": [
        "*Misol: [1 dan 10] gacha toq sonla yigindisini topaylik*"
      ],
      "metadata": {
        "id": "2mQ3-x_h1GrH"
      }
    },
    {
      "cell_type": "code",
      "source": [
        "# range(a, b, c) [a dan b) gacha c qadam bilan sonlarni hosil qilib beruvchi generator\n",
        "yigindi = 0\n",
        "for son in range(1, 10, 2): # range(1, 100, 2) =[1,3,5,7,9,11 ... 97, 99]\n",
        "    yigindi = yigindi + son\n",
        "\n",
        "print(\"[1; 10] dagi toq sonlar yigindisi: \", yigindi)"
      ],
      "metadata": {
        "colab": {
          "base_uri": "https://localhost:8080/"
        },
        "id": "n2P0iyA204ax",
        "outputId": "048f5ef4-4461-4f19-91b7-2f0b11ccd815"
      },
      "execution_count": null,
      "outputs": [
        {
          "output_type": "stream",
          "name": "stdout",
          "text": [
            "[1; 10] dagi toq sonlar yigindisi:  25\n"
          ]
        }
      ]
    },
    {
      "cell_type": "code",
      "source": [
        "# Qadamma qadam tushuntrish bilan:\n",
        "yigindi = 0\n",
        "for son in range(1, 11, 2): # range(1, 10, 2) =[1,3,5 ... 7, 9]\n",
        "    yigindi = yigindi + son# yigindi  = 0+1\n",
        "                            # yigindi = 1+3\n",
        "                            # yigindi = (1+3)+5\n",
        "                            # yigini= (1+3)+5+7\n",
        "                            # yigindi = (1+3)+5+7+9 =25\n",
        "                            # yigidi  = 25\n",
        "\n",
        "print(\"[1; 10] dagi toq sonlar yigindisi: \", yigindi)"
      ],
      "metadata": {
        "colab": {
          "base_uri": "https://localhost:8080/"
        },
        "id": "6c7dw2Fx11Xt",
        "outputId": "4c14404d-5c94-48f7-e474-de95aa102680"
      },
      "execution_count": null,
      "outputs": [
        {
          "output_type": "stream",
          "name": "stdout",
          "text": [
            "[1; 10] dagi toq sonlar yigindisi:  25\n"
          ]
        }
      ]
    },
    {
      "cell_type": "markdown",
      "metadata": {
        "id": "JIJu_8f4IqqR"
      },
      "source": [
        "**break** operatori sikl operatori bajarilishini darhol to'xtatish uchun mo'ljallangan\n",
        "\n",
        "* ihtiyoriy siklni biz hohlagan joyimizda to'xtatishimiz mumkin\n",
        "* buning uchun break-sindirmoq kalit so'zidan foyalanamiz"
      ]
    },
    {
      "cell_type": "code",
      "execution_count": null,
      "metadata": {
        "colab": {
          "base_uri": "https://localhost:8080/"
        },
        "id": "e6H194bd3kJo",
        "outputId": "773f2125-ef15-4a66-b5a4-5b66138dfc00"
      },
      "outputs": [
        {
          "output_type": "stream",
          "name": "stdout",
          "text": [
            "1 Sikl davom etmoqda\n",
            "2 Sikl davom etmoqda\n",
            "3 Sikl davom etmoqda\n"
          ]
        }
      ],
      "source": [
        "a=0\n",
        "while a>=0:\n",
        "  if a==3:# qachonki a=3 bo'lganda sikl ishini to'xtatadi\n",
        "    break\n",
        "  a = a + 1\n",
        "  print(a, \"Sikl davom etmoqda\")  "
      ]
    },
    {
      "cell_type": "code",
      "source": [
        "# [1;100] gacha toq sonlarni chiqaring, 25 ga kelganda sikl to'xtatilsin:\n",
        "for son in range(1, 100, 2): # range(1, 10, 2) =[1,3,5 ...23, 25, 27.. 97, 99]\n",
        "    print(son)#\n",
        "    if son == 25:  # son = 25 bo'lganda if tanasiga kiradi va sikl to'xtaydi\n",
        "        print(\"sikl singan paytdagi sonning qiymati son = \", son)\n",
        "        break"
      ],
      "metadata": {
        "colab": {
          "base_uri": "https://localhost:8080/"
        },
        "id": "M1xQ-wfu3FMT",
        "outputId": "cdaed05f-2dc6-4162-eb5b-61305e2efbaa"
      },
      "execution_count": null,
      "outputs": [
        {
          "output_type": "stream",
          "name": "stdout",
          "text": [
            "1\n",
            "3\n",
            "5\n",
            "7\n",
            "9\n",
            "11\n",
            "13\n",
            "15\n",
            "17\n",
            "19\n",
            "21\n",
            "23\n",
            "25\n",
            "sikl singan paytdagi sonning qiymati son =  25\n"
          ]
        }
      ]
    },
    {
      "cell_type": "markdown",
      "metadata": {
        "id": "8ukIaum7JwFC"
      },
      "source": [
        "**continue** operatori siklni yangitdan ishga tushiradi. Bunda **continue** operatoridan keyin joylashgan kod bajarilmaydi.\n",
        "\n",
        "* Kodni keyingi qadamga sakratib yuboradi\n",
        "\n",
        "* continue - davom qildirish, siklning hohlagan qadamini sakratib yuborish mumkin"
      ]
    },
    {
      "cell_type": "code",
      "execution_count": null,
      "metadata": {
        "colab": {
          "base_uri": "https://localhost:8080/"
        },
        "id": "bvdlKsy1HctR",
        "outputId": "3f799266-2a66-4275-f2ba-1708e366bc0f"
      },
      "outputs": [
        {
          "output_type": "stream",
          "name": "stdout",
          "text": [
            "0 Sikl davom etmoqda\n",
            "1 Sikl davom etmoqda\n",
            "2 Sikl davom etmoqda\n",
            "3 Sikl davom etmoqda\n",
            "4 Sikl davom etmoqda\n",
            "5 Sikl davom etmoqda\n",
            "6 Sikl davom etmoqda\n",
            "8 Sikl davom etmoqda\n",
            "9 Sikl davom etmoqda\n",
            "10 Sikl davom etmoqda\n"
          ]
        }
      ],
      "source": [
        "a=-1\n",
        "while a<10:\n",
        "  a = a+1\n",
        "  if a == 7:\n",
        "    continue\n",
        "  print(a, \"Sikl davom etmoqda\")"
      ]
    },
    {
      "cell_type": "code",
      "source": [
        "# 1-10 gacha sonlar ichidan toq sonlani chiqaring 7 dan tashqari\n",
        "\n",
        "for i in range(1, 11, 2): # [1,3,5,7,9],\n",
        "    if i == 7:\n",
        "        continue\n",
        "    else:\n",
        "        print(i)"
      ],
      "metadata": {
        "colab": {
          "base_uri": "https://localhost:8080/"
        },
        "id": "zJk7DBh84i39",
        "outputId": "fe9f53f1-b214-46f3-d2b5-9eb5c5e436ca"
      },
      "execution_count": null,
      "outputs": [
        {
          "output_type": "stream",
          "name": "stdout",
          "text": [
            "1\n",
            "3\n",
            "5\n",
            "9\n"
          ]
        }
      ]
    },
    {
      "cell_type": "markdown",
      "source": [
        "*Masala:*\n",
        "\n",
        "[1 dan 100000001] gacha hamma to'rtga qoldqisiz bo'linuchi sonlar yigindisini 2 usulda toping va ketgan vaqtlarni solishtring. 2 ta algortimni ham Big O si haqida malumot bering:"
      ],
      "metadata": {
        "id": "tGn6kFv75JuV"
      }
    },
    {
      "cell_type": "code",
      "source": [
        "import datetime"
      ],
      "metadata": {
        "id": "rgDQmHal5Pi-"
      },
      "execution_count": null,
      "outputs": []
    },
    {
      "cell_type": "code",
      "source": [
        "#1-usul\n",
        "time1 = datetime.datetime.now()\n",
        "s = 0\n",
        "for son in range(1, 100000001): # [1,2,3,4,5...99, 100000001]\n",
        "    if son%4 == 0:\n",
        "        s = s + son\n",
        "\n",
        "print(\"[1-100000001] dagi 4 ga qoldqisiz bulnvchilar yigsi s = \", s)\n",
        "time2 = datetime.datetime.now()\n",
        "print(\"1-usulga ketgan vaqt: \", time2-time1)"
      ],
      "metadata": {
        "colab": {
          "base_uri": "https://localhost:8080/"
        },
        "id": "RKnpirul5Z8u",
        "outputId": "ee317581-dc7b-4976-e44c-f5094f881d36"
      },
      "execution_count": null,
      "outputs": [
        {
          "output_type": "stream",
          "name": "stdout",
          "text": [
            "[1-100000001] dagi 4 ga qoldqisiz bulnvchilar yigsi s =  1250000050000000\n",
            "1-usulga ketgan vaqt:  0:00:08.269893\n"
          ]
        }
      ]
    },
    {
      "cell_type": "code",
      "source": [
        "# 2-usul range(4, mkxmx,kjxnsa)\n",
        "time3 = datetime.datetime.now()\n",
        "yig = 0\n",
        "for son in range(4, 100000001, 4): # [4,8,12, ... 96, 100, 100000000]\n",
        "    yig = yig + son\n",
        "\n",
        "print(\"[1-100000001] dagi 4 ga qoldqisiz bulnvchilar yigsi yig = \", yig)\n",
        "time4 = datetime.datetime.now()\n",
        "print(\"2-usulga ketgan vaqt: \", time4-time3)\n"
      ],
      "metadata": {
        "colab": {
          "base_uri": "https://localhost:8080/"
        },
        "id": "HkVuqdAv5dO9",
        "outputId": "7a7f77d0-27c8-45b0-cca3-43846d2037de"
      },
      "execution_count": null,
      "outputs": [
        {
          "output_type": "stream",
          "name": "stdout",
          "text": [
            "[1-100000001] dagi 4 ga qoldqisiz bulnvchilar yigsi yig =  1250000050000000\n",
            "2-usulga ketgan vaqt:  0:00:02.312956\n"
          ]
        }
      ]
    },
    {
      "cell_type": "markdown",
      "source": [
        "**Ko'rib turibmizki 1-algortimda 2 ta kamchilik bor:**\n",
        "1. N([4,8,12, ... 96, 100, 100000000])<N([1,2,3,4,5...99, 100000001]) top'lamlar quvvatlari\n",
        "2. son%4 ni tekshirishga hojat yo'q 2-algoritmda\n",
        "\n",
        "* **Algoritm tanlashda avval yaxshilab o'ylab oling!**"
      ],
      "metadata": {
        "id": "lFPGnstD6Mfh"
      }
    },
    {
      "cell_type": "markdown",
      "source": [
        "**else operatori**\n",
        "\n",
        "* else operatori yozilgan kod agarda sikl normal holatda(break operatori bilan tugatilmagan bo’lsa) ishlashni tugatgan bo’lsa bajariladi.\n"
      ],
      "metadata": {
        "id": "d5uDCyqcK3Pm"
      }
    },
    {
      "cell_type": "markdown",
      "source": [
        "*Misol:*\n",
        "\n",
        "a soni berilgan, uni tub yoki tub emaslikini aninqlang.\n",
        "Tub son faqat o'ziga va 1 ga bo'linadi"
      ],
      "metadata": {
        "id": "MWbtQNij4GM0"
      }
    },
    {
      "cell_type": "code",
      "source": [
        "# Sonni tublikka tekshirish algoritmi:\n",
        "a = int(input('a ni kiriting a = '))\n",
        "for son in range(2, a, 1):# [2,3,4,5,6,7,..34]\n",
        "    if a % son == 0:\n",
        "        print('a soni tub emas chunki bu son', son, \"ga qoldiqsiz \")\n",
        "        break\n",
        "else:\n",
        "    print('Tub son')"
      ],
      "metadata": {
        "colab": {
          "base_uri": "https://localhost:8080/"
        },
        "id": "0oa0zEI1K_cy",
        "outputId": "82a06362-1fc8-4793-a443-69e06bf83008"
      },
      "execution_count": null,
      "outputs": [
        {
          "output_type": "stream",
          "name": "stdout",
          "text": [
            "a ni kiriting a = 34\n",
            "a soni tub emas chunki bu son 2 ga qoldiqsiz \n"
          ]
        }
      ]
    },
    {
      "cell_type": "markdown",
      "metadata": {
        "id": "8xEiZ2TSRc05"
      },
      "source": [
        "# Ma'lumotlar tuzilmasi. List va Tuple\n",
        "# List(Ro'yxatlar)"
      ]
    },
    {
      "cell_type": "markdown",
      "source": [
        "**Ma’lumotlar tuzilmasi**\n",
        "\n",
        "* Ma’lumotlar tuzilmasi bu har xil o’xshash yoki mantiqiy bog’liq ma’lumotlarni saqlash va qayta ishlashga imkon beruvchi dastur birligi hisoblanadi.\n",
        "\n",
        "* Ma'lumotlar tuzilmasi 2 ta asosiy xossaga ega:\n",
        "  1. Elementlar ketma-ketligi(soni) ga ega bo'ladi\n",
        "  2. Bu elementlar orasida qabdaydir bog'liqlik bo'ladi"
      ],
      "metadata": {
        "id": "vN6UXkQFiA6E"
      }
    },
    {
      "cell_type": "markdown",
      "source": [
        "**Misol**\n",
        "\n",
        "*5 ta o’quvchining reyting bahosi berilgan bo’lib, ularning o’rtacha bahosini hisoblang*"
      ],
      "metadata": {
        "id": "udTQmwx4iOaq"
      }
    },
    {
      "cell_type": "code",
      "source": [
        "student_1 = 57\n",
        "student_2 = 69\n",
        "student_3 = 87\n",
        "student_4 = 50\n",
        "student_5 = 75\n",
        "print((student_1 + student_2 + student_3 + student_4 + student_5) / 5)"
      ],
      "metadata": {
        "colab": {
          "base_uri": "https://localhost:8080/"
        },
        "id": "aHMDKOx2iS_s",
        "outputId": "75a56a4d-eff8-49e1-ef71-f3a26922b001"
      },
      "execution_count": null,
      "outputs": [
        {
          "output_type": "stream",
          "name": "stdout",
          "text": [
            "67.6\n"
          ]
        }
      ]
    },
    {
      "cell_type": "markdown",
      "source": [
        "**Hulosa**\n",
        "\n",
        "* Ushbu kodda agarda yana boshqa o’quvchini qo’shish kerak bo’lsa, ya’na o’zgaruvchi e’lon qilib, uni ham hisobga qo’shib qo’yish kerak bo’ladi.\n",
        "\n",
        "* Agarda o’quvchilar soni noma’lum bo’lsachi?\n",
        "\n",
        "* Ma’lumotlar tuzilmasi shu muommani yechish uchun ishlatiladi."
      ],
      "metadata": {
        "id": "lybcHiDJiYrb"
      }
    },
    {
      "cell_type": "markdown",
      "source": [
        "**Ma’lumotlar tuzilmasi**\n",
        "\n",
        "* Python dasturlash tilida ma’lumotlar bilan ishlash uchun quyidagi ma’lumotlar tuzilmasi mavjud: \n",
        "1. list(ro’yhat), \n",
        "2. tuple(kortej), \n",
        "3. set(to’plam), \n",
        "4. dict(lug’at) va boshqalar.\n"
      ],
      "metadata": {
        "id": "1J6Dj8jWikgI"
      }
    },
    {
      "cell_type": "markdown",
      "source": [
        "**List(Ro’yhat)**\n",
        "\n",
        "* Ro’yhat bu ketma-ket joylashgan elementlar to’plami hisoblanadi.\n",
        "\n",
        "* Boshqa dasturlash tillaridaki massiv bilan bir hil hisoblanadi.\n",
        "\n",
        "* Ma’lumotlarni qo’shish, o’chirish va o’zgartirish imkonini beradi.\n",
        "\n",
        "* E’lon qilish uchun [ ] belgisidan yoki list() funksiyasidan.\n"
      ],
      "metadata": {
        "id": "VP6EYzMpivfN"
      }
    },
    {
      "cell_type": "markdown",
      "metadata": {
        "id": "rFDan5-MSWxS"
      },
      "source": [
        "Ro'yxat -> bu turli xil tipli obyektlarni saqlash uchun ma'lumotlar tuzilmasi. Ro'yxat uzunligi o'zgaruvchan hisoblanadi(mutable obyekt). "
      ]
    },
    {
      "cell_type": "code",
      "source": [
        "k = 3 # k o'zida faqat 1 ta qiymat saqlayapti\n",
        "print(k)"
      ],
      "metadata": {
        "colab": {
          "base_uri": "https://localhost:8080/"
        },
        "id": "nXxlY74JHktO",
        "outputId": "6b3a304a-9da9-4dae-a97a-5fbf8913f865"
      },
      "execution_count": null,
      "outputs": [
        {
          "output_type": "stream",
          "name": "stdout",
          "text": [
            "3\n"
          ]
        }
      ]
    },
    {
      "cell_type": "code",
      "execution_count": null,
      "metadata": {
        "id": "MZKJaESXRHN5",
        "colab": {
          "base_uri": "https://localhost:8080/"
        },
        "outputId": "63fbfa39-580f-4ed1-b534-6d4874c22b77"
      },
      "outputs": [
        {
          "output_type": "stream",
          "name": "stdout",
          "text": [
            "[1, 2, 3, 'Salom', True, 3.14, -34, 2.78]\n"
          ]
        }
      ],
      "source": [
        "a=[] # ro'yxatlarni elon qilishning turli hil yo'llari\n",
        "b=list()\n",
        "c  =  [1, 2, 3, 'Salom', True, 3.14, -34, 2.78]# tog'ridan to'g'ri shu yerning o'zida qiymat berish ro'yxatga\n",
        "#ind:  0  1  2    3         4    5     6\n",
        "print(c)"
      ]
    },
    {
      "cell_type": "markdown",
      "source": [
        "**Indekslash**\n",
        "\n",
        "* Ro’yhatda elementlarga murojat qilish uchun indeks ishlatiladi. \n",
        "* Indekslash 0 dan boshlanadi.\n",
        "* Indeks manfiy son bo’lishi ham mumkin. Bunda -1 ohirgi element hisoblanadi.\n"
      ],
      "metadata": {
        "id": "Vsko8JImjTef"
      }
    },
    {
      "cell_type": "code",
      "source": [
        "# manfiy_index   -5        -4       -3      -2      -1\n",
        "# ruyxat1  =  ['olma', 'shaftoli', 'nok', \"o'rik\", 'anor'] )\n",
        "# musbat_index   0          1        2      3        4\n",
        "# Qaysi(musbat, yoki mafiy) indeks bilan murojat qilishning faqri yo'q:\n",
        "# ruyxat1[2]='nok' ; ruyxat1[-3]=\"nok\""
      ],
      "metadata": {
        "id": "99gn4vD_MKtf"
      },
      "execution_count": 34,
      "outputs": []
    },
    {
      "cell_type": "code",
      "source": [
        "students_1 = list()\n",
        "print(students_1)\n",
        "\n",
        "students_2 = [50, 60]\n",
        "print(students_2)\n",
        "\n",
        "mixed = [\"123\", False, 2, 2.4]\n",
        "print(mixed)"
      ],
      "metadata": {
        "colab": {
          "base_uri": "https://localhost:8080/"
        },
        "id": "-Y77FoG9jJiM",
        "outputId": "a01e6804-a099-4434-fd88-61110b8a5f6f"
      },
      "execution_count": null,
      "outputs": [
        {
          "output_type": "stream",
          "name": "stdout",
          "text": [
            "[]\n",
            "[50, 60]\n",
            "['123', False, 2, 2.4]\n"
          ]
        }
      ]
    },
    {
      "cell_type": "code",
      "source": [
        "# manf_ind= -4  -3  -2  -1\n",
        "students = [69, 58, 75, 89]\n",
        "#musb_indx= 0    1  2    3\n",
        "print('1:', students[0])\n",
        "print('3:', students[2])\n",
        "print('4:', students[-1])\n",
        "print('1:', students[-4])\n",
        "\n",
        "students[0] = 75  # elementni qiymatini o'zgartish\n",
        "print('1:', students[0])"
      ],
      "metadata": {
        "colab": {
          "base_uri": "https://localhost:8080/"
        },
        "id": "be4pkIU2jjPp",
        "outputId": "81fcb721-80a1-435c-fefa-5ce6fb1a55ac"
      },
      "execution_count": null,
      "outputs": [
        {
          "output_type": "stream",
          "name": "stdout",
          "text": [
            "1: 69\n",
            "3: 75\n",
            "4: 89\n",
            "1: 69\n",
            "1: 75\n"
          ]
        }
      ]
    },
    {
      "cell_type": "markdown",
      "source": [
        "**Mavjud bo’lmagan indeksga murojat qilish dastur hatoligiga olib keladi.**"
      ],
      "metadata": {
        "id": "KPNB_uxhkJYM"
      }
    },
    {
      "cell_type": "code",
      "source": [
        "students = [] \n",
        "print(students[0]) # IndexError: list index out of range olamiz"
      ],
      "metadata": {
        "id": "LJFtKHR9kLUo"
      },
      "execution_count": null,
      "outputs": []
    },
    {
      "cell_type": "markdown",
      "source": [
        "**Ro'yhatni kezib chiqish**\n",
        "\n",
        "* Ro’yhatni barcha elementlarini kezib chiqish uchun sikldan foydalanish mumkin.\n"
      ],
      "metadata": {
        "id": "o2pc1dUKkTQe"
      }
    },
    {
      "cell_type": "code",
      "source": [
        "students = [69, 58, 75, 89]\n",
        "for num in students: # num = [69, 58, 75, 89] har bir eltini birin ketin olib\n",
        "    print(num) # print(num) buyruqini bajarib chiqadi"
      ],
      "metadata": {
        "colab": {
          "base_uri": "https://localhost:8080/"
        },
        "id": "SH56wVb1kXwE",
        "outputId": "b9232c30-69cc-4055-94cb-2825711cf636"
      },
      "execution_count": 35,
      "outputs": [
        {
          "output_type": "stream",
          "name": "stdout",
          "text": [
            "69\n",
            "58\n",
            "75\n",
            "89\n"
          ]
        }
      ]
    },
    {
      "cell_type": "code",
      "source": [
        "students = [69, 58, 75, 89]# bu ishni while bn ham qilish mumkin:\n",
        "i = 0\n",
        "while i < len(students): # len(interable_object) iterable_objectning uzunligini(eltlar sonini) qaytaradi\n",
        "    print(students[i])\n",
        "    i += 1"
      ],
      "metadata": {
        "colab": {
          "base_uri": "https://localhost:8080/"
        },
        "id": "rGgoCxV6keNP",
        "outputId": "c3e22f56-e1fd-4383-8737-4249fa4ffe8d"
      },
      "execution_count": null,
      "outputs": [
        {
          "output_type": "stream",
          "name": "stdout",
          "text": [
            "69\n",
            "58\n",
            "75\n",
            "89\n"
          ]
        }
      ]
    },
    {
      "cell_type": "markdown",
      "source": [
        "**len() funskiyasi ro’yhatdaki elementlar sonini qaytaradi.**"
      ],
      "metadata": {
        "id": "sth0vQrWklqG"
      }
    },
    {
      "cell_type": "markdown",
      "source": [
        "**Ro’yhat ustida amallar**\n",
        "\n",
        "* Ro’yhatlarni qo’shish mumkin.\n",
        "* Songa ko’paytirish mumkin.\n",
        "* Ro’yhatni e’lon qilish uchun generatorlardan foydalanish mumkin. Buning uchun for siklidan foydalaniladi."
      ],
      "metadata": {
        "id": "RWWBNenBkrmo"
      }
    },
    {
      "cell_type": "code",
      "source": [
        "list_1 = [1, 2, 3, 4]\n",
        "list_2 = [5, 6]\n",
        "print(list_1 + list_2) # ro'yxatlarni qo'shish; list_1.extend(list_2) metodi ham shu ishni qiladi\n",
        "\n",
        "list_3 = [1, 5] # Huddi satrlardagi + va * amallaridek ishlaydi:\n",
        "print(list_3 * 5)# list_3 * 5 = list_3 + list_3 + list_3 + list_3 + list_3"
      ],
      "metadata": {
        "colab": {
          "base_uri": "https://localhost:8080/"
        },
        "id": "TaHqc98Gk2aY",
        "outputId": "f2253153-2c2e-4108-926c-b51c4a169b34"
      },
      "execution_count": null,
      "outputs": [
        {
          "output_type": "stream",
          "name": "stdout",
          "text": [
            "[1, 2, 3, 4, 5, 6]\n",
            "[1, 5, 1, 5, 1, 5, 1, 5, 1, 5]\n"
          ]
        }
      ]
    },
    {
      "cell_type": "markdown",
      "source": [
        "**Ro’yhat metodlari**\n",
        "\n",
        "* Ro’yhat ustida amallar bajarish uchun quyidagi metodlar keltirib o’tirilgan:\n",
        "\n",
        "* append(item) - ro’yhat ohiriga element qo’shadi.\n",
        "\n",
        "* extend(other) - ro’yhat ohiriga boshqa ro’yhat elementlarini qo’shadi.\n",
        "\n",
        "* insert(index, item) - elementni berilgan indeksga qo’shadi.\n",
        "\n",
        "* remove(item) - item elementini o’chiardi. Agarda bunday elementlardan bir nechtasi bo’lsa, birinchisini o’chiradi. Agarda bunday element bo’lmasa, dastur hatoligi kelib chiqadi.\n",
        "\n",
        "* clear() - ro’yhatdaki barcha elementni o’chirib tashlaydi.\n",
        "\n",
        "* index(item) - ro’yhatdan elementni qidiradi va uni indeksini qayataradi. Agar bunday elt bir nechta bo'lsa dastlabki uchraganining idexini qaytaradi. Agar bunday element mavjud bo’lmasa, hatolik chaqiriladi.\n",
        "\n",
        "* pop([index]) - ro’yhatdan indeks bo’yicha o’chiradi va o’chirilgan elementni qaytaradi.\n",
        "\n",
        "* count(item) - berilgan elementdan ro’yhatda qanchasi borligini qaytaradi\n",
        "\n",
        "* sort([key]) - ro’yhatni o’sish bo’yicha saralaydi. Saralash uslubini o’zgartirish uchun key ga funksiyani yuborishish mumkin.\n",
        "\n",
        "* reverse() - ro’yhatni teskariga aylantirish uchun ishlatiladi\n",
        "\n",
        "  ..."
      ],
      "metadata": {
        "id": "t3ykJS6WPHbE"
      }
    },
    {
      "cell_type": "code",
      "source": [
        "students = [] \n",
        "\n",
        "students.append(60)\n",
        "print('Append:', students)\n",
        "\n",
        "students.extend([70, 67])# extend-kengaytrish\n",
        "print('Extend:', students)# students.extend([70, 67])== students = students+[70,67]\n",
        "\n",
        "students.remove(60)# remove-olib tashash\n",
        "print('Remove:', students)\n",
        "\n",
        "students.clear()# clear-tozalash\n",
        "print('Clear:', students)"
      ],
      "metadata": {
        "colab": {
          "base_uri": "https://localhost:8080/"
        },
        "id": "nmiV34FsQTfY",
        "outputId": "b5aa39ee-79b0-498d-8f7b-11bf26159731"
      },
      "execution_count": 48,
      "outputs": [
        {
          "output_type": "stream",
          "name": "stdout",
          "text": [
            "Append: [60]\n",
            "Extend: [60, 70, 67]\n",
            "Remove: [70, 67]\n",
            "Clear: []\n"
          ]
        }
      ]
    },
    {
      "cell_type": "code",
      "source": [
        "students += [70, 70, 85, 90]\n",
        "print('Extend:', students)\n",
        "\n",
        "print('Count:', students.count(70)) # count-sanamoq\n",
        "\n",
        "students.pop(3)# pop - olish\n",
        "print('Pop:', students)\n",
        "\n",
        "students.insert(1, 90) # insert-joylash\n",
        "print('Insert:', students)\n",
        "\n",
        "students.sort() # sort-saralash\n",
        "print('Sort:', students)\n",
        "\n",
        "students.reverse() # reverse-teskari qilmoq\n",
        "print('Reverse:', students)"
      ],
      "metadata": {
        "colab": {
          "base_uri": "https://localhost:8080/"
        },
        "id": "7HXPlQ6WQzlp",
        "outputId": "2923c79a-db25-4546-81d7-c081fef52333"
      },
      "execution_count": 49,
      "outputs": [
        {
          "output_type": "stream",
          "name": "stdout",
          "text": [
            "Extend: [70, 70, 85, 90]\n",
            "Count: 2\n",
            "Pop: [70, 70, 85]\n",
            "Insert: [70, 90, 70, 85]\n",
            "Sort: [70, 70, 85, 90]\n",
            "Reverse: [90, 85, 70, 70]\n"
          ]
        }
      ]
    },
    {
      "cell_type": "code",
      "execution_count": 58,
      "metadata": {
        "colab": {
          "base_uri": "https://localhost:8080/"
        },
        "id": "gRggW9FAeIHI",
        "outputId": "43cfe501-5c70-478d-b5d7-dde3a88b43cd"
      },
      "outputs": [
        {
          "output_type": "stream",
          "name": "stdout",
          "text": [
            "3\n",
            "7\n",
            "[1, 2, 4, 5, 6]\n"
          ]
        }
      ],
      "source": [
        "a=[1,2,3,4,5,6,7]\n",
        "k = a.pop(2) # qaysi indexdagi eltni olish kiritiladi, agar kiritlmasa pop()-ohirgi eltni oladi\n",
        "print(k) # pop(arg1) arg1 eltni listdan oladi va qaytaradi\n",
        "print(a.pop())\n",
        "print(a)"
      ]
    },
    {
      "cell_type": "markdown",
      "source": [
        "**Ro'yhat ustida amal bajariladigan funksiyalar**\n",
        "\n",
        "* sum() funksiyasi yig’indini hisoblash uchun ishlatiladi.\n",
        "\n",
        "* max() eng katta elementni topish uchun.\n",
        "\n",
        "* min() eng kichik elementni topish uchun.\n",
        "\n",
        "* del list[ind] - list ning berilgan indexdagi eltini o'chiradi; remove ga o'xshash(remove qiymat bn o'chiradi) bu yerda index bn o'chiramiz"
      ],
      "metadata": {
        "id": "nJu0zE7FRKqs"
      }
    },
    {
      "cell_type": "code",
      "source": [
        "print(\"students = \", students)\n",
        "print('AVG:', sum(students) / len(students)) # avg-average-o'rtacha\n",
        "print('max:', max(students))\n",
        "print('min:', min(students))\n",
        "del students[0]\n",
        "print(\"del students[0] qo'llagandan keyingi holat: \", students)"
      ],
      "metadata": {
        "colab": {
          "base_uri": "https://localhost:8080/"
        },
        "id": "BggCT7voRTzG",
        "outputId": "f09f5a3d-db17-400f-850a-c6deaf5c7d2d"
      },
      "execution_count": 50,
      "outputs": [
        {
          "output_type": "stream",
          "name": "stdout",
          "text": [
            "students =  [90, 85, 70, 70]\n",
            "AVG: 78.75\n",
            "max: 90\n",
            "min: 70\n",
            "del students[0] qo'llagandan keyingi holat:  [85, 70, 70]\n"
          ]
        }
      ]
    },
    {
      "cell_type": "code",
      "execution_count": null,
      "metadata": {
        "colab": {
          "base_uri": "https://localhost:8080/"
        },
        "id": "x6qMRRNFXH0x",
        "outputId": "f1272176-bce6-4cb5-f1c7-039311b44d3f"
      },
      "outputs": [
        {
          "output_type": "stream",
          "name": "stdout",
          "text": [
            "[1, 2, 3, 'Salom', True, 3.14, -34, 2.78, 9, 9]\n"
          ]
        }
      ],
      "source": [
        "c.append(9) # b listning ohiriga 9 ni qo'shadi\n",
        "print(c)"
      ]
    },
    {
      "cell_type": "markdown",
      "source": [
        "**Bo’laklash**\n",
        "\n",
        "Ro’yhatni bir qismini olish uchun bo’laklash mumkin.\n",
        "\n",
        "Ishlatish usullari:\n",
        "\n",
        "* item[start:stop:step] - start dan (stop-1) gacha step qadam bilan.\n",
        "\n",
        "* item[start:] - startdan ohirigacha.\n",
        "\n",
        "* item[:end] - 0 dan (end-1) gacha."
      ],
      "metadata": {
        "id": "4_tk8-L0Tx1m"
      }
    },
    {
      "cell_type": "code",
      "source": [
        "#                                manfiy_index   -10 -9 -8 -7 -6 -5 -4 -3 -2 -1\n",
        "numbers = [i for i in range(10)]              # [ 0, 1, 2, 3, 4, 5, 6, 7, 8, 9 ] listni hosil qildik\n",
        "print('4 dan keyingilar: ', numbers[4:])# mus_ind 0  1  2  3  4  5  6  7  8  9\n",
        "print('4 gacha:', numbers[:5])\n",
        "print('3 dan 4 gacha:', numbers[3:5])\n",
        "print('2 dan 8 gacha 2 qadam bilan:', numbers[2:9:2])\n",
        "print('9 dan 6 gacha -1 qadam bilan', numbers[-1:-5:-1])\n",
        "print('barcha element', numbers[:])\n",
        "print('barcha element teskarisiga', numbers[::-1])"
      ],
      "metadata": {
        "colab": {
          "base_uri": "https://localhost:8080/"
        },
        "id": "ftuAlqewULYM",
        "outputId": "d7b77821-8a42-4959-e042-f2b03f31af40"
      },
      "execution_count": 52,
      "outputs": [
        {
          "output_type": "stream",
          "name": "stdout",
          "text": [
            "4 dan keyingilar:  [4, 5, 6, 7, 8, 9]\n",
            "4 gacha: [0, 1, 2, 3, 4]\n",
            "3 dan 4 gacha: [3, 4]\n",
            "2 dan 8 gacha 2 qadam bilan: [2, 4, 6, 8]\n",
            "9 dan 6 gacha -1 qadam bilan [9, 8, 7, 6]\n",
            "barcha element [0, 1, 2, 3, 4, 5, 6, 7, 8, 9]\n",
            "barcha element teskarisiga [9, 8, 7, 6, 5, 4, 3, 2, 1, 0]\n"
          ]
        }
      ]
    },
    {
      "cell_type": "code",
      "source": [
        "c = list(chr(i) for i in range(ord('a'), ord('o')))\n",
        "c"
      ],
      "metadata": {
        "colab": {
          "base_uri": "https://localhost:8080/"
        },
        "id": "n1Mss9ACWbzz",
        "outputId": "e588b12d-1e7b-45bb-cc50-90d098bca0ab"
      },
      "execution_count": 56,
      "outputs": [
        {
          "output_type": "execute_result",
          "data": {
            "text/plain": [
              "['a', 'b', 'c', 'd', 'e', 'f', 'g', 'h', 'i', 'j', 'k', 'l', 'm', 'n']"
            ]
          },
          "metadata": {},
          "execution_count": 56
        }
      ]
    },
    {
      "cell_type": "code",
      "execution_count": 57,
      "metadata": {
        "colab": {
          "base_uri": "https://localhost:8080/"
        },
        "id": "IngcXn-Tbp2k",
        "outputId": "ae204110-b6aa-494c-d721-5be1d3974e27"
      },
      "outputs": [
        {
          "output_type": "execute_result",
          "data": {
            "text/plain": [
              "['b', 'c', 'd']"
            ]
          },
          "metadata": {},
          "execution_count": 57
        }
      ],
      "source": [
        "c[1:4] # [start: stop: step] Kesib olish"
      ]
    },
    {
      "cell_type": "markdown",
      "source": [
        "**Nusxalash**\n",
        "\n",
        "* Python dasturlash tilida = operatori bir obyektni boshqasi bilan bog’lash uchun ishlatiladi.\n",
        "\n",
        "* Bunda ikkala obyektdan bittasi o’zgarsa, boshqasi ham shu kabi o’zgaradi.(Chunki list lar mutable(o'zgaruvchan) obyekt)"
      ],
      "metadata": {
        "id": "pu-eD43dVj5Y"
      }
    },
    {
      "cell_type": "code",
      "source": [
        "list_1 = [1, 2]\n",
        "list_2 = list_1\n",
        "list_1.append(3)\n",
        "print(list_1)\n",
        "print(list_2)"
      ],
      "metadata": {
        "id": "85v-5PJbVpSD"
      },
      "execution_count": null,
      "outputs": []
    },
    {
      "cell_type": "code",
      "execution_count": 51,
      "metadata": {
        "colab": {
          "base_uri": "https://localhost:8080/"
        },
        "id": "cFzhoWFzWuYd",
        "outputId": "86c97298-8950-4c51-d40e-7fcbb9b48bda"
      },
      "outputs": [
        {
          "output_type": "stream",
          "name": "stdout",
          "text": [
            "[1, 3, 5, 7]\n",
            "[1, 3, 5, 7]\n"
          ]
        }
      ],
      "source": [
        "# ro'yxatdan nusxa olish\n",
        "a=[1,3,5,7]\n",
        "b=a # b = a.copy() qilsa ham bo'lardi, id lari bir hil bo'lmaydi\n",
        "print(b) # a ning nusxasi yangi obyekt qilib olinib ba ga beriladi\n",
        "print(a)"
      ]
    },
    {
      "cell_type": "markdown",
      "source": [
        "**Ro’yhatni nusxalash uchun copy() metodidan yoki list() funksiyasidan foydaniladi yoki item[:] amali ishlatiladi.**"
      ],
      "metadata": {
        "id": "iuidNxDoWDgD"
      }
    },
    {
      "cell_type": "code",
      "source": [
        "list_1 = [1, 2]\n",
        "list_2 = list_1.copy()\n",
        "list_3 = list_1[:]\n",
        "list_4 = list(list_1)\n",
        "list_1.append(3)\n",
        "print(list_1)\n",
        "print(list_2)\n",
        "print(list_3)\n",
        "print(list_4)"
      ],
      "metadata": {
        "colab": {
          "base_uri": "https://localhost:8080/"
        },
        "id": "rKvXji53WS4i",
        "outputId": "7af6f26c-6a78-4d1c-b736-ec9104bbf157"
      },
      "execution_count": 53,
      "outputs": [
        {
          "output_type": "stream",
          "name": "stdout",
          "text": [
            "[1, 2, 3]\n",
            "[1, 2]\n",
            "[1, 2]\n",
            "[1, 2]\n"
          ]
        }
      ]
    },
    {
      "cell_type": "code",
      "execution_count": null,
      "metadata": {
        "colab": {
          "base_uri": "https://localhost:8080/"
        },
        "id": "Y8aDxNInXLz8",
        "outputId": "7b1ff34f-0b4d-427c-ed7d-34ac629fcf7d"
      },
      "outputs": [
        {
          "output_type": "execute_result",
          "data": {
            "text/plain": [
              "[1, 3, 5, 7]"
            ]
          },
          "metadata": {},
          "execution_count": 45
        }
      ],
      "source": [
        "# a listni nusxalaydi\n",
        "a=[1,3,5,7] # b = a.copy() qilsa ham bo'lardi, id lari bir hil bo'lmaydi\n",
        "b=a.copy() # a ning nusxasi yangi obyekt qilib olinib ba ga beriladi\n",
        "b"
      ]
    },
    {
      "cell_type": "code",
      "execution_count": null,
      "metadata": {
        "colab": {
          "base_uri": "https://localhost:8080/"
        },
        "id": "odn63bCBt1QF",
        "outputId": "5313775d-3b1b-491f-e6eb-8c7efd689839"
      },
      "outputs": [
        {
          "name": "stdout",
          "output_type": "stream",
          "text": [
            "Son kiriting:>>> 5\n",
            "[0, 1, 2, 3, 4]\n"
          ]
        }
      ],
      "source": [
        "print([i for i in range(int(input(\"Son kiriting:>>> \")))]) # 1 qatorda listni yaratib ekranga chiqarish"
      ]
    },
    {
      "cell_type": "markdown",
      "metadata": {
        "id": "zqQsxBYtwiNO"
      },
      "source": [
        "# O'zgarmas ro'yxat - Tuple"
      ]
    },
    {
      "cell_type": "markdown",
      "source": [
        "**Tuple(Kortej)**\n",
        "\n",
        "*Kortej ro’yhat kabi, faqat kortej elementlari o’zgarmas hisoblanadi(immutable-statik obyekt).\n",
        "\n",
        "*Kortejni e’lon qilish uchun () belgisidan yoki tuple() funksiyasidan foydaniladi. \n",
        "\n",
        "*Agarda kortej bir elementdan tashkil topsa ‘,’ belgisi ham () ichiga qo’yilishi lozim."
      ],
      "metadata": {
        "id": "6fBr6B6BXj-0"
      }
    },
    {
      "cell_type": "code",
      "source": [
        "tuple_1 = (1, 2, 3)\n",
        "print(tuple_1)\n",
        "\n",
        "tuple_2 = (1, ) # 1 elt dan iborat tuple\n",
        "print(tuple_2)\n",
        "\n",
        "tuple_3 = (2) # hato e'lon qilish\n",
        "print(tuple_3)"
      ],
      "metadata": {
        "colab": {
          "base_uri": "https://localhost:8080/"
        },
        "id": "X15XCCjUX2dm",
        "outputId": "f4e7a6f6-c663-471f-97c6-195d8d69fd90"
      },
      "execution_count": 59,
      "outputs": [
        {
          "output_type": "stream",
          "name": "stdout",
          "text": [
            "(1, 2, 3)\n",
            "(1,)\n",
            "2\n"
          ]
        }
      ]
    },
    {
      "cell_type": "code",
      "source": [
        "# '+'(concotenatsiya) va '*'(ko'paytrish) amallari huddi satrlar va ro'yxatlardagi kabi ishlaydi\n",
        "print(tuple_1 + tuple_2)\n",
        "print(tuple_1 * 3)\n",
        "print(tuple(i for i in range(10)))"
      ],
      "metadata": {
        "colab": {
          "base_uri": "https://localhost:8080/"
        },
        "id": "zym_UlwUX-7i",
        "outputId": "bb5a5f67-ebc2-45f8-b8bb-097660514813"
      },
      "execution_count": 60,
      "outputs": [
        {
          "output_type": "stream",
          "name": "stdout",
          "text": [
            "(1, 2, 3, 1)\n",
            "(1, 2, 3, 1, 2, 3, 1, 2, 3)\n",
            "(0, 1, 2, 3, 4, 5, 6, 7, 8, 9)\n"
          ]
        }
      ]
    },
    {
      "cell_type": "markdown",
      "source": [
        "**tuple elementlariga murojat listdagi kabi index bilan bo'ladi, manfiy va musbat indexlash mavjud**"
      ],
      "metadata": {
        "id": "9h5TZf4RYcFv"
      }
    },
    {
      "cell_type": "code",
      "source": [
        "tuple_1 = (1, 2, 3)\n",
        "tuple_1[1] = 2 #  TypeError: 'tuple' object does not support item assignment olamiz chunki\n",
        "# tuple o'zgarmas(statik-immutable) obyekt"
      ],
      "metadata": {
        "id": "1H2-VWtbYQ_j"
      },
      "execution_count": null,
      "outputs": []
    },
    {
      "cell_type": "markdown",
      "source": [
        "**Kortejni ro'yhatdan farqi**\n",
        "\n",
        "* Kortejni ro’yhatdan yana bir farqi, kortej uchun hotiradan kam joy ajratiladi ro’yhatga nisbatan.\n",
        "\n",
        "* Kortejda ro’yhat ustida bajarib bo’ladigan amallardan faqat ro'yhatni o’zgartirmaydigan amallarni ishlatish mumkin."
      ],
      "metadata": {
        "id": "c-Q8hulSYuuX"
      }
    },
    {
      "cell_type": "code",
      "source": [
        "tuple_1 = (1, 2, 3, 4)\n",
        "list_1 = [1, 2, 3, 4]\n",
        "print(tuple_1.__sizeof__())# o;lchovini olish\n",
        "print(list_1.__sizeof__())"
      ],
      "metadata": {
        "colab": {
          "base_uri": "https://localhost:8080/"
        },
        "id": "tx2X6hw2Y45r",
        "outputId": "4937e9da-d7bc-4332-c295-7e544129c61b"
      },
      "execution_count": 63,
      "outputs": [
        {
          "output_type": "stream",
          "name": "stdout",
          "text": [
            "56\n",
            "72\n"
          ]
        }
      ]
    },
    {
      "cell_type": "markdown",
      "source": [
        "**Python dasturlash tilini ajoyib imkoniyatlaridan biri kortej bilan bog’liq.**"
      ],
      "metadata": {
        "id": "5FKZU0qFY--L"
      }
    },
    {
      "cell_type": "code",
      "source": [
        "a = 1\n",
        "b = 2\n",
        "a, b = b, a # a va b sonlarni qiymatlarini almashtrib qo'yish\n",
        "print(a, b) # agar kortejlar bo'lmaganda bu masala quyidagi algoritm bilan qilinardi:"
      ],
      "metadata": {
        "colab": {
          "base_uri": "https://localhost:8080/"
        },
        "id": "YSml-zGmZDDK",
        "outputId": "1281f51b-cea5-4fcb-86dd-e97540084a2c"
      },
      "execution_count": 64,
      "outputs": [
        {
          "output_type": "stream",
          "name": "stdout",
          "text": [
            "2 1\n"
          ]
        }
      ]
    },
    {
      "cell_type": "code",
      "source": [
        "a = 3\n",
        "b = 4\n",
        "temp = a\n",
        "a = b\n",
        "b = temp\n",
        "print(\"a = \", a)\n",
        "print(\"b = \", b) # koretjlar bu uzun algoritmni 1 qatorlik versiyasini berdi"
      ],
      "metadata": {
        "colab": {
          "base_uri": "https://localhost:8080/"
        },
        "id": "46CB0aSzZSOS",
        "outputId": "91fb6c7d-2a46-44b1-bea3-f0d061bc4a8b"
      },
      "execution_count": 66,
      "outputs": [
        {
          "output_type": "stream",
          "name": "stdout",
          "text": [
            "a =  4\n",
            "b =  3\n"
          ]
        }
      ]
    },
    {
      "cell_type": "markdown",
      "metadata": {
        "id": "YVk5YMpZyOKs"
      },
      "source": [
        "Tuple - 2 maqsadda qo'llaniladi.\n",
        "\n",
        "1. Xavfsizlik, ma'lumotlarning tasodifan o'garib ketishini oldini olish uchun\n",
        "\n",
        "2. Unumdorlik, tuple listga qarganda tezroq ishlaydi"
      ]
    },
    {
      "cell_type": "code",
      "source": [
        "a = {1: 'A', 2: 'B', 3: 'C'} \n",
        "for i, j in a.items(): \n",
        "  print(i, j, end = \" \")"
      ],
      "metadata": {
        "colab": {
          "base_uri": "https://localhost:8080/"
        },
        "id": "b4D1vSo7IORE",
        "outputId": "ae9c7a80-53e2-487e-b712-82f562f2aa08"
      },
      "execution_count": null,
      "outputs": [
        {
          "output_type": "stream",
          "name": "stdout",
          "text": [
            "1 A 2 B 3 C "
          ]
        }
      ]
    },
    {
      "cell_type": "markdown",
      "source": [
        "**E'tiboringiz uchun katta rahmat!**"
      ],
      "metadata": {
        "id": "hsRO4ZpiZxPl"
      }
    }
  ],
  "metadata": {
    "colab": {
      "collapsed_sections": [],
      "provenance": [],
      "include_colab_link": true
    },
    "kernelspec": {
      "display_name": "Python 3",
      "name": "python3"
    },
    "language_info": {
      "name": "python"
    }
  },
  "nbformat": 4,
  "nbformat_minor": 0
}