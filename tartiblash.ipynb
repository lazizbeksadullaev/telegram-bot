{
  "nbformat": 4,
  "nbformat_minor": 0,
  "metadata": {
    "colab": {
      "provenance": [],
      "collapsed_sections": [],
      "authorship_tag": "ABX9TyODKNdNt97qQvwLIw7PT45h",
      "include_colab_link": true
    },
    "kernelspec": {
      "name": "python3",
      "display_name": "Python 3"
    },
    "language_info": {
      "name": "python"
    }
  },
  "cells": [
    {
      "cell_type": "markdown",
      "metadata": {
        "id": "view-in-github",
        "colab_type": "text"
      },
      "source": [
        "<a href=\"https://colab.research.google.com/github/lazizbeksadullaev/telegram-bot/blob/main/tartiblash.ipynb\" target=\"_parent\"><img src=\"https://colab.research.google.com/assets/colab-badge.svg\" alt=\"Open In Colab\"/></a>"
      ]
    },
    {
      "cell_type": "code",
      "execution_count": 2,
      "metadata": {
        "id": "tDWtVaHZoOgH"
      },
      "outputs": [],
      "source": [
        "# Numpy. Massivga yo'naltirilgandasturlash.\n",
        "# 11.Tartiblash(Sorting)"
      ]
    },
    {
      "cell_type": "code",
      "source": [
        "import numpy as np"
      ],
      "metadata": {
        "id": "s0St9vcXod3Z"
      },
      "execution_count": 4,
      "outputs": []
    },
    {
      "cell_type": "code",
      "source": [
        "# data yarataylik:\n",
        "array1 = np.random.randn(4) # 4 ta tasodifiy sonlardan tashkil topgan massiv\n",
        "array1"
      ],
      "metadata": {
        "colab": {
          "base_uri": "https://localhost:8080/"
        },
        "id": "Q9tmy8WbogN4",
        "outputId": "cde8bfb4-d2a4-45dc-efa0-fada1468163d"
      },
      "execution_count": 5,
      "outputs": [
        {
          "output_type": "execute_result",
          "data": {
            "text/plain": [
              "array([ 0.60848729, -0.04260765,  0.06883904, -0.87104926])"
            ]
          },
          "metadata": {},
          "execution_count": 5
        }
      ]
    },
    {
      "cell_type": "code",
      "source": [
        "array2 = np.random.rand(4)# aslida men ham bu randn bn rand o'rtasidagi farqda adashaman, \n",
        "# bu farq normal numpy.random.rand draws from a uniform distribution and \n",
        "# np.random.randn() from a normal distribution. \"Why does initial weights drawn \n",
        "# from a normal distribution work better in deep learning\" is more suited for \n",
        "# Cross Validated though. This is not related to numpy or a deep learning framework at all. –ayhan Nov 11, 2017 at 16:46\n",
        "# https://stackoverflow.com/questions/47240308/differences-between-numpy-random-rand-vs-numpy-random-randn-in-python\n",
        "array2"
      ],
      "metadata": {
        "colab": {
          "base_uri": "https://localhost:8080/"
        },
        "id": "BgqFrZ6Hov8w",
        "outputId": "db5e11d2-7b4a-455c-cc97-8f845dcc6f73"
      },
      "execution_count": 6,
      "outputs": [
        {
          "output_type": "execute_result",
          "data": {
            "text/plain": [
              "array([0.84133658, 0.59929004, 0.16193409, 0.7641264 ])"
            ]
          },
          "metadata": {},
          "execution_count": 6
        }
      ]
    },
    {
      "cell_type": "code",
      "source": [
        "# randn- random normal - normal taqsimot\n",
        "# rand-uniform - tekis taqsimot. Bularni har birini ishlatishga qulay\n",
        "# bo'lgan o'rinlar mavjud buni keyinroq chuqur o'rganamiz: \n",
        "# Hozircha bizai holda 2 sini ham ishlatsa bo'laveradi"
      ],
      "metadata": {
        "id": "G70IN-RWr8K1"
      },
      "execution_count": 7,
      "outputs": []
    },
    {
      "cell_type": "code",
      "source": [
        "array1"
      ],
      "metadata": {
        "colab": {
          "base_uri": "https://localhost:8080/"
        },
        "id": "5vbm2-J4ojMJ",
        "outputId": "5750b13b-9b0d-4bfc-e8bf-6cf72ffe0ee4"
      },
      "execution_count": 8,
      "outputs": [
        {
          "output_type": "execute_result",
          "data": {
            "text/plain": [
              "array([ 0.60848729, -0.04260765,  0.06883904, -0.87104926])"
            ]
          },
          "metadata": {},
          "execution_count": 8
        }
      ]
    },
    {
      "cell_type": "code",
      "source": [
        "# 1-usul\n",
        "sorted_array1 = np.sort(array1) # array1 ning tartiblangan versiaysi\n",
        "sorted_array1"
      ],
      "metadata": {
        "colab": {
          "base_uri": "https://localhost:8080/"
        },
        "id": "kANNOlfmhcLP",
        "outputId": "ceeebdab-0be3-4954-bd95-2ed27efb4f4a"
      },
      "execution_count": 11,
      "outputs": [
        {
          "output_type": "execute_result",
          "data": {
            "text/plain": [
              "array([-0.87104926, -0.04260765,  0.06883904,  0.60848729])"
            ]
          },
          "metadata": {},
          "execution_count": 11
        }
      ]
    },
    {
      "cell_type": "code",
      "source": [
        "# 2-usul\n",
        "array1.sort() # array1 ning tartiblangan versiyasi bb bu qiymat return \n",
        "# qilmas ekan array1 ning o'zini o'zgartiradi, numpy ni ichidagi sort() esa\n",
        "# qiymat return qiladi\n",
        "array1"
      ],
      "metadata": {
        "colab": {
          "base_uri": "https://localhost:8080/"
        },
        "id": "PcOzXrjQomem",
        "outputId": "b821c32b-4172-4d85-dc8c-8dfdc9176ba1"
      },
      "execution_count": 16,
      "outputs": [
        {
          "output_type": "execute_result",
          "data": {
            "text/plain": [
              "array([-0.87104926, -0.04260765,  0.06883904,  0.60848729])"
            ]
          },
          "metadata": {},
          "execution_count": 16
        }
      ]
    },
    {
      "cell_type": "code",
      "source": [
        "# teskari tartibda tartiblash\n",
        "# afsuski numpyda teskari tartiblash uchun aniq bir parametr \n",
        "# yo'q pythonda reversed=True qilganimizdek. Buni quyidagicha matematik \n",
        "# fint ishlatib qilamiz:"
      ],
      "metadata": {
        "id": "KmOg7tN_srOV"
      },
      "execution_count": 17,
      "outputs": []
    },
    {
      "cell_type": "code",
      "source": [
        "reversed_array1 = -np.sort(-array1)# array1 ni -1 ga ko'paytrsak eng katta elt \n",
        "# eng kichik bo'lib massiv hosil bo'ldi uni sortlab qaytadan -1 ga ko'paytrsak manfiylar\n",
        "# musbat bo'lib qoladi va yakunda teskari tartiblangan massivga kelamiz\n",
        "reversed_array1"
      ],
      "metadata": {
        "colab": {
          "base_uri": "https://localhost:8080/"
        },
        "id": "xekXSzHxuV59",
        "outputId": "c5588948-9041-4c1e-90f6-d0884e8efc55"
      },
      "execution_count": 19,
      "outputs": [
        {
          "output_type": "execute_result",
          "data": {
            "text/plain": [
              "array([ 0.60848729,  0.06883904, -0.04260765, -0.87104926])"
            ]
          },
          "metadata": {},
          "execution_count": 19
        }
      ]
    },
    {
      "cell_type": "code",
      "source": [
        "# 2D massivlarda sortlash"
      ],
      "metadata": {
        "id": "EiYg1eqFucfy"
      },
      "execution_count": 20,
      "outputs": []
    },
    {
      "cell_type": "code",
      "source": [
        "array2d = np.random.randn(2,4) # 2x4 lik normal tasodifiy sonlardan massiv yasimiz:\n",
        "array2d"
      ],
      "metadata": {
        "colab": {
          "base_uri": "https://localhost:8080/"
        },
        "id": "rRFb2riAvHhx",
        "outputId": "452def92-7302-43c4-b220-8bbdb8128651"
      },
      "execution_count": 22,
      "outputs": [
        {
          "output_type": "execute_result",
          "data": {
            "text/plain": [
              "array([[ 1.11518805,  0.66627958, -0.88348469, -0.62828961],\n",
              "       [ 0.21991912, -1.03091588,  1.24466223,  2.11238761]])"
            ]
          },
          "metadata": {},
          "execution_count": 22
        }
      ]
    },
    {
      "cell_type": "code",
      "source": [
        "# Odatda 2D+ o'lchovli masivla ustida amal bajarganda axis larga tayangan \n",
        "# holda ishlar edik(yani malum bir axis ustida). \n",
        "# Bu sortlash ham horizontally(axis=1), or vertically(axis=0) kabi bo'ladi"
      ],
      "metadata": {
        "id": "8rjNlL_xvalo"
      },
      "execution_count": 23,
      "outputs": []
    },
    {
      "cell_type": "code",
      "source": [
        "array2d.sort(axis=0)# vertical yuqoridan pastga sortlash\n",
        "array2d"
      ],
      "metadata": {
        "colab": {
          "base_uri": "https://localhost:8080/"
        },
        "id": "CQtwK2aYwRxY",
        "outputId": "4644a323-0861-4041-a4d0-3ac6426dbfe7"
      },
      "execution_count": 25,
      "outputs": [
        {
          "output_type": "execute_result",
          "data": {
            "text/plain": [
              "array([[ 0.21991912, -1.03091588, -0.88348469, -0.62828961],\n",
              "       [ 1.11518805,  0.66627958,  1.24466223,  2.11238761]])"
            ]
          },
          "metadata": {},
          "execution_count": 25
        }
      ]
    },
    {
      "cell_type": "code",
      "source": [
        "np.sort(array2d, axis=0) # yuqoridagi ishni qilib beradi faqat return qilib massiv yuboradi"
      ],
      "metadata": {
        "colab": {
          "base_uri": "https://localhost:8080/"
        },
        "id": "-PPbsq1nwfiW",
        "outputId": "a9e3effe-1d5e-434b-fdf0-b4f7b9e95ff7"
      },
      "execution_count": 33,
      "outputs": [
        {
          "output_type": "execute_result",
          "data": {
            "text/plain": [
              "array([[-1.03091588, -0.88348469, -0.62828961,  0.21991912],\n",
              "       [ 0.66627958,  1.11518805,  1.24466223,  2.11238761]])"
            ]
          },
          "metadata": {},
          "execution_count": 33
        }
      ]
    },
    {
      "cell_type": "code",
      "source": [
        "array2d.sort(axis=1)# horizontal chapdan o'nga sortlash, \n",
        "# lekin bu array2d ni ichini o'zgartrib sortlidi lekin massiv qaytarmidi\n",
        "# shu sababdan arary2d ni qayatadan chop qilish kerak\n",
        "array2d"
      ],
      "metadata": {
        "colab": {
          "base_uri": "https://localhost:8080/"
        },
        "id": "aG83OfrZw41d",
        "outputId": "53043995-a255-4def-f216-6f664f67d5d4"
      },
      "execution_count": 34,
      "outputs": [
        {
          "output_type": "execute_result",
          "data": {
            "text/plain": [
              "array([[-1.03091588, -0.88348469, -0.62828961,  0.21991912],\n",
              "       [ 0.66627958,  1.11518805,  1.24466223,  2.11238761]])"
            ]
          },
          "metadata": {},
          "execution_count": 34
        }
      ]
    },
    {
      "cell_type": "code",
      "source": [
        "row_sorted = np.sort(array2d, axis=1) # yuqoridagi ishni qilib beradi faqat return qilib massiv yuboradi\n",
        "row_sorted"
      ],
      "metadata": {
        "colab": {
          "base_uri": "https://localhost:8080/"
        },
        "id": "3epGc-M2xqA-",
        "outputId": "2612020a-79ff-4560-ef3e-2fd105d1c8d6"
      },
      "execution_count": 35,
      "outputs": [
        {
          "output_type": "execute_result",
          "data": {
            "text/plain": [
              "array([[-1.03091588, -0.88348469, -0.62828961,  0.21991912],\n",
              "       [ 0.66627958,  1.11518805,  1.24466223,  2.11238761]])"
            ]
          },
          "metadata": {},
          "execution_count": 35
        }
      ]
    },
    {
      "cell_type": "code",
      "source": [],
      "metadata": {
        "id": "xcnMr2Xbxv3M"
      },
      "execution_count": 35,
      "outputs": []
    }
  ]
}