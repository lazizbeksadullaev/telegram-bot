{
  "nbformat": 4,
  "nbformat_minor": 0,
  "metadata": {
    "colab": {
      "provenance": [],
      "collapsed_sections": [],
      "authorship_tag": "ABX9TyOUCfG4a9/gDo3LQolUL1du",
      "include_colab_link": true
    },
    "kernelspec": {
      "name": "python3",
      "display_name": "Python 3"
    },
    "language_info": {
      "name": "python"
    }
  },
  "cells": [
    {
      "cell_type": "markdown",
      "metadata": {
        "id": "view-in-github",
        "colab_type": "text"
      },
      "source": [
        "<a href=\"https://colab.research.google.com/github/lazizbeksadullaev/telegram-bot/blob/main/Index_slice.ipynb\" target=\"_parent\"><img src=\"https://colab.research.google.com/assets/colab-badge.svg\" alt=\"Open In Colab\"/></a>"
      ]
    },
    {
      "cell_type": "code",
      "execution_count": 1,
      "metadata": {
        "id": "jYX7rPPW1Tb4"
      },
      "outputs": [],
      "source": [
        "import numpy as np"
      ]
    },
    {
      "cell_type": "code",
      "source": [
        "# I. 1D massivlarda indexlash va kesib olish"
      ],
      "metadata": {
        "id": "tsNoKETa5bJD"
      },
      "execution_count": null,
      "outputs": []
    },
    {
      "cell_type": "code",
      "source": [
        "array1 = np.arange(10, 100, 10)\n",
        "array1"
      ],
      "metadata": {
        "colab": {
          "base_uri": "https://localhost:8080/"
        },
        "id": "s9k-O28b1dnT",
        "outputId": "4c6dd143-b3e4-41b3-e2a8-b6db9e5ab1bc"
      },
      "execution_count": 2,
      "outputs": [
        {
          "output_type": "execute_result",
          "data": {
            "text/plain": [
              "array([10, 20, 30, 40, 50, 60, 70, 80, 90])"
            ]
          },
          "metadata": {},
          "execution_count": 2
        }
      ]
    },
    {
      "cell_type": "code",
      "source": [
        "array1[0]"
      ],
      "metadata": {
        "colab": {
          "base_uri": "https://localhost:8080/"
        },
        "id": "W-ahTRyP1vV2",
        "outputId": "10c3df76-7449-408a-e15a-eb4ea56e8475"
      },
      "execution_count": 6,
      "outputs": [
        {
          "output_type": "execute_result",
          "data": {
            "text/plain": [
              "10"
            ]
          },
          "metadata": {},
          "execution_count": 6
        }
      ]
    },
    {
      "cell_type": "code",
      "source": [
        "array1[-1]"
      ],
      "metadata": {
        "colab": {
          "base_uri": "https://localhost:8080/"
        },
        "id": "d6ps5Wm-2BgN",
        "outputId": "c297511d-08ae-47ed-99ee-a45045790954"
      },
      "execution_count": 7,
      "outputs": [
        {
          "output_type": "execute_result",
          "data": {
            "text/plain": [
              "90"
            ]
          },
          "metadata": {},
          "execution_count": 7
        }
      ]
    },
    {
      "cell_type": "code",
      "source": [
        "array2 = array1[3:5]#  [3;5) -chigacha eltlarni kesib oladi\n",
        "array2"
      ],
      "metadata": {
        "colab": {
          "base_uri": "https://localhost:8080/"
        },
        "id": "lUL01SpM2D2-",
        "outputId": "4d1d7702-1018-45a7-f6d3-a81bb9984f82"
      },
      "execution_count": 9,
      "outputs": [
        {
          "output_type": "execute_result",
          "data": {
            "text/plain": [
              "array([40, 50])"
            ]
          },
          "metadata": {},
          "execution_count": 9
        }
      ]
    },
    {
      "cell_type": "code",
      "source": [
        "array2*2"
      ],
      "metadata": {
        "colab": {
          "base_uri": "https://localhost:8080/"
        },
        "id": "FwL_g5Au2Y7R",
        "outputId": "db5ab52d-b0bd-4c5c-a6c9-d95a61ad7225"
      },
      "execution_count": 11,
      "outputs": [
        {
          "output_type": "execute_result",
          "data": {
            "text/plain": [
              "array([ 80, 100])"
            ]
          },
          "metadata": {},
          "execution_count": 11
        }
      ]
    },
    {
      "cell_type": "code",
      "source": [
        "array1"
      ],
      "metadata": {
        "colab": {
          "base_uri": "https://localhost:8080/"
        },
        "id": "qQYuIiL72d0C",
        "outputId": "302e2293-372e-4f65-f536-39e4ed1e81a6"
      },
      "execution_count": 12,
      "outputs": [
        {
          "output_type": "execute_result",
          "data": {
            "text/plain": [
              "array([10, 20, 30, 40, 50, 60, 70, 80, 90])"
            ]
          },
          "metadata": {},
          "execution_count": 12
        }
      ]
    },
    {
      "cell_type": "code",
      "source": [
        "array2[:] =  # Qachonki biz kesib olingan qismni o'zgartrsak e'tibor bering \n",
        "# asosiy kesilgan array1 ham o'zgaradi, arraysa are chunki mutable\n",
        "array2"
      ],
      "metadata": {
        "colab": {
          "base_uri": "https://localhost:8080/"
        },
        "id": "1ga2QxTi2vSv",
        "outputId": "ff63818b-4d10-485a-e890-3d113a7f6e77"
      },
      "execution_count": 14,
      "outputs": [
        {
          "output_type": "execute_result",
          "data": {
            "text/plain": [
              "array([0, 0])"
            ]
          },
          "metadata": {},
          "execution_count": 14
        }
      ]
    },
    {
      "cell_type": "code",
      "source": [
        "array1 # Bu 15-qatordagi va 12chi linedagi array1 larni solishtring array1 ham o'zgardi,\n",
        "# qachinki uning kesikini o'zgartrganimizda."
      ],
      "metadata": {
        "colab": {
          "base_uri": "https://localhost:8080/"
        },
        "id": "q1uiQWfy3GvL",
        "outputId": "96119920-2a9e-42de-c4e9-3e1c619d8d25"
      },
      "execution_count": 16,
      "outputs": [
        {
          "output_type": "execute_result",
          "data": {
            "text/plain": [
              "array([10, 20, 30,  0,  0, 60, 70, 80, 90])"
            ]
          },
          "metadata": {},
          "execution_count": 16
        }
      ]
    },
    {
      "cell_type": "code",
      "source": [
        "# Agar bunday bo'lishini hohlamasak copy metodidan foydalanishimiz kere\n",
        "# unda keling yangu array3 yaratamiz:"
      ],
      "metadata": {
        "id": "BohyYlQ23MKd"
      },
      "execution_count": 18,
      "outputs": []
    },
    {
      "cell_type": "code",
      "source": [
        "array3 = np.arange(10, 100, 10) # xuddi array1 ni o'ziga o'xshash\n",
        "array3"
      ],
      "metadata": {
        "colab": {
          "base_uri": "https://localhost:8080/"
        },
        "id": "BKq-m30z4HdR",
        "outputId": "6a07f50b-c8f5-4568-8f59-7af10156765e"
      },
      "execution_count": 19,
      "outputs": [
        {
          "output_type": "execute_result",
          "data": {
            "text/plain": [
              "array([10, 20, 30, 40, 50, 60, 70, 80, 90])"
            ]
          },
          "metadata": {},
          "execution_count": 19
        }
      ]
    },
    {
      "cell_type": "code",
      "source": [
        "sliced_array3 = array3[3:5].copy()\n",
        "sliced_array3[:] = 0\n",
        "sliced_array3"
      ],
      "metadata": {
        "colab": {
          "base_uri": "https://localhost:8080/"
        },
        "id": "uZu047z54Xqa",
        "outputId": "7c56e058-949e-4fe7-9049-14720a59d1ed"
      },
      "execution_count": 21,
      "outputs": [
        {
          "output_type": "execute_result",
          "data": {
            "text/plain": [
              "array([0, 0])"
            ]
          },
          "metadata": {},
          "execution_count": 21
        }
      ]
    },
    {
      "cell_type": "code",
      "source": [
        "array3 # pastki natijada ko'rishimiz mumknki biz array3 ni nusxasini sliced_array3 ga berganimiz uchun\n",
        "# sliced_array3 ustida qancha amal bajarsak ham array3 ning o'zi o'zgarmiy qolaveradi"
      ],
      "metadata": {
        "colab": {
          "base_uri": "https://localhost:8080/"
        },
        "id": "EV9BhzD44pvX",
        "outputId": "61f7fbee-9b28-4da5-c7d5-5f477db0ad8e"
      },
      "execution_count": 23,
      "outputs": [
        {
          "output_type": "execute_result",
          "data": {
            "text/plain": [
              "array([10, 20, 30, 40, 50, 60, 70, 80, 90])"
            ]
          },
          "metadata": {},
          "execution_count": 23
        }
      ]
    },
    {
      "cell_type": "code",
      "source": [
        "# II. 2D(2 o'lchovli massiv)larda indexlash va kesib olish"
      ],
      "metadata": {
        "id": "-syIkkxS4ygd"
      },
      "execution_count": 24,
      "outputs": []
    },
    {
      "cell_type": "code",
      "source": [
        "array2d = np.array([[1,2,3], [4,5,6], [7,8,9]])# shape=(3,3) bo'lgan 2 o'lchovli massiv\n",
        "array2d"
      ],
      "metadata": {
        "colab": {
          "base_uri": "https://localhost:8080/"
        },
        "id": "fDATgviq5mkU",
        "outputId": "ec5125b1-7f0f-4b8c-cb40-26250b139982"
      },
      "execution_count": 25,
      "outputs": [
        {
          "output_type": "execute_result",
          "data": {
            "text/plain": [
              "array([[1, 2, 3],\n",
              "       [4, 5, 6],\n",
              "       [7, 8, 9]])"
            ]
          },
          "metadata": {},
          "execution_count": 25
        }
      ]
    },
    {
      "cell_type": "code",
      "source": [
        "# Keling bu array2d ni o'lchamini ko'ramiz burun o'rgangan ndim yordamida"
      ],
      "metadata": {
        "id": "QxgGbk2k5177"
      },
      "execution_count": 26,
      "outputs": []
    },
    {
      "cell_type": "code",
      "source": [
        "array2d.ndim"
      ],
      "metadata": {
        "colab": {
          "base_uri": "https://localhost:8080/"
        },
        "id": "mellq8u_6CoK",
        "outputId": "afafeb4a-087a-477b-a047-be91072c88f9"
      },
      "execution_count": 27,
      "outputs": [
        {
          "output_type": "execute_result",
          "data": {
            "text/plain": [
              "2"
            ]
          },
          "metadata": {},
          "execution_count": 27
        }
      ]
    },
    {
      "cell_type": "code",
      "source": [
        "array2d"
      ],
      "metadata": {
        "colab": {
          "base_uri": "https://localhost:8080/"
        },
        "id": "v8QfrI476Eyo",
        "outputId": "037b6d02-a69a-4e1b-bf20-632e0ee7b3b0"
      },
      "execution_count": 28,
      "outputs": [
        {
          "output_type": "execute_result",
          "data": {
            "text/plain": [
              "array([[1, 2, 3],\n",
              "       [4, 5, 6],\n",
              "       [7, 8, 9]])"
            ]
          },
          "metadata": {},
          "execution_count": 28
        }
      ]
    },
    {
      "cell_type": "code",
      "source": [
        "array2d[1][1] # bunday qilib ham "
      ],
      "metadata": {
        "colab": {
          "base_uri": "https://localhost:8080/"
        },
        "id": "bgLs2EgG6b1F",
        "outputId": "b50933a5-60e8-45ce-ccae-052516c9aa21"
      },
      "execution_count": 29,
      "outputs": [
        {
          "output_type": "execute_result",
          "data": {
            "text/plain": [
              "5"
            ]
          },
          "metadata": {},
          "execution_count": 29
        }
      ]
    },
    {
      "cell_type": "code",
      "source": [
        "array2d[1, 1]# bunday qilib ham eltariga murojaat qilish mumkin ekan"
      ],
      "metadata": {
        "colab": {
          "base_uri": "https://localhost:8080/"
        },
        "id": "Y_Wecyrt6nPz",
        "outputId": "4260a5f9-ac46-42a2-a116-b1e1bb97f923"
      },
      "execution_count": 31,
      "outputs": [
        {
          "output_type": "execute_result",
          "data": {
            "text/plain": [
              "5"
            ]
          },
          "metadata": {},
          "execution_count": 31
        }
      ]
    },
    {
      "cell_type": "code",
      "source": [
        "# Keling endi 2d massivlarda kesib olish qanday bo'lishini ko'rsak"
      ],
      "metadata": {
        "id": "-lPdl3rH68V3"
      },
      "execution_count": 32,
      "outputs": []
    },
    {
      "cell_type": "code",
      "source": [
        "sl_array2d = array2d[2, 1:3] # 2- qator 1-ustun eltidan 3)-ustun eltigacha(3 kirmidi) kesib olish\n",
        "sl_array2d"
      ],
      "metadata": {
        "colab": {
          "base_uri": "https://localhost:8080/"
        },
        "id": "tTnMhI9u60at",
        "outputId": "efc4aef6-0b18-4ff1-f3fa-fe35e56cf9f2"
      },
      "execution_count": 35,
      "outputs": [
        {
          "output_type": "execute_result",
          "data": {
            "text/plain": [
              "array([8, 9])"
            ]
          },
          "metadata": {},
          "execution_count": 35
        }
      ]
    },
    {
      "cell_type": "code",
      "source": [
        "# Yoki yuqoridagi kesishni quyidagicha ham qilish mumkin\n",
        "sl_array2d = array2d[2, 1:] # Bu esa 2-qator 1-ustun elti(1-eltdan) ohirigacha kesib ol\n",
        "# degan buyruq bo'ladi"
      ],
      "metadata": {
        "id": "IpLWO_ot7SAV"
      },
      "execution_count": 37,
      "outputs": []
    },
    {
      "cell_type": "code",
      "source": [
        "sl_array2d"
      ],
      "metadata": {
        "colab": {
          "base_uri": "https://localhost:8080/"
        },
        "id": "_YREBkcB7p_j",
        "outputId": "29f98e2b-1c26-4f0d-a2a3-bfc47a9573c8"
      },
      "execution_count": 38,
      "outputs": [
        {
          "output_type": "execute_result",
          "data": {
            "text/plain": [
              "array([8, 9])"
            ]
          },
          "metadata": {},
          "execution_count": 38
        }
      ]
    },
    {
      "cell_type": "code",
      "source": [
        "# Va yana keling quyidagi kesishlarni ham qilaylik"
      ],
      "metadata": {
        "id": "xG0QXa-L8JOA"
      },
      "execution_count": 39,
      "outputs": []
    },
    {
      "cell_type": "code",
      "source": [
        "sl_array2d1 = array2d[2, :]# array2d ni 2-qatorini hamma eltini kesib olish\n",
        "sl_array2d1"
      ],
      "metadata": {
        "colab": {
          "base_uri": "https://localhost:8080/"
        },
        "id": "BRF9c0CU8XXX",
        "outputId": "3d4bdaa7-7d57-4814-8191-6939ca3f099d"
      },
      "execution_count": 40,
      "outputs": [
        {
          "output_type": "execute_result",
          "data": {
            "text/plain": [
              "array([7, 8, 9])"
            ]
          },
          "metadata": {},
          "execution_count": 40
        }
      ]
    },
    {
      "cell_type": "code",
      "source": [
        "sl_array2d2 = array2d[:, :2]# array2d ni hamma qatorlaridagi 0-va 1-ustun eltlarigacha kesib olish\n",
        "sl_array2d2"
      ],
      "metadata": {
        "colab": {
          "base_uri": "https://localhost:8080/"
        },
        "id": "rGpZMz-58tw-",
        "outputId": "dd45277b-0860-4567-ace1-b830709f1bfa"
      },
      "execution_count": 42,
      "outputs": [
        {
          "output_type": "execute_result",
          "data": {
            "text/plain": [
              "array([[1, 2],\n",
              "       [4, 5],\n",
              "       [7, 8]])"
            ]
          },
          "metadata": {},
          "execution_count": 42
        }
      ]
    },
    {
      "cell_type": "code",
      "source": [
        "# III. 3D(3 0'lchovli massiv)larda indexlash va kesib olish, telegram \n",
        "# lazizbek_sadullaev da Abdulaziz aka uchun 3D ni qidirib rasmini ko'ring:\n",
        "# Quyidagi 3d arrayni qarimiz:"
      ],
      "metadata": {
        "id": "P6F6tKKT86J0"
      },
      "execution_count": 44,
      "outputs": []
    },
    {
      "cell_type": "code",
      "source": [
        "array3d = np.array([[[0, 1, 2],\n",
        "                     [3, 4, 5],  # Bu 2 o'lchovli masiv indexi 0\n",
        "                     [6, 7, 8]],\n",
        "                    \n",
        "                    [[9,10,11],\n",
        "                     [12,13,14], # Bu 2 o'lchovli masiv indexi 1\n",
        "                     [15,16,17]],\n",
        "                    \n",
        "                    [[18,19,20],\n",
        "                     [21,22,23], # Bu 2 o'lchovli masiv indexi 2\n",
        "                     [24,25,26]]])"
      ],
      "metadata": {
        "id": "YC1jPVab_4jd"
      },
      "execution_count": 45,
      "outputs": []
    },
    {
      "cell_type": "code",
      "source": [
        "array3d"
      ],
      "metadata": {
        "colab": {
          "base_uri": "https://localhost:8080/"
        },
        "id": "KFDOUBf6BUnp",
        "outputId": "028e51f5-8721-4db1-85be-db00b3e7f754"
      },
      "execution_count": 46,
      "outputs": [
        {
          "output_type": "execute_result",
          "data": {
            "text/plain": [
              "array([[[ 0,  1,  2],\n",
              "        [ 3,  4,  5],\n",
              "        [ 6,  7,  8]],\n",
              "\n",
              "       [[ 9, 10, 11],\n",
              "        [12, 13, 14],\n",
              "        [15, 16, 17]],\n",
              "\n",
              "       [[18, 19, 20],\n",
              "        [21, 22, 23],\n",
              "        [24, 25, 26]]])"
            ]
          },
          "metadata": {},
          "execution_count": 46
        }
      ]
    },
    {
      "cell_type": "code",
      "source": [
        "# Misol uchun keling 0 chi 2d masivimizga quyidagicha murojat qilamiz:\n",
        "array3d[0]"
      ],
      "metadata": {
        "colab": {
          "base_uri": "https://localhost:8080/"
        },
        "id": "DTOkCr9fBWaU",
        "outputId": "d8e853ae-17ef-4e4f-9d34-3f7721c77887"
      },
      "execution_count": 48,
      "outputs": [
        {
          "output_type": "execute_result",
          "data": {
            "text/plain": [
              "array([[0, 1, 2],\n",
              "       [3, 4, 5],\n",
              "       [6, 7, 8]])"
            ]
          },
          "metadata": {},
          "execution_count": 48
        }
      ]
    },
    {
      "cell_type": "code",
      "source": [
        "# Endi bu 2 o'lchovli massivni olib olganimizdan keyin uning hohlagan eltiga murojat qila olamiz, \n",
        "# Keling bu 0-qatlam massivining 5 qiymatli eltini qanday olib olamiz?"
      ],
      "metadata": {
        "id": "6hgZ1p1UCC2S"
      },
      "execution_count": 49,
      "outputs": []
    },
    {
      "cell_type": "code",
      "source": [
        "array3d[0][1, 2] # manosi 0-2d massivning 1-qator 2-ustun eltini olib ber degan yozuv"
      ],
      "metadata": {
        "colab": {
          "base_uri": "https://localhost:8080/"
        },
        "id": "7lGDGPfaCRf4",
        "outputId": "356f0338-9feb-43eb-e4ba-6451f0db55f0"
      },
      "execution_count": 50,
      "outputs": [
        {
          "output_type": "execute_result",
          "data": {
            "text/plain": [
              "5"
            ]
          },
          "metadata": {},
          "execution_count": 50
        }
      ]
    },
    {
      "cell_type": "code",
      "source": [
        "# Huddi shunday 1-, 2- qatlamdagi 2d massivlarga ham murojat qilishimz mumkin:"
      ],
      "metadata": {
        "id": "G7QynhFVCwLO"
      },
      "execution_count": 51,
      "outputs": []
    },
    {
      "cell_type": "code",
      "source": [
        "array3d[1][:2, 1:] # kesib olishni bajaraylik:"
      ],
      "metadata": {
        "colab": {
          "base_uri": "https://localhost:8080/"
        },
        "id": "14QxhzWxC6kO",
        "outputId": "61115471-67df-4f46-dce0-3f45991eacf6"
      },
      "execution_count": 52,
      "outputs": [
        {
          "output_type": "execute_result",
          "data": {
            "text/plain": [
              "array([[10, 11],\n",
              "       [13, 14]])"
            ]
          },
          "metadata": {},
          "execution_count": 52
        }
      ]
    },
    {
      "cell_type": "code",
      "source": [
        "# Just great!!!S"
      ],
      "metadata": {
        "id": "c7lkQVvPDJKW"
      },
      "execution_count": null,
      "outputs": []
    }
  ]
}