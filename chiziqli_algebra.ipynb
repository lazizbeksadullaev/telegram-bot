{
  "nbformat": 4,
  "nbformat_minor": 0,
  "metadata": {
    "colab": {
      "provenance": [],
      "collapsed_sections": [],
      "authorship_tag": "ABX9TyO8XKCQwvtheCZgg1f5/TAO",
      "include_colab_link": true
    },
    "kernelspec": {
      "name": "python3",
      "display_name": "Python 3"
    },
    "language_info": {
      "name": "python"
    }
  },
  "cells": [
    {
      "cell_type": "markdown",
      "metadata": {
        "id": "view-in-github",
        "colab_type": "text"
      },
      "source": [
        "<a href=\"https://colab.research.google.com/github/lazizbeksadullaev/telegram-bot/blob/main/chiziqli_algebra.ipynb\" target=\"_parent\"><img src=\"https://colab.research.google.com/assets/colab-badge.svg\" alt=\"Open In Colab\"/></a>"
      ]
    },
    {
      "cell_type": "code",
      "execution_count": 1,
      "metadata": {
        "id": "iUwguZCxAxvs"
      },
      "outputs": [],
      "source": [
        "# Matritsalar ustida amallar bilan tanishaylik"
      ]
    },
    {
      "cell_type": "code",
      "source": [
        "import numpy as np"
      ],
      "metadata": {
        "id": "XhzngcyKA6Xv"
      },
      "execution_count": 2,
      "outputs": []
    },
    {
      "cell_type": "code",
      "source": [
        "# data\n",
        "array1 = np.arange(1.,7.).reshape(2,3)# arange da float qilb bersak diapazonni \n",
        "# massivni ham float qilib yaratar ekan int qilsak in edi avalgi darslarimizda ko'rdik\n",
        "array1"
      ],
      "metadata": {
        "colab": {
          "base_uri": "https://localhost:8080/"
        },
        "id": "jBj9Rea6A76N",
        "outputId": "f184a40c-5051-44da-854e-bb55a7b78f2a"
      },
      "execution_count": 4,
      "outputs": [
        {
          "output_type": "execute_result",
          "data": {
            "text/plain": [
              "array([[1., 2., 3.],\n",
              "       [4., 5., 6.]])"
            ]
          },
          "metadata": {},
          "execution_count": 4
        }
      ]
    },
    {
      "cell_type": "code",
      "source": [
        "array2 = np.arange(7., 13.).reshape(2,3)\n",
        "array2"
      ],
      "metadata": {
        "colab": {
          "base_uri": "https://localhost:8080/"
        },
        "id": "nzwKQx7_BJ7k",
        "outputId": "e7e82079-cedc-4fb1-ca4b-8fca3b24fe73"
      },
      "execution_count": 7,
      "outputs": [
        {
          "output_type": "execute_result",
          "data": {
            "text/plain": [
              "array([[ 7.,  8.,  9.],\n",
              "       [10., 11., 12.]])"
            ]
          },
          "metadata": {},
          "execution_count": 7
        }
      ]
    },
    {
      "cell_type": "code",
      "source": [
        "array1+array2 # 2 matritsani bir biriga qo'shish"
      ],
      "metadata": {
        "colab": {
          "base_uri": "https://localhost:8080/"
        },
        "id": "2cEJ4fLnBw6u",
        "outputId": "fc3833a6-b445-4f6d-c4b0-aa4a53d9c506"
      },
      "execution_count": 8,
      "outputs": [
        {
          "output_type": "execute_result",
          "data": {
            "text/plain": [
              "array([[ 8., 10., 12.],\n",
              "       [14., 16., 18.]])"
            ]
          },
          "metadata": {},
          "execution_count": 8
        }
      ]
    },
    {
      "cell_type": "code",
      "source": [
        "array2-array1 # elementlararo ayirish"
      ],
      "metadata": {
        "colab": {
          "base_uri": "https://localhost:8080/"
        },
        "id": "Lq1yLoeFCCoi",
        "outputId": "2bd8c253-8bdd-4357-d83e-3f701d081230"
      },
      "execution_count": 9,
      "outputs": [
        {
          "output_type": "execute_result",
          "data": {
            "text/plain": [
              "array([[6., 6., 6.],\n",
              "       [6., 6., 6.]])"
            ]
          },
          "metadata": {},
          "execution_count": 9
        }
      ]
    },
    {
      "cell_type": "code",
      "source": [
        "array1*5 # skalyar ko'paytruv array1 ni 5 ga skalyar ko'paytrdik"
      ],
      "metadata": {
        "colab": {
          "base_uri": "https://localhost:8080/"
        },
        "id": "mnoFa61bCIMY",
        "outputId": "da924288-d026-4570-bd30-4eee964cc0a2"
      },
      "execution_count": 10,
      "outputs": [
        {
          "output_type": "execute_result",
          "data": {
            "text/plain": [
              "array([[ 5., 10., 15.],\n",
              "       [20., 25., 30.]])"
            ]
          },
          "metadata": {},
          "execution_count": 10
        }
      ]
    },
    {
      "cell_type": "code",
      "source": [
        "# matritsalarni ko'paytrish: nxm x mxp = [nxp] lik matritsa beradi\n",
        "# * belgi oddiy elementlararoko'paytrb beradi\n",
        "array1*array2"
      ],
      "metadata": {
        "colab": {
          "base_uri": "https://localhost:8080/"
        },
        "id": "AfL5ond_CQaK",
        "outputId": "e96921e0-128d-45a6-ac85-a8568513bb95"
      },
      "execution_count": 11,
      "outputs": [
        {
          "output_type": "execute_result",
          "data": {
            "text/plain": [
              "array([[ 7., 16., 27.],\n",
              "       [40., 55., 72.]])"
            ]
          },
          "metadata": {},
          "execution_count": 11
        }
      ]
    },
    {
      "cell_type": "code",
      "source": [
        "# lekin biz chiziqli algebradagi kabi ko'paytrish uchun\n",
        "# nxm x mxp = [nxp] lik matritsa beradi qoidaga tushadigan matritsalar \n",
        "# olishiumiz kere"
      ],
      "metadata": {
        "id": "dUe6FMaKC4ph"
      },
      "execution_count": 12,
      "outputs": []
    },
    {
      "cell_type": "code",
      "source": [
        "# array1.shape = (2,3) uchun array2 ni shapeni (3, 2) ga \n",
        "# almashtrib array3 ga yuklimiz:\n",
        "array3 = array2.reshape(3,2)"
      ],
      "metadata": {
        "id": "9cb7JXzWDF9o"
      },
      "execution_count": 20,
      "outputs": []
    },
    {
      "cell_type": "code",
      "source": [
        "array3"
      ],
      "metadata": {
        "colab": {
          "base_uri": "https://localhost:8080/"
        },
        "id": "dhoOrSilDWg4",
        "outputId": "f5918a1f-dbb4-4736-e9e0-93b8702cbc97"
      },
      "execution_count": 21,
      "outputs": [
        {
          "output_type": "execute_result",
          "data": {
            "text/plain": [
              "array([[ 7.,  8.],\n",
              "       [ 9., 10.],\n",
              "       [11., 12.]])"
            ]
          },
          "metadata": {},
          "execution_count": 21
        }
      ]
    },
    {
      "cell_type": "code",
      "source": [
        "array1.dot(array3) # dot product of array1 and array3-\n",
        "# -chiziqli algebradaki ko'paytrish(2x3) x (3x2)=(2x2) bo'aldi"
      ],
      "metadata": {
        "colab": {
          "base_uri": "https://localhost:8080/"
        },
        "id": "-igpMGJUDZY_",
        "outputId": "3b3a0ba3-d1e3-4c04-ea19-193b1cd21878"
      },
      "execution_count": 23,
      "outputs": [
        {
          "output_type": "execute_result",
          "data": {
            "text/plain": [
              "array([[ 58.,  64.],\n",
              "       [139., 154.]])"
            ]
          },
          "metadata": {},
          "execution_count": 23
        }
      ]
    },
    {
      "cell_type": "code",
      "source": [
        "# yuqoridagini bunday qilish ham mumkin\n",
        "np.dot(array1, array3)"
      ],
      "metadata": {
        "colab": {
          "base_uri": "https://localhost:8080/"
        },
        "id": "g_li_wRED-dY",
        "outputId": "72d4707e-86d6-4d93-e697-cca7790a843d"
      },
      "execution_count": 24,
      "outputs": [
        {
          "output_type": "execute_result",
          "data": {
            "text/plain": [
              "array([[ 58.,  64.],\n",
              "       [139., 154.]])"
            ]
          },
          "metadata": {},
          "execution_count": 24
        }
      ]
    },
    {
      "cell_type": "code",
      "source": [
        "np.dot(array3, array1)# (3x2) x (2x3) = (3x3)"
      ],
      "metadata": {
        "colab": {
          "base_uri": "https://localhost:8080/"
        },
        "id": "b_viDEkUERkV",
        "outputId": "69774d98-7d47-49c5-e3b8-9c93665b7323"
      },
      "execution_count": 25,
      "outputs": [
        {
          "output_type": "execute_result",
          "data": {
            "text/plain": [
              "array([[ 39.,  54.,  69.],\n",
              "       [ 49.,  68.,  87.],\n",
              "       [ 59.,  82., 105.]])"
            ]
          },
          "metadata": {},
          "execution_count": 25
        }
      ]
    },
    {
      "cell_type": "code",
      "source": [
        "import numpy as np"
      ],
      "metadata": {
        "id": "m4oi8nXrFaNZ"
      },
      "execution_count": null,
      "outputs": []
    },
    {
      "cell_type": "code",
      "source": [
        "# Numpyni ichida Linear algebra uchun alohida modul boni ham chqirib olishimz mumkin\n",
        "# linear algebr-linalg qilib import qilingan ekan numpyda \n",
        "from numpy.linalg import inv # bu bexto ishlayapti"
      ],
      "metadata": {
        "id": "xuZODQyhEhtt"
      },
      "execution_count": 27,
      "outputs": []
    },
    {
      "cell_type": "code",
      "source": [
        "from np.linalg import inv # modulenotfound error olyapti, chunki \n",
        "# numpy.linalg qilib chaqir deyapti. Lekin man numpy ni np qilib chaqirganmanku\n",
        "# nega np.lialg import xato beradi?"
      ],
      "metadata": {
        "id": "xm_ahGvWFHZ0"
      },
      "execution_count": null,
      "outputs": []
    },
    {
      "cell_type": "code",
      "source": [
        "inv(array1) # array1(2x3) ning inersion i teskarisini chiqarishi kere deb \n",
        "#  o'ylay olmaymiz chunki LinAlgError olamiz:  Last 2 dimensions of the array must be square"
      ],
      "metadata": {
        "id": "mWuO76zeGenl"
      },
      "execution_count": null,
      "outputs": []
    },
    {
      "cell_type": "code",
      "source": [
        "# Shu sabab square massiv yaratylik:\n",
        "array4 = np.arange(1,10).reshape(3,3)\n",
        "array4[0,0]=13\n",
        "array4"
      ],
      "metadata": {
        "colab": {
          "base_uri": "https://localhost:8080/"
        },
        "id": "jixtZwbNGnXh",
        "outputId": "4f2b421e-0342-466f-ecbe-d0d1b71946dc"
      },
      "execution_count": 34,
      "outputs": [
        {
          "output_type": "execute_result",
          "data": {
            "text/plain": [
              "array([[13,  2,  3],\n",
              "       [ 4,  5,  6],\n",
              "       [ 7,  8,  9]])"
            ]
          },
          "metadata": {},
          "execution_count": 34
        }
      ]
    },
    {
      "cell_type": "code",
      "source": [
        "inv(array4) # array4 ni teskarisini qaytaradi"
      ],
      "metadata": {
        "colab": {
          "base_uri": "https://localhost:8080/"
        },
        "id": "-RwGR3WnHMnZ",
        "outputId": "a3353b50-baea-4f66-d614-00eab810700c"
      },
      "execution_count": 35,
      "outputs": [
        {
          "output_type": "execute_result",
          "data": {
            "text/plain": [
              "array([[ 0.08333333, -0.16666667,  0.08333333],\n",
              "       [-0.16666667, -2.66666667,  1.83333333],\n",
              "       [ 0.08333333,  2.5       , -1.58333333]])"
            ]
          },
          "metadata": {},
          "execution_count": 35
        }
      ]
    },
    {
      "cell_type": "code",
      "source": [],
      "metadata": {
        "id": "uSyClVITHPFI"
      },
      "execution_count": null,
      "outputs": []
    }
  ]
}